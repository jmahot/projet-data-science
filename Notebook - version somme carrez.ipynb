{
 "cells": [
  {
   "cell_type": "markdown",
   "metadata": {},
   "source": [
    "### Import Source"
   ]
  },
  {
   "cell_type": "code",
   "execution_count": 215,
   "metadata": {},
   "outputs": [
    {
     "name": "stderr",
     "output_type": "stream",
     "text": [
      "C:\\Users\\Julie Mahot\\AppData\\Local\\Temp\\ipykernel_18760\\1671847934.py:4: DtypeWarning: Columns (14,18,23,24,26,28,29,31,32,33,41) have mixed types. Specify dtype option on import or set low_memory=False.\n",
      "  df=pd.read_csv(\"valeursfoncieres-2023.txt\",sep=\"|\")\n"
     ]
    }
   ],
   "source": [
    "import pandas as pd\n",
    "import numpy as np\n",
    "\n",
    "df=pd.read_csv(\"valeursfoncieres-2023.txt\",sep=\"|\")\n",
    "\n",
    "#df_bool=df.notnull()\n",
    "#df1=df[\"B/T/Q\"].unique()\n",
    "#df_btq=df[df[\"B/T/Q\"]]\n",
    "#print(df[\"B/T/Q\"].where(df[\"B/T/Q\"]==\"T\"))\n"
   ]
  },
  {
   "cell_type": "markdown",
   "metadata": {},
   "source": [
    "### Supprimer colonnes NaN"
   ]
  },
  {
   "cell_type": "code",
   "execution_count": 216,
   "metadata": {},
   "outputs": [],
   "source": [
    "df = df.dropna(axis = 1, how = 'all')"
   ]
  },
  {
   "cell_type": "code",
   "execution_count": null,
   "metadata": {},
   "outputs": [],
   "source": []
  },
  {
   "cell_type": "markdown",
   "metadata": {},
   "source": [
    "### Affichage"
   ]
  },
  {
   "cell_type": "code",
   "execution_count": 217,
   "metadata": {},
   "outputs": [
    {
     "data": {
      "text/plain": [
       "Index(['No disposition', 'Date mutation', 'Nature mutation', 'Valeur fonciere',\n",
       "       'No voie', 'B/T/Q', 'Type de voie', 'Code voie', 'Voie', 'Code postal',\n",
       "       'Commune', 'Code departement', 'Code commune', 'Prefixe de section',\n",
       "       'Section', 'No plan', 'No Volume', '1er lot',\n",
       "       'Surface Carrez du 1er lot', '2eme lot', 'Surface Carrez du 2eme lot',\n",
       "       '3eme lot', 'Surface Carrez du 3eme lot', '4eme lot',\n",
       "       'Surface Carrez du 4eme lot', '5eme lot', 'Surface Carrez du 5eme lot',\n",
       "       'Nombre de lots', 'Code type local', 'Type local',\n",
       "       'Surface reelle bati', 'Nombre pieces principales', 'Nature culture',\n",
       "       'Nature culture speciale', 'Surface terrain'],\n",
       "      dtype='object')"
      ]
     },
     "execution_count": 217,
     "metadata": {},
     "output_type": "execute_result"
    }
   ],
   "source": [
    "df.columns"
   ]
  },
  {
   "cell_type": "code",
   "execution_count": 218,
   "metadata": {},
   "outputs": [
    {
     "name": "stdout",
     "output_type": "stream",
     "text": [
      "   No disposition Date mutation Nature mutation Valeur fonciere  No voie  \\\n",
      "0               1    05/01/2023           Vente      1070000,00    184.0   \n",
      "1               1    05/01/2023           Vente      1070000,00    159.0   \n",
      "2               1    05/01/2023           Vente      1070000,00    159.0   \n",
      "3               1    03/01/2023           Vente       152200,00   2914.0   \n",
      "4               1    05/01/2023           Vente       269000,00    427.0   \n",
      "5               1    05/01/2023           Vente       269000,00    427.0   \n",
      "6               1    05/01/2023           Vente       269000,00    427.0   \n",
      "7               1    03/01/2023           Vente       770000,00    159.0   \n",
      "8               1    06/01/2023           Vente         6820,00      NaN   \n",
      "9               2    06/01/2023         Echange        10040,00      NaN   \n",
      "\n",
      "  B/T/Q Type de voie Code voie                Voie  Code postal  ... 5eme lot  \\\n",
      "0   NaN          ALL      0124          DES HETRES       1630.0  ...      NaN   \n",
      "1   NaN          ALL      0124          DES HETRES       1630.0  ...      NaN   \n",
      "2   NaN          ALL      0124          DES HETRES       1630.0  ...      NaN   \n",
      "3   NaN          RTE      0107           DE PONCIN       1450.0  ...      NaN   \n",
      "4     T          CHE      0040        DE L'AUBEPIN       1800.0  ...      NaN   \n",
      "5     T          CHE      0040        DE L'AUBEPIN       1800.0  ...      NaN   \n",
      "6     T          CHE      0040        DE L'AUBEPIN       1800.0  ...      NaN   \n",
      "7     A          RUE      0151  DU PARC DE VILLARD       1210.0  ...      NaN   \n",
      "8   NaN          NaN      B062       ETANG DU BOIS       1480.0  ...      NaN   \n",
      "9   NaN          NaN      B044        CARRE ROCHER       1500.0  ...      NaN   \n",
      "\n",
      "  Surface Carrez du 5eme lot  Nombre de lots  Code type local   Type local  \\\n",
      "0                        NaN               1              3.0   Dépendance   \n",
      "1                        NaN               1              3.0   Dépendance   \n",
      "2                        NaN               1              2.0  Appartement   \n",
      "3                        NaN               0              1.0       Maison   \n",
      "4                        NaN               0              1.0       Maison   \n",
      "5                        NaN               0              3.0   Dépendance   \n",
      "6                        NaN               0              3.0   Dépendance   \n",
      "7                        NaN               0              1.0       Maison   \n",
      "8                        NaN               0              NaN          NaN   \n",
      "9                        NaN               0              NaN          NaN   \n",
      "\n",
      "   Surface reelle bati Nombre pieces principales Nature culture  \\\n",
      "0                  0.0                       0.0            NaN   \n",
      "1                  0.0                       0.0            NaN   \n",
      "2                233.0                       8.0            NaN   \n",
      "3                 64.0                       3.0              S   \n",
      "4                 73.0                       3.0              S   \n",
      "5                  0.0                       0.0              S   \n",
      "6                  0.0                       0.0              S   \n",
      "7                136.0                       7.0              S   \n",
      "8                  NaN                       NaN              T   \n",
      "9                  NaN                       NaN             BT   \n",
      "\n",
      "  Nature culture speciale Surface terrain  \n",
      "0                     NaN             NaN  \n",
      "1                     NaN             NaN  \n",
      "2                     NaN             NaN  \n",
      "3                     NaN           988.0  \n",
      "4                     NaN           835.0  \n",
      "5                     NaN           835.0  \n",
      "6                     NaN           835.0  \n",
      "7                     NaN           921.0  \n",
      "8                     NaN         17050.0  \n",
      "9                     NaN           124.0  \n",
      "\n",
      "[10 rows x 35 columns]\n"
     ]
    }
   ],
   "source": [
    "print(df.head(10))"
   ]
  },
  {
   "cell_type": "code",
   "execution_count": 219,
   "metadata": {},
   "outputs": [
    {
     "name": "stdout",
     "output_type": "stream",
     "text": [
      "<class 'pandas.core.frame.DataFrame'>\n",
      "RangeIndex: 3727005 entries, 0 to 3727004\n",
      "Data columns (total 35 columns):\n",
      " #   Column                      Dtype  \n",
      "---  ------                      -----  \n",
      " 0   No disposition              int64  \n",
      " 1   Date mutation               object \n",
      " 2   Nature mutation             object \n",
      " 3   Valeur fonciere             object \n",
      " 4   No voie                     float64\n",
      " 5   B/T/Q                       object \n",
      " 6   Type de voie                object \n",
      " 7   Code voie                   object \n",
      " 8   Voie                        object \n",
      " 9   Code postal                 float64\n",
      " 10  Commune                     object \n",
      " 11  Code departement            object \n",
      " 12  Code commune                int64  \n",
      " 13  Prefixe de section          float64\n",
      " 14  Section                     object \n",
      " 15  No plan                     int64  \n",
      " 16  No Volume                   object \n",
      " 17  1er lot                     object \n",
      " 18  Surface Carrez du 1er lot   object \n",
      " 19  2eme lot                    object \n",
      " 20  Surface Carrez du 2eme lot  object \n",
      " 21  3eme lot                    object \n",
      " 22  Surface Carrez du 3eme lot  object \n",
      " 23  4eme lot                    float64\n",
      " 24  Surface Carrez du 4eme lot  object \n",
      " 25  5eme lot                    object \n",
      " 26  Surface Carrez du 5eme lot  object \n",
      " 27  Nombre de lots              int64  \n",
      " 28  Code type local             float64\n",
      " 29  Type local                  object \n",
      " 30  Surface reelle bati         float64\n",
      " 31  Nombre pieces principales   float64\n",
      " 32  Nature culture              object \n",
      " 33  Nature culture speciale     object \n",
      " 34  Surface terrain             float64\n",
      "dtypes: float64(8), int64(4), object(23)\n",
      "memory usage: 995.2+ MB\n",
      "None\n"
     ]
    }
   ],
   "source": [
    "print(df.info())"
   ]
  },
  {
   "cell_type": "markdown",
   "metadata": {},
   "source": [
    "### Changement Types"
   ]
  },
  {
   "cell_type": "code",
   "execution_count": 223,
   "metadata": {},
   "outputs": [],
   "source": [
    "# Changement Type Adresse\n",
    "colonnes_to_convert = ['Code postal', 'Nombre pieces principales']\n",
    "\n",
    "for column in colonnes_to_convert:\n",
    "        df[column] = pd.to_numeric(df[column])\n",
    "\n",
    "#Changement Type en int des codes N°\n",
    "df = df.astype({\n",
    "    'Code postal' : 'Int64',\n",
    "    'Nombre pieces principales' :'Int64',\n",
    "})"
   ]
  },
  {
   "cell_type": "code",
   "execution_count": 224,
   "metadata": {},
   "outputs": [
    {
     "name": "stdout",
     "output_type": "stream",
     "text": [
      "<class 'pandas.core.frame.DataFrame'>\n",
      "RangeIndex: 3727005 entries, 0 to 3727004\n",
      "Data columns (total 35 columns):\n",
      " #   Column                      Dtype  \n",
      "---  ------                      -----  \n",
      " 0   No disposition              int64  \n",
      " 1   Date mutation               object \n",
      " 2   Nature mutation             object \n",
      " 3   Valeur fonciere             object \n",
      " 4   No voie                     float64\n",
      " 5   B/T/Q                       object \n",
      " 6   Type de voie                object \n",
      " 7   Code voie                   object \n",
      " 8   Voie                        object \n",
      " 9   Code postal                 Int64  \n",
      " 10  Commune                     object \n",
      " 11  Code departement            object \n",
      " 12  Code commune                int64  \n",
      " 13  Prefixe de section          float64\n",
      " 14  Section                     object \n",
      " 15  No plan                     int64  \n",
      " 16  No Volume                   object \n",
      " 17  1er lot                     object \n",
      " 18  Surface Carrez du 1er lot   object \n",
      " 19  2eme lot                    object \n",
      " 20  Surface Carrez du 2eme lot  object \n",
      " 21  3eme lot                    object \n",
      " 22  Surface Carrez du 3eme lot  object \n",
      " 23  4eme lot                    float64\n",
      " 24  Surface Carrez du 4eme lot  object \n",
      " 25  5eme lot                    object \n",
      " 26  Surface Carrez du 5eme lot  object \n",
      " 27  Nombre de lots              int64  \n",
      " 28  Code type local             float64\n",
      " 29  Type local                  object \n",
      " 30  Surface reelle bati         float64\n",
      " 31  Nombre pieces principales   Int64  \n",
      " 32  Nature culture              object \n",
      " 33  Nature culture speciale     object \n",
      " 34  Surface terrain             float64\n",
      "dtypes: Int64(2), float64(6), int64(4), object(23)\n",
      "memory usage: 1002.3+ MB\n"
     ]
    }
   ],
   "source": [
    "df.info()"
   ]
  },
  {
   "cell_type": "code",
   "execution_count": 225,
   "metadata": {},
   "outputs": [],
   "source": [
    "# Changement Type Valeur foncière\n",
    "df[\"Valeur fonciere\"] = pd.to_numeric(df['Valeur fonciere'].str.replace(',', '.'))"
   ]
  },
  {
   "cell_type": "code",
   "execution_count": 226,
   "metadata": {},
   "outputs": [],
   "source": [
    "# Changement Type surfaces carrez des lots\n",
    "colonnes_surfacecarrez = [\n",
    "    'Surface Carrez du 1er lot', 'Surface Carrez du 2eme lot', \n",
    "    'Surface Carrez du 3eme lot', 'Surface Carrez du 4eme lot', \n",
    "    'Surface Carrez du 5eme lot'\n",
    "]\n",
    "\n",
    "for col in colonnes_surfacecarrez:\n",
    "    df[col] = pd.to_numeric(df[col].str.replace(',', '.'))"
   ]
  },
  {
   "cell_type": "code",
   "execution_count": 227,
   "metadata": {},
   "outputs": [
    {
     "name": "stdout",
     "output_type": "stream",
     "text": [
      "62         20.10\n",
      "63         76.94\n",
      "64         76.94\n",
      "99         13.00\n",
      "100        53.00\n",
      "           ...  \n",
      "3726980    27.50\n",
      "3726981    27.50\n",
      "3726982    73.00\n",
      "3726983    73.00\n",
      "3726988    25.08\n",
      "Name: Surface Carrez du 1er lot, Length: 330096, dtype: float64\n"
     ]
    }
   ],
   "source": [
    "df['Surface Carrez du 1er lot'] = df['Surface Carrez du 1er lot'].fillna(0)\n",
    "\n",
    "# Filtrer les lignes où c'est différent de 0\n",
    "df_filtre = df[df['Surface Carrez du 1er lot'] != 0]\n",
    "print(df_filtre['Surface Carrez du 1er lot'])"
   ]
  },
  {
   "cell_type": "code",
   "execution_count": 228,
   "metadata": {},
   "outputs": [
    {
     "name": "stdout",
     "output_type": "stream",
     "text": [
      "<class 'pandas.core.frame.DataFrame'>\n",
      "RangeIndex: 3727005 entries, 0 to 3727004\n",
      "Data columns (total 35 columns):\n",
      " #   Column                      Dtype  \n",
      "---  ------                      -----  \n",
      " 0   No disposition              int64  \n",
      " 1   Date mutation               object \n",
      " 2   Nature mutation             object \n",
      " 3   Valeur fonciere             float64\n",
      " 4   No voie                     float64\n",
      " 5   B/T/Q                       object \n",
      " 6   Type de voie                object \n",
      " 7   Code voie                   object \n",
      " 8   Voie                        object \n",
      " 9   Code postal                 Int64  \n",
      " 10  Commune                     object \n",
      " 11  Code departement            object \n",
      " 12  Code commune                int64  \n",
      " 13  Prefixe de section          float64\n",
      " 14  Section                     object \n",
      " 15  No plan                     int64  \n",
      " 16  No Volume                   object \n",
      " 17  1er lot                     object \n",
      " 18  Surface Carrez du 1er lot   float64\n",
      " 19  2eme lot                    object \n",
      " 20  Surface Carrez du 2eme lot  float64\n",
      " 21  3eme lot                    object \n",
      " 22  Surface Carrez du 3eme lot  float64\n",
      " 23  4eme lot                    float64\n",
      " 24  Surface Carrez du 4eme lot  float64\n",
      " 25  5eme lot                    object \n",
      " 26  Surface Carrez du 5eme lot  float64\n",
      " 27  Nombre de lots              int64  \n",
      " 28  Code type local             float64\n",
      " 29  Type local                  object \n",
      " 30  Surface reelle bati         float64\n",
      " 31  Nombre pieces principales   Int64  \n",
      " 32  Nature culture              object \n",
      " 33  Nature culture speciale     object \n",
      " 34  Surface terrain             float64\n",
      "dtypes: Int64(2), float64(12), int64(4), object(17)\n",
      "memory usage: 1002.3+ MB\n",
      "None\n"
     ]
    }
   ],
   "source": [
    "print(df.info())"
   ]
  },
  {
   "cell_type": "markdown",
   "metadata": {},
   "source": [
    "### Drop Colonnes"
   ]
  },
  {
   "cell_type": "code",
   "execution_count": 229,
   "metadata": {},
   "outputs": [
    {
     "data": {
      "text/plain": [
       "Index(['No disposition', 'Date mutation', 'Nature mutation', 'Valeur fonciere',\n",
       "       'No voie', 'B/T/Q', 'Type de voie', 'Code voie', 'Voie', 'Code postal',\n",
       "       'Commune', 'Code departement', 'Code commune', 'Prefixe de section',\n",
       "       'Section', 'No plan', 'No Volume', '1er lot',\n",
       "       'Surface Carrez du 1er lot', '2eme lot', 'Surface Carrez du 2eme lot',\n",
       "       '3eme lot', 'Surface Carrez du 3eme lot', '4eme lot',\n",
       "       'Surface Carrez du 4eme lot', '5eme lot', 'Surface Carrez du 5eme lot',\n",
       "       'Nombre de lots', 'Code type local', 'Type local',\n",
       "       'Surface reelle bati', 'Nombre pieces principales', 'Nature culture',\n",
       "       'Nature culture speciale', 'Surface terrain'],\n",
       "      dtype='object')"
      ]
     },
     "execution_count": 229,
     "metadata": {},
     "output_type": "execute_result"
    }
   ],
   "source": [
    "df.columns"
   ]
  },
  {
   "cell_type": "code",
   "execution_count": 235,
   "metadata": {},
   "outputs": [
    {
     "name": "stdout",
     "output_type": "stream",
     "text": [
      "         No disposition Date mutation Nature mutation  Valeur fonciere  \\\n",
      "0                     1    05/01/2023           Vente        1070000.0   \n",
      "1                     1    05/01/2023           Vente        1070000.0   \n",
      "2                     1    05/01/2023           Vente        1070000.0   \n",
      "3                     1    03/01/2023           Vente         152200.0   \n",
      "4                     1    05/01/2023           Vente         269000.0   \n",
      "...                 ...           ...             ...              ...   \n",
      "3727000               1    05/10/2023    Adjudication        3931000.0   \n",
      "3727001               1    05/10/2023    Adjudication        3931000.0   \n",
      "3727002               1    05/10/2023    Adjudication        3931000.0   \n",
      "3727003               1    28/12/2023           Vente          98250.0   \n",
      "3727004               1    28/12/2023           Vente          98250.0   \n",
      "\n",
      "         No voie B/T/Q Type de voie Code voie               Voie  Code postal  \\\n",
      "0          184.0   NaN          ALL      0124         DES HETRES         1630   \n",
      "1          159.0   NaN          ALL      0124         DES HETRES         1630   \n",
      "2          159.0   NaN          ALL      0124         DES HETRES         1630   \n",
      "3         2914.0   NaN          RTE      0107          DE PONCIN         1450   \n",
      "4          427.0     T          CHE      0040       DE L'AUBEPIN         1800   \n",
      "...          ...   ...          ...       ...                ...          ...   \n",
      "3727000     39.0   NaN           AV    1832.0    CHARLES FLOQUET        75007   \n",
      "3727001     39.0   NaN           AV    1832.0    CHARLES FLOQUET        75007   \n",
      "3727002     39.0   NaN           AV    1832.0    CHARLES FLOQUET        75007   \n",
      "3727003     66.0     B          RUE    8892.0  SEBASTIEN MERCIER        75015   \n",
      "3727004     66.0     B          RUE    8892.0  SEBASTIEN MERCIER        75015   \n",
      "\n",
      "         ... 5eme lot Surface Carrez du 5eme lot  Nombre de lots  \\\n",
      "0        ...      NaN                        NaN               1   \n",
      "1        ...      NaN                        NaN               1   \n",
      "2        ...      NaN                        NaN               1   \n",
      "3        ...      NaN                        NaN               0   \n",
      "4        ...      NaN                        NaN               0   \n",
      "...      ...      ...                        ...             ...   \n",
      "3727000  ...      NaN                        NaN               1   \n",
      "3727001  ...      NaN                        NaN               1   \n",
      "3727002  ...      NaN                        NaN               1   \n",
      "3727003  ...      NaN                        NaN               1   \n",
      "3727004  ...      NaN                        NaN               1   \n",
      "\n",
      "         Code type local   Type local  Surface reelle bati  \\\n",
      "0                    3.0   Dépendance                  0.0   \n",
      "1                    3.0   Dépendance                  0.0   \n",
      "2                    2.0  Appartement                233.0   \n",
      "3                    1.0       Maison                 64.0   \n",
      "4                    1.0       Maison                 73.0   \n",
      "...                  ...          ...                  ...   \n",
      "3727000              3.0   Dépendance                  0.0   \n",
      "3727001              3.0   Dépendance                  0.0   \n",
      "3727002              3.0   Dépendance                  0.0   \n",
      "3727003              3.0   Dépendance                  0.0   \n",
      "3727004              2.0  Appartement                 18.0   \n",
      "\n",
      "        Nombre pieces principales Nature culture  Nature culture speciale  \\\n",
      "0                               0            NaN                      NaN   \n",
      "1                               0            NaN                      NaN   \n",
      "2                               8            NaN                      NaN   \n",
      "3                               3              S                      NaN   \n",
      "4                               3              S                      NaN   \n",
      "...                           ...            ...                      ...   \n",
      "3727000                         0            NaN                      NaN   \n",
      "3727001                         0            NaN                      NaN   \n",
      "3727002                         0            NaN                      NaN   \n",
      "3727003                         0            NaN                      NaN   \n",
      "3727004                         1            NaN                      NaN   \n",
      "\n",
      "        Surface terrain  \n",
      "0                   NaN  \n",
      "1                   NaN  \n",
      "2                   NaN  \n",
      "3                 988.0  \n",
      "4                 835.0  \n",
      "...                 ...  \n",
      "3727000             NaN  \n",
      "3727001             NaN  \n",
      "3727002             NaN  \n",
      "3727003             NaN  \n",
      "3727004             NaN  \n",
      "\n",
      "[3727005 rows x 35 columns]\n"
     ]
    }
   ],
   "source": [
    "print(df)"
   ]
  },
  {
   "cell_type": "code",
   "execution_count": 236,
   "metadata": {},
   "outputs": [
    {
     "name": "stdout",
     "output_type": "stream",
     "text": [
      "        Date mutation Nature mutation  Valeur fonciere B/T/Q Type de voie  \\\n",
      "0          05/01/2023           Vente        1070000.0   NaN          ALL   \n",
      "1          05/01/2023           Vente        1070000.0   NaN          ALL   \n",
      "2          05/01/2023           Vente        1070000.0   NaN          ALL   \n",
      "3          03/01/2023           Vente         152200.0   NaN          RTE   \n",
      "4          05/01/2023           Vente         269000.0     T          CHE   \n",
      "...               ...             ...              ...   ...          ...   \n",
      "3727000    05/10/2023    Adjudication        3931000.0   NaN           AV   \n",
      "3727001    05/10/2023    Adjudication        3931000.0   NaN           AV   \n",
      "3727002    05/10/2023    Adjudication        3931000.0   NaN           AV   \n",
      "3727003    28/12/2023           Vente          98250.0     B          RUE   \n",
      "3727004    28/12/2023           Vente          98250.0     B          RUE   \n",
      "\n",
      "        Code voie               Voie  Code postal              Commune  \\\n",
      "0            0124         DES HETRES         1630     ST-GENIS-POUILLY   \n",
      "1            0124         DES HETRES         1630     ST-GENIS-POUILLY   \n",
      "2            0124         DES HETRES         1630     ST-GENIS-POUILLY   \n",
      "3            0107          DE PONCIN         1450    SERRIERES-SUR-AIN   \n",
      "4            0040       DE L'AUBEPIN         1800  SAINT-JEAN-DE-NIOST   \n",
      "...           ...                ...          ...                  ...   \n",
      "3727000    1832.0    CHARLES FLOQUET        75007             PARIS 07   \n",
      "3727001    1832.0    CHARLES FLOQUET        75007             PARIS 07   \n",
      "3727002    1832.0    CHARLES FLOQUET        75007             PARIS 07   \n",
      "3727003    8892.0  SEBASTIEN MERCIER        75015             PARIS 15   \n",
      "3727004    8892.0  SEBASTIEN MERCIER        75015             PARIS 15   \n",
      "\n",
      "        Code departement  ...  Surface Carrez du 1er lot  \\\n",
      "0                      1  ...                        0.0   \n",
      "1                      1  ...                        0.0   \n",
      "2                      1  ...                        0.0   \n",
      "3                      1  ...                        0.0   \n",
      "4                      1  ...                        0.0   \n",
      "...                  ...  ...                        ...   \n",
      "3727000               75  ...                        0.0   \n",
      "3727001               75  ...                        0.0   \n",
      "3727002               75  ...                        0.0   \n",
      "3727003               75  ...                        0.0   \n",
      "3727004               75  ...                        0.0   \n",
      "\n",
      "        Surface Carrez du 2eme lot  Surface Carrez du 3eme lot  \\\n",
      "0                              NaN                         NaN   \n",
      "1                              NaN                         NaN   \n",
      "2                              NaN                         NaN   \n",
      "3                              NaN                         NaN   \n",
      "4                              NaN                         NaN   \n",
      "...                            ...                         ...   \n",
      "3727000                        NaN                         NaN   \n",
      "3727001                        NaN                         NaN   \n",
      "3727002                        NaN                         NaN   \n",
      "3727003                        NaN                         NaN   \n",
      "3727004                        NaN                         NaN   \n",
      "\n",
      "         Surface Carrez du 4eme lot  Surface Carrez du 5eme lot  \\\n",
      "0                               NaN                         NaN   \n",
      "1                               NaN                         NaN   \n",
      "2                               NaN                         NaN   \n",
      "3                               NaN                         NaN   \n",
      "4                               NaN                         NaN   \n",
      "...                             ...                         ...   \n",
      "3727000                         NaN                         NaN   \n",
      "3727001                         NaN                         NaN   \n",
      "3727002                         NaN                         NaN   \n",
      "3727003                         NaN                         NaN   \n",
      "3727004                         NaN                         NaN   \n",
      "\n",
      "         Nombre de lots   Type local  Surface reelle bati  \\\n",
      "0                     1   Dépendance                  0.0   \n",
      "1                     1   Dépendance                  0.0   \n",
      "2                     1  Appartement                233.0   \n",
      "3                     0       Maison                 64.0   \n",
      "4                     0       Maison                 73.0   \n",
      "...                 ...          ...                  ...   \n",
      "3727000               1   Dépendance                  0.0   \n",
      "3727001               1   Dépendance                  0.0   \n",
      "3727002               1   Dépendance                  0.0   \n",
      "3727003               1   Dépendance                  0.0   \n",
      "3727004               1  Appartement                 18.0   \n",
      "\n",
      "        Nombre pieces principales  Surface terrain  \n",
      "0                               0              NaN  \n",
      "1                               0              NaN  \n",
      "2                               8              NaN  \n",
      "3                               3            988.0  \n",
      "4                               3            835.0  \n",
      "...                           ...              ...  \n",
      "3727000                         0              NaN  \n",
      "3727001                         0              NaN  \n",
      "3727002                         0              NaN  \n",
      "3727003                         0              NaN  \n",
      "3727004                         1              NaN  \n",
      "\n",
      "[3727005 rows x 22 columns]\n"
     ]
    }
   ],
   "source": [
    "colonnes_to_drop = ['No disposition','No voie', 'Prefixe de section', 'Section', 'No plan', '1er lot', '2eme lot', '3eme lot',  '4eme lot', '5eme lot', 'Code type local', 'Nature culture', 'Nature culture speciale']\n",
    "df = df.drop(columns=colonnes_to_drop)\n",
    "\n",
    "print(df)"
   ]
  },
  {
   "cell_type": "markdown",
   "metadata": {},
   "source": [
    "### Remplacer valeurs manquantes (pour les surfaces carrez)"
   ]
  },
  {
   "cell_type": "code",
   "execution_count": 238,
   "metadata": {},
   "outputs": [
    {
     "name": "stdout",
     "output_type": "stream",
     "text": [
      "[  0.    20.1   76.94 ... 403.76 199.38 175.58]\n"
     ]
    }
   ],
   "source": [
    "# Avant\n",
    "SurfCarrez1 = df['Surface Carrez du 1er lot'].unique()\n",
    "print(SurfCarrez1) # on voit qu'il y a des valeurs manquantes\n",
    "# pareil pour 'Surface Carrez du 2eme lot', 'Surface Carrez du 3eme lot', 'Surface Carrez du 4eme lot', 'Surface Carrez du 5eme lot'"
   ]
  },
  {
   "cell_type": "code",
   "execution_count": 239,
   "metadata": {},
   "outputs": [
    {
     "name": "stdout",
     "output_type": "stream",
     "text": [
      "[  0.    20.1   76.94 ... 403.76 199.38 175.58]\n"
     ]
    }
   ],
   "source": [
    "# Après\n",
    "df[['Surface Carrez du 1er lot', 'Surface Carrez du 2eme lot', 'Surface Carrez du 3eme lot', 'Surface Carrez du 4eme lot', 'Surface Carrez du 5eme lot']] = df[['Surface Carrez du 1er lot', 'Surface Carrez du 2eme lot', 'Surface Carrez du 3eme lot', 'Surface Carrez du 4eme lot', 'Surface Carrez du 5eme lot']].fillna(0)\n",
    "SurfCarrez1_sansNaN = df['Surface Carrez du 1er lot'].unique()\n",
    "print(SurfCarrez1_sansNaN)"
   ]
  },
  {
   "cell_type": "markdown",
   "metadata": {},
   "source": [
    "### Somme Surface Carrez"
   ]
  },
  {
   "cell_type": "code",
   "execution_count": 240,
   "metadata": {},
   "outputs": [
    {
     "name": "stdout",
     "output_type": "stream",
     "text": [
      "<class 'pandas.core.frame.DataFrame'>\n",
      "RangeIndex: 3727005 entries, 0 to 3727004\n",
      "Data columns (total 5 columns):\n",
      " #   Column                      Dtype  \n",
      "---  ------                      -----  \n",
      " 0   Surface Carrez du 1er lot   float64\n",
      " 1   Surface Carrez du 2eme lot  float64\n",
      " 2   Surface Carrez du 3eme lot  float64\n",
      " 3   Surface Carrez du 4eme lot  float64\n",
      " 4   Surface Carrez du 5eme lot  float64\n",
      "dtypes: float64(5)\n",
      "memory usage: 142.2 MB\n",
      "None\n",
      "    Surface Carrez total\n",
      "0                   0.00\n",
      "1                   0.00\n",
      "2                   0.00\n",
      "3                   0.00\n",
      "4                   0.00\n",
      "..                   ...\n",
      "60                  0.00\n",
      "61                  0.00\n",
      "62                 20.10\n",
      "63                 76.94\n",
      "64                 76.94\n",
      "\n",
      "[65 rows x 1 columns]\n"
     ]
    }
   ],
   "source": [
    "print(df[['Surface Carrez du 1er lot', 'Surface Carrez du 2eme lot', 'Surface Carrez du 3eme lot', 'Surface Carrez du 4eme lot', 'Surface Carrez du 5eme lot']].info())\n",
    "\n",
    "df['Surface Carrez total'] = df[colonnes_surfacecarrez].sum(axis=1)\n",
    "\n",
    "print(df[['Surface Carrez total']].head(65))"
   ]
  },
  {
   "cell_type": "code",
   "execution_count": 241,
   "metadata": {},
   "outputs": [
    {
     "name": "stdout",
     "output_type": "stream",
     "text": [
      "[  0.    20.1   76.94 ... 403.76 199.38 175.58]\n"
     ]
    }
   ],
   "source": [
    "print(df['Surface Carrez du 1er lot'].unique())"
   ]
  },
  {
   "cell_type": "code",
   "execution_count": 242,
   "metadata": {},
   "outputs": [
    {
     "name": "stdout",
     "output_type": "stream",
     "text": [
      "(330096,)\n"
     ]
    }
   ],
   "source": [
    "#supprimons les lignes qui ont 0\n",
    "df['Surface Carrez du 1er lot'] = df['Surface Carrez du 1er lot'].fillna(0)\n",
    "\n",
    "# Filtrer les lignes où c'est différent de 0\n",
    "df_filtre = df[df['Surface Carrez du 1er lot'] != 0]\n",
    "print(df_filtre['Surface Carrez du 1er lot'].shape)"
   ]
  },
  {
   "cell_type": "code",
   "execution_count": 243,
   "metadata": {},
   "outputs": [
    {
     "name": "stdout",
     "output_type": "stream",
     "text": [
      "62         20.10\n",
      "63         76.94\n",
      "64         76.94\n",
      "89         87.00\n",
      "90         87.00\n",
      "           ...  \n",
      "3726982    73.00\n",
      "3726983    73.00\n",
      "3726985    65.05\n",
      "3726986    65.05\n",
      "3726988    25.08\n",
      "Name: Surface Carrez total, Length: 445692, dtype: float64\n"
     ]
    }
   ],
   "source": [
    "df['Surface Carrez total'] = df['Surface Carrez total'].fillna(0)\n",
    "df_surfaceCarrez = df[df['Surface Carrez total'] != 0]\n",
    "print(df_surfaceCarrez['Surface Carrez total'])"
   ]
  },
  {
   "cell_type": "markdown",
   "metadata": {},
   "source": [
    "### Drop colonnes surface carrez des lots"
   ]
  },
  {
   "cell_type": "code",
   "execution_count": 244,
   "metadata": {},
   "outputs": [],
   "source": [
    "df=df.drop(columns=colonnes_surfacecarrez)"
   ]
  },
  {
   "cell_type": "code",
   "execution_count": 245,
   "metadata": {},
   "outputs": [
    {
     "name": "stdout",
     "output_type": "stream",
     "text": [
      "Index(['Date mutation', 'Nature mutation', 'Valeur fonciere', 'B/T/Q',\n",
      "       'Type de voie', 'Code voie', 'Voie', 'Code postal', 'Commune',\n",
      "       'Code departement', 'Code commune', 'No Volume', 'Nombre de lots',\n",
      "       'Type local', 'Surface reelle bati', 'Nombre pieces principales',\n",
      "       'Surface terrain', 'Surface Carrez total'],\n",
      "      dtype='object')\n"
     ]
    }
   ],
   "source": [
    "print(df.columns)"
   ]
  },
  {
   "cell_type": "code",
   "execution_count": 246,
   "metadata": {},
   "outputs": [
    {
     "name": "stdout",
     "output_type": "stream",
     "text": [
      "(3727005, 18)\n"
     ]
    }
   ],
   "source": [
    "print(df.shape)"
   ]
  },
  {
   "cell_type": "markdown",
   "metadata": {},
   "source": [
    "### Fusion Adresse"
   ]
  },
  {
   "cell_type": "markdown",
   "metadata": {},
   "source": [
    "Valeurs manquantes"
   ]
  },
  {
   "cell_type": "code",
   "execution_count": 247,
   "metadata": {},
   "outputs": [],
   "source": [
    "df[['Code voie', 'B/T/Q','Type de voie','Voie', 'Code postal', 'Commune']] = df[['Code voie', 'B/T/Q','Type de voie','Voie', 'Code postal', 'Commune']].astype(str).fillna('')\n",
    "df[['Code voie', 'B/T/Q','Type de voie','Voie', 'Code postal', 'Commune']] = df[['Code voie', 'B/T/Q','Type de voie','Voie', 'Code postal', 'Commune']].replace('nan', '')"
   ]
  },
  {
   "cell_type": "code",
   "execution_count": 248,
   "metadata": {},
   "outputs": [
    {
     "name": "stdout",
     "output_type": "stream",
     "text": [
      "['' 'T' 'A' 'B' '2' 'D' 'G' 'C' 'F' 'Z' 'Q' 'E' 'H' 'J' 'I' 'N' 'L' 'P'\n",
      " 'O' 'R' 'W' 'Y' '1' 'M' 'X' 'K' 'U' 'V' '7' '3' 'S' '5' '9' '4' '0' '8'\n",
      " '6' '*' '-' '.']\n",
      "['0124' '0107' '0040' ... '7036.0' '7968.0' '1996.0']\n",
      "['ALL' 'RTE' 'CHE' 'RUE' '' 'AV' 'IMP' 'BD' 'CHEM' 'QUAI' 'VC' 'GR' 'PL'\n",
      " 'LOT' 'MTE' 'CRS' 'FG' 'CLOS' 'D' 'PAS' 'VOIE' 'RLE' 'RUET' 'PTR' 'PARC'\n",
      " 'PROM' 'RES' 'MAIL' 'COUR' 'COTE' 'PCH' 'CITE' 'PLA' 'HAM' 'PRT' 'ZA'\n",
      " 'VCHE' 'GPL' 'ZI' 'SQ' 'SEN' 'CHS' 'CR' 'QUA' 'REM' 'FRM' 'N' 'RPT' 'VLA'\n",
      " 'RPE' 'ZAC' 'PTE' 'ECL' 'ESPA' 'VGE' 'TRA' 'PASS' 'CD' 'DOM' 'DIG' 'ESC'\n",
      " 'VTE' 'DRA' 'COR' 'ESP' 'ART' 'GAL' 'HLM' 'VALL' 'ACH' 'ILOT' 'CAMI'\n",
      " 'CAE' 'BRTL' 'PLE' 'PTTE' 'PAE' 'DSC' 'CALL' 'TSSE' 'VAL' 'RTD' 'CAR'\n",
      " 'RIVE' 'VEN' 'ZONE' 'CHT' 'AUT' 'ENC' 'AGL' 'CTRE' 'CPG' 'PORT' 'MAIS'\n",
      " 'PLAN' 'TOUR' 'PLAG' 'MAR' 'CC' 'HAB' 'EMBR' 'PONT' 'ROC' 'CAN' 'CHV'\n",
      " 'CRX' 'BSN' 'ZAD' 'VIL' 'LEVE' 'PRV' 'PLCI' 'PKG' 'VIA' 'CF' 'PIST' 'CTR'\n",
      " 'TRT' 'RAC' 'BER' 'PLT' 'BRG' 'CORO' 'VOIR' 'CASR' 'BRE' 'NTE' 'CHL'\n",
      " 'CLR' 'COL' 'VOY' 'LICE' 'HLG' 'JARD' 'BORD' 'MRN']\n",
      "['1630' '1450' '1800' ... '75012' '75007' '75005']\n",
      "['ST-GENIS-POUILLY' 'SERRIERES-SUR-AIN' 'SAINT-JEAN-DE-NIOST' ...\n",
      " 'PARIS 07' 'PARIS 16' 'PARIS 05']\n"
     ]
    }
   ],
   "source": [
    "# verif qu'il n'y a plus de NA ou 'nan'\n",
    "print(df['B/T/Q'].unique())\n",
    "print(df['Code voie'].unique())\n",
    "print(df['Type de voie'].unique())\n",
    "print(df['Code postal'].unique())\n",
    "print(df['Commune'].unique())\n"
   ]
  },
  {
   "cell_type": "markdown",
   "metadata": {},
   "source": [
    "Fusion adresse "
   ]
  },
  {
   "cell_type": "code",
   "execution_count": 249,
   "metadata": {},
   "outputs": [
    {
     "name": "stdout",
     "output_type": "stream",
     "text": [
      "<class 'pandas.core.frame.DataFrame'>\n",
      "RangeIndex: 3727005 entries, 0 to 3727004\n",
      "Data columns (total 6 columns):\n",
      " #   Column        Dtype \n",
      "---  ------        ----- \n",
      " 0   Code voie     object\n",
      " 1   B/T/Q         object\n",
      " 2   Type de voie  object\n",
      " 3   Voie          object\n",
      " 4   Code postal   object\n",
      " 5   Commune       object\n",
      "dtypes: object(6)\n",
      "memory usage: 170.6+ MB\n"
     ]
    }
   ],
   "source": [
    "\n",
    "#df['adresse']=\n",
    "df[['Code voie', 'B/T/Q','Type de voie','Voie', 'Code postal', 'Commune']].info()"
   ]
  },
  {
   "cell_type": "code",
   "execution_count": 250,
   "metadata": {},
   "outputs": [
    {
     "name": "stdout",
     "output_type": "stream",
     "text": [
      "0                0124  ALL DES HETRES 1630 ST-GENIS-POUILLY\n",
      "1                0124  ALL DES HETRES 1630 ST-GENIS-POUILLY\n",
      "2                0124  ALL DES HETRES 1630 ST-GENIS-POUILLY\n",
      "3                0107  RTE DE PONCIN 1450 SERRIERES-SUR-AIN\n",
      "4          0040 T CHE DE L'AUBEPIN 1800 SAINT-JEAN-DE-NIOST\n",
      "                                 ...                       \n",
      "3727000           1832.0  AV CHARLES FLOQUET 75007 PARIS 07\n",
      "3727001           1832.0  AV CHARLES FLOQUET 75007 PARIS 07\n",
      "3727002           1832.0  AV CHARLES FLOQUET 75007 PARIS 07\n",
      "3727003       8892.0 B RUE SEBASTIEN MERCIER 75015 PARIS 15\n",
      "3727004       8892.0 B RUE SEBASTIEN MERCIER 75015 PARIS 15\n",
      "Name: Adresse, Length: 3727005, dtype: object\n"
     ]
    }
   ],
   "source": [
    "df['Adresse'] = df['Code voie'] + ' ' + df['B/T/Q'] + ' '  + df['Type de voie'] + ' ' + df['Voie'] + ' ' + df['Code postal'] + ' ' + df['Commune']\n",
    "print(df['Adresse'])"
   ]
  },
  {
   "cell_type": "markdown",
   "metadata": {},
   "source": [
    "Supp Elements d'adresse"
   ]
  },
  {
   "cell_type": "code",
   "execution_count": 251,
   "metadata": {},
   "outputs": [
    {
     "name": "stdout",
     "output_type": "stream",
     "text": [
      "        Date mutation Nature mutation  Valeur fonciere Code departement  \\\n",
      "0          05/01/2023           Vente        1070000.0                1   \n",
      "1          05/01/2023           Vente        1070000.0                1   \n",
      "2          05/01/2023           Vente        1070000.0                1   \n",
      "3          03/01/2023           Vente         152200.0                1   \n",
      "4          05/01/2023           Vente         269000.0                1   \n",
      "...               ...             ...              ...              ...   \n",
      "3727000    05/10/2023    Adjudication        3931000.0               75   \n",
      "3727001    05/10/2023    Adjudication        3931000.0               75   \n",
      "3727002    05/10/2023    Adjudication        3931000.0               75   \n",
      "3727003    28/12/2023           Vente          98250.0               75   \n",
      "3727004    28/12/2023           Vente          98250.0               75   \n",
      "\n",
      "        No Volume  Nombre de lots   Type local  Surface reelle bati  \\\n",
      "0             NaN               1   Dépendance                  0.0   \n",
      "1             NaN               1   Dépendance                  0.0   \n",
      "2             NaN               1  Appartement                233.0   \n",
      "3             NaN               0       Maison                 64.0   \n",
      "4             NaN               0       Maison                 73.0   \n",
      "...           ...             ...          ...                  ...   \n",
      "3727000       NaN               1   Dépendance                  0.0   \n",
      "3727001       NaN               1   Dépendance                  0.0   \n",
      "3727002       NaN               1   Dépendance                  0.0   \n",
      "3727003       NaN               1   Dépendance                  0.0   \n",
      "3727004       NaN               1  Appartement                 18.0   \n",
      "\n",
      "         Nombre pieces principales  Surface terrain  Surface Carrez total  \\\n",
      "0                                0              NaN                   0.0   \n",
      "1                                0              NaN                   0.0   \n",
      "2                                8              NaN                   0.0   \n",
      "3                                3            988.0                   0.0   \n",
      "4                                3            835.0                   0.0   \n",
      "...                            ...              ...                   ...   \n",
      "3727000                          0              NaN                   0.0   \n",
      "3727001                          0              NaN                   0.0   \n",
      "3727002                          0              NaN                   0.0   \n",
      "3727003                          0              NaN                   0.0   \n",
      "3727004                          1              NaN                   0.0   \n",
      "\n",
      "                                                  Adresse  \n",
      "0              0124  ALL DES HETRES 1630 ST-GENIS-POUILLY  \n",
      "1              0124  ALL DES HETRES 1630 ST-GENIS-POUILLY  \n",
      "2              0124  ALL DES HETRES 1630 ST-GENIS-POUILLY  \n",
      "3              0107  RTE DE PONCIN 1450 SERRIERES-SUR-AIN  \n",
      "4        0040 T CHE DE L'AUBEPIN 1800 SAINT-JEAN-DE-NIOST  \n",
      "...                                                   ...  \n",
      "3727000         1832.0  AV CHARLES FLOQUET 75007 PARIS 07  \n",
      "3727001         1832.0  AV CHARLES FLOQUET 75007 PARIS 07  \n",
      "3727002         1832.0  AV CHARLES FLOQUET 75007 PARIS 07  \n",
      "3727003     8892.0 B RUE SEBASTIEN MERCIER 75015 PARIS 15  \n",
      "3727004     8892.0 B RUE SEBASTIEN MERCIER 75015 PARIS 15  \n",
      "\n",
      "[3727005 rows x 12 columns]\n"
     ]
    }
   ],
   "source": [
    "#Suppr Elements d'adresse\n",
    "df=df.drop(columns=['Code voie', 'B/T/Q','Type de voie','Voie', 'Code postal', 'Commune','Code commune'])\n",
    "print(df)"
   ]
  },
  {
   "cell_type": "markdown",
   "metadata": {},
   "source": [
    "### GroupBy"
   ]
  },
  {
   "cell_type": "markdown",
   "metadata": {},
   "source": [
    "Supprimer les duplications"
   ]
  },
  {
   "cell_type": "code",
   "execution_count": 252,
   "metadata": {},
   "outputs": [],
   "source": [
    "df_noduppl=df.drop_duplicates()"
   ]
  },
  {
   "cell_type": "code",
   "execution_count": 253,
   "metadata": {},
   "outputs": [],
   "source": [
    "group_df = df_noduppl.groupby(['Date mutation', 'Adresse']).agg({\n",
    "    'Valeur fonciere': 'first',\n",
    "    'Code departement': 'first',\n",
    "    'Nombre de lots': 'sum',\n",
    "    'Type local': lambda x: ', '.join(x.dropna().unique()),\n",
    "    'Surface Carrez total': 'sum',\n",
    "    'Surface reelle bati': 'sum',\n",
    "    'Nombre pieces principales': 'sum', \n",
    "    'Surface terrain': 'sum'\n",
    "}).reset_index()"
   ]
  },
  {
   "cell_type": "code",
   "execution_count": 254,
   "metadata": {},
   "outputs": [
    {
     "name": "stdout",
     "output_type": "stream",
     "text": [
      "        Date mutation                                       Adresse  \\\n",
      "0          01/01/2023              B174   CHAMP PEJUS 53410 BOURGON   \n",
      "1          01/01/2023            B194   LE CHATELLIER 53410 BOURGON   \n",
      "2          01/01/2023             B195   LE CHAUFFAUD 53410 BOURGON   \n",
      "3          01/01/2023           B308   LA FRILLONIERE 53410 BOURGON   \n",
      "4          01/01/2023           B765   PRE DES LANDES 53410 BOURGON   \n",
      "...               ...                                           ...   \n",
      "1614783    31/12/2023                B145   LA VILLE 73340 LE NOYER   \n",
      "1614784    31/12/2023             B173   ROCHE TORIN 50220 COURTILS   \n",
      "1614785    31/12/2023               B273   PRE AU MOINE 44260 BOUEE   \n",
      "1614786    31/12/2023          B321   PRES DES CHATEAUX 44260 BOUEE   \n",
      "1614787    31/12/2023  B433   LE MARAIS DE LA ROCHE 44360 CORDEMAIS   \n",
      "\n",
      "         Valeur fonciere Code departement  Nombre de lots Type local  \\\n",
      "0               60000.00               53               0              \n",
      "1               60000.00               53               0              \n",
      "2               60000.00               53               0              \n",
      "3               60000.00               53               0              \n",
      "4               60000.00               53               0              \n",
      "...                  ...              ...             ...        ...   \n",
      "1614783           560.00               73               0              \n",
      "1614784           100.00               50               0              \n",
      "1614785         10335.27               44               0              \n",
      "1614786         10335.27               44               0              \n",
      "1614787         10335.27               44               0              \n",
      "\n",
      "         Surface Carrez total  Surface reelle bati  Nombre pieces principales  \\\n",
      "0                         0.0                  0.0                          0   \n",
      "1                         0.0                  0.0                          0   \n",
      "2                         0.0                  0.0                          0   \n",
      "3                         0.0                  0.0                          0   \n",
      "4                         0.0                  0.0                          0   \n",
      "...                       ...                  ...                        ...   \n",
      "1614783                   0.0                  0.0                          0   \n",
      "1614784                   0.0                  0.0                          0   \n",
      "1614785                   0.0                  0.0                          0   \n",
      "1614786                   0.0                  0.0                          0   \n",
      "1614787                   0.0                  0.0                          0   \n",
      "\n",
      "         Surface terrain  \n",
      "0                66150.0  \n",
      "1                18461.0  \n",
      "2                 3722.0  \n",
      "3                20363.0  \n",
      "4                33659.0  \n",
      "...                  ...  \n",
      "1614783             16.0  \n",
      "1614784            960.0  \n",
      "1614785           6533.0  \n",
      "1614786          63340.0  \n",
      "1614787          24084.0  \n",
      "\n",
      "[1614788 rows x 10 columns]\n"
     ]
    }
   ],
   "source": [
    "print(group_df)"
   ]
  },
  {
   "cell_type": "markdown",
   "metadata": {},
   "source": [
    "### Région IDF :\n",
    "\n",
    "https://www.delftstack.com/fr/howto/python-pandas/how-to-filter-dataframe-rows-based-on-column-values-in-pandas/"
   ]
  },
  {
   "cell_type": "code",
   "execution_count": 256,
   "metadata": {},
   "outputs": [],
   "source": [
    "regionidf={1}\n",
    "region_1={75,77,78,91,92,93,94,95}\n",
    "df_regionidf= df[df[\"Code departement\"].isin(regionidf)]"
   ]
  },
  {
   "cell_type": "markdown",
   "metadata": {},
   "source": [
    "### Affichage Final IDF"
   ]
  },
  {
   "cell_type": "code",
   "execution_count": 262,
   "metadata": {},
   "outputs": [
    {
     "data": {
      "text/plain": [
       "Index(['Date mutation', 'Nature mutation', 'Valeur fonciere',\n",
       "       'Code departement', 'No Volume', 'Nombre de lots', 'Type local',\n",
       "       'Surface reelle bati', 'Nombre pieces principales', 'Surface terrain',\n",
       "       'Surface Carrez total', 'Adresse'],\n",
       "      dtype='object')"
      ]
     },
     "execution_count": 262,
     "metadata": {},
     "output_type": "execute_result"
    }
   ],
   "source": [
    "df_regionidf.columns"
   ]
  },
  {
   "cell_type": "code",
   "execution_count": 257,
   "metadata": {},
   "outputs": [
    {
     "name": "stdout",
     "output_type": "stream",
     "text": [
      "  Date mutation Nature mutation  Valeur fonciere Code departement No Volume  \\\n",
      "0    05/01/2023           Vente        1070000.0                1       NaN   \n",
      "1    05/01/2023           Vente        1070000.0                1       NaN   \n",
      "2    05/01/2023           Vente        1070000.0                1       NaN   \n",
      "3    03/01/2023           Vente         152200.0                1       NaN   \n",
      "4    05/01/2023           Vente         269000.0                1       NaN   \n",
      "5    05/01/2023           Vente         269000.0                1       NaN   \n",
      "6    05/01/2023           Vente         269000.0                1       NaN   \n",
      "7    03/01/2023           Vente         770000.0                1       NaN   \n",
      "8    06/01/2023           Vente           6820.0                1       NaN   \n",
      "9    06/01/2023         Echange          10040.0                1       NaN   \n",
      "\n",
      "   Nombre de lots   Type local  Surface reelle bati  \\\n",
      "0               1   Dépendance                  0.0   \n",
      "1               1   Dépendance                  0.0   \n",
      "2               1  Appartement                233.0   \n",
      "3               0       Maison                 64.0   \n",
      "4               0       Maison                 73.0   \n",
      "5               0   Dépendance                  0.0   \n",
      "6               0   Dépendance                  0.0   \n",
      "7               0       Maison                136.0   \n",
      "8               0          NaN                  NaN   \n",
      "9               0          NaN                  NaN   \n",
      "\n",
      "   Nombre pieces principales  Surface terrain  Surface Carrez total  \\\n",
      "0                          0              NaN                   0.0   \n",
      "1                          0              NaN                   0.0   \n",
      "2                          8              NaN                   0.0   \n",
      "3                          3            988.0                   0.0   \n",
      "4                          3            835.0                   0.0   \n",
      "5                          0            835.0                   0.0   \n",
      "6                          0            835.0                   0.0   \n",
      "7                          7            921.0                   0.0   \n",
      "8                       <NA>          17050.0                   0.0   \n",
      "9                       <NA>            124.0                   0.0   \n",
      "\n",
      "                                            Adresse  \n",
      "0        0124  ALL DES HETRES 1630 ST-GENIS-POUILLY  \n",
      "1        0124  ALL DES HETRES 1630 ST-GENIS-POUILLY  \n",
      "2        0124  ALL DES HETRES 1630 ST-GENIS-POUILLY  \n",
      "3        0107  RTE DE PONCIN 1450 SERRIERES-SUR-AIN  \n",
      "4  0040 T CHE DE L'AUBEPIN 1800 SAINT-JEAN-DE-NIOST  \n",
      "5  0040 T CHE DE L'AUBEPIN 1800 SAINT-JEAN-DE-NIOST  \n",
      "6  0040 T CHE DE L'AUBEPIN 1800 SAINT-JEAN-DE-NIOST  \n",
      "7          0151 A RUE DU PARC DE VILLARD 1210 ORNEX  \n",
      "8              B062   ETANG DU BOIS 1480 VILLENEUVE  \n",
      "9        B044   CARRE ROCHER 1500 AMBERIEU-EN-BUGEY  \n"
     ]
    }
   ],
   "source": [
    "print(df_regionidf.head(10))"
   ]
  },
  {
   "cell_type": "code",
   "execution_count": 258,
   "metadata": {},
   "outputs": [
    {
     "name": "stdout",
     "output_type": "stream",
     "text": [
      "<class 'pandas.core.frame.DataFrame'>\n",
      "Index: 40970 entries, 0 to 40969\n",
      "Data columns (total 12 columns):\n",
      " #   Column                     Non-Null Count  Dtype  \n",
      "---  ------                     --------------  -----  \n",
      " 0   Date mutation              40970 non-null  object \n",
      " 1   Nature mutation            40970 non-null  object \n",
      " 2   Valeur fonciere            40732 non-null  float64\n",
      " 3   Code departement           40970 non-null  object \n",
      " 4   No Volume                  90 non-null     object \n",
      " 5   Nombre de lots             40970 non-null  int64  \n",
      " 6   Type local                 19112 non-null  object \n",
      " 7   Surface reelle bati        19058 non-null  float64\n",
      " 8   Nombre pieces principales  19058 non-null  Int64  \n",
      " 9   Surface terrain            30204 non-null  float64\n",
      " 10  Surface Carrez total       40970 non-null  float64\n",
      " 11  Adresse                    40970 non-null  object \n",
      "dtypes: Int64(1), float64(4), int64(1), object(6)\n",
      "memory usage: 4.1+ MB\n",
      "None\n"
     ]
    }
   ],
   "source": [
    "print(df_regionidf.info())"
   ]
  }
 ],
 "metadata": {
  "kernelspec": {
   "display_name": "Python 3",
   "language": "python",
   "name": "python3"
  },
  "language_info": {
   "codemirror_mode": {
    "name": "ipython",
    "version": 3
   },
   "file_extension": ".py",
   "mimetype": "text/x-python",
   "name": "python",
   "nbconvert_exporter": "python",
   "pygments_lexer": "ipython3",
   "version": "3.12.3"
  }
 },
 "nbformat": 4,
 "nbformat_minor": 2
}
