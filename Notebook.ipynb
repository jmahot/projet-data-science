{
 "cells": [
  {
   "cell_type": "markdown",
   "metadata": {},
   "source": [
    "### Import Source"
   ]
  },
  {
   "cell_type": "code",
   "execution_count": 445,
   "metadata": {},
   "outputs": [
    {
     "name": "stderr",
     "output_type": "stream",
     "text": [
      "C:\\Users\\Julie Mahot\\AppData\\Local\\Temp\\ipykernel_9968\\1671847934.py:4: DtypeWarning: Columns (14,18,23,24,26,28,29,31,32,33,41) have mixed types. Specify dtype option on import or set low_memory=False.\n",
      "  df=pd.read_csv(\"valeursfoncieres-2023.txt\",sep=\"|\")\n"
     ]
    }
   ],
   "source": [
    "import pandas as pd\n",
    "import numpy as np\n",
    "\n",
    "df=pd.read_csv(\"valeursfoncieres-2023.txt\",sep=\"|\")\n",
    "\n",
    "#df_bool=df.notnull()\n",
    "#df1=df[\"B/T/Q\"].unique()\n",
    "#df_btq=df[df[\"B/T/Q\"]]\n",
    "#print(df[\"B/T/Q\"].where(df[\"B/T/Q\"]==\"T\"))\n"
   ]
  },
  {
   "cell_type": "markdown",
   "metadata": {},
   "source": [
    "### Supprimer colonnes NaN"
   ]
  },
  {
   "cell_type": "code",
   "execution_count": 446,
   "metadata": {},
   "outputs": [],
   "source": [
    "df = df.dropna(axis = 1, how = 'all')"
   ]
  },
  {
   "cell_type": "markdown",
   "metadata": {},
   "source": [
    "### Affichage"
   ]
  },
  {
   "cell_type": "code",
   "execution_count": 447,
   "metadata": {},
   "outputs": [
    {
     "data": {
      "text/plain": [
       "Index(['No disposition', 'Date mutation', 'Nature mutation', 'Valeur fonciere',\n",
       "       'No voie', 'B/T/Q', 'Type de voie', 'Code voie', 'Voie', 'Code postal',\n",
       "       'Commune', 'Code departement', 'Code commune', 'Prefixe de section',\n",
       "       'Section', 'No plan', 'No Volume', '1er lot',\n",
       "       'Surface Carrez du 1er lot', '2eme lot', 'Surface Carrez du 2eme lot',\n",
       "       '3eme lot', 'Surface Carrez du 3eme lot', '4eme lot',\n",
       "       'Surface Carrez du 4eme lot', '5eme lot', 'Surface Carrez du 5eme lot',\n",
       "       'Nombre de lots', 'Code type local', 'Type local',\n",
       "       'Surface reelle bati', 'Nombre pieces principales', 'Nature culture',\n",
       "       'Nature culture speciale', 'Surface terrain'],\n",
       "      dtype='object')"
      ]
     },
     "execution_count": 447,
     "metadata": {},
     "output_type": "execute_result"
    }
   ],
   "source": [
    "df.columns"
   ]
  },
  {
   "cell_type": "code",
   "execution_count": 448,
   "metadata": {},
   "outputs": [
    {
     "name": "stdout",
     "output_type": "stream",
     "text": [
      "   No disposition Date mutation Nature mutation Valeur fonciere  No voie  \\\n",
      "0               1    05/01/2023           Vente      1070000,00    184.0   \n",
      "1               1    05/01/2023           Vente      1070000,00    159.0   \n",
      "2               1    05/01/2023           Vente      1070000,00    159.0   \n",
      "3               1    03/01/2023           Vente       152200,00   2914.0   \n",
      "4               1    05/01/2023           Vente       269000,00    427.0   \n",
      "5               1    05/01/2023           Vente       269000,00    427.0   \n",
      "6               1    05/01/2023           Vente       269000,00    427.0   \n",
      "7               1    03/01/2023           Vente       770000,00    159.0   \n",
      "8               1    06/01/2023           Vente         6820,00      NaN   \n",
      "9               2    06/01/2023         Echange        10040,00      NaN   \n",
      "\n",
      "  B/T/Q Type de voie Code voie                Voie  Code postal  ... 5eme lot  \\\n",
      "0   NaN          ALL      0124          DES HETRES       1630.0  ...      NaN   \n",
      "1   NaN          ALL      0124          DES HETRES       1630.0  ...      NaN   \n",
      "2   NaN          ALL      0124          DES HETRES       1630.0  ...      NaN   \n",
      "3   NaN          RTE      0107           DE PONCIN       1450.0  ...      NaN   \n",
      "4     T          CHE      0040        DE L'AUBEPIN       1800.0  ...      NaN   \n",
      "5     T          CHE      0040        DE L'AUBEPIN       1800.0  ...      NaN   \n",
      "6     T          CHE      0040        DE L'AUBEPIN       1800.0  ...      NaN   \n",
      "7     A          RUE      0151  DU PARC DE VILLARD       1210.0  ...      NaN   \n",
      "8   NaN          NaN      B062       ETANG DU BOIS       1480.0  ...      NaN   \n",
      "9   NaN          NaN      B044        CARRE ROCHER       1500.0  ...      NaN   \n",
      "\n",
      "  Surface Carrez du 5eme lot  Nombre de lots  Code type local   Type local  \\\n",
      "0                        NaN               1              3.0   Dépendance   \n",
      "1                        NaN               1              3.0   Dépendance   \n",
      "2                        NaN               1              2.0  Appartement   \n",
      "3                        NaN               0              1.0       Maison   \n",
      "4                        NaN               0              1.0       Maison   \n",
      "5                        NaN               0              3.0   Dépendance   \n",
      "6                        NaN               0              3.0   Dépendance   \n",
      "7                        NaN               0              1.0       Maison   \n",
      "8                        NaN               0              NaN          NaN   \n",
      "9                        NaN               0              NaN          NaN   \n",
      "\n",
      "   Surface reelle bati Nombre pieces principales Nature culture  \\\n",
      "0                  0.0                       0.0            NaN   \n",
      "1                  0.0                       0.0            NaN   \n",
      "2                233.0                       8.0            NaN   \n",
      "3                 64.0                       3.0              S   \n",
      "4                 73.0                       3.0              S   \n",
      "5                  0.0                       0.0              S   \n",
      "6                  0.0                       0.0              S   \n",
      "7                136.0                       7.0              S   \n",
      "8                  NaN                       NaN              T   \n",
      "9                  NaN                       NaN             BT   \n",
      "\n",
      "  Nature culture speciale Surface terrain  \n",
      "0                     NaN             NaN  \n",
      "1                     NaN             NaN  \n",
      "2                     NaN             NaN  \n",
      "3                     NaN           988.0  \n",
      "4                     NaN           835.0  \n",
      "5                     NaN           835.0  \n",
      "6                     NaN           835.0  \n",
      "7                     NaN           921.0  \n",
      "8                     NaN         17050.0  \n",
      "9                     NaN           124.0  \n",
      "\n",
      "[10 rows x 35 columns]\n"
     ]
    }
   ],
   "source": [
    "print(df.head(10))"
   ]
  },
  {
   "cell_type": "code",
   "execution_count": 449,
   "metadata": {},
   "outputs": [
    {
     "name": "stdout",
     "output_type": "stream",
     "text": [
      "<class 'pandas.core.frame.DataFrame'>\n",
      "RangeIndex: 3727005 entries, 0 to 3727004\n",
      "Data columns (total 35 columns):\n",
      " #   Column                      Dtype  \n",
      "---  ------                      -----  \n",
      " 0   No disposition              int64  \n",
      " 1   Date mutation               object \n",
      " 2   Nature mutation             object \n",
      " 3   Valeur fonciere             object \n",
      " 4   No voie                     float64\n",
      " 5   B/T/Q                       object \n",
      " 6   Type de voie                object \n",
      " 7   Code voie                   object \n",
      " 8   Voie                        object \n",
      " 9   Code postal                 float64\n",
      " 10  Commune                     object \n",
      " 11  Code departement            object \n",
      " 12  Code commune                int64  \n",
      " 13  Prefixe de section          float64\n",
      " 14  Section                     object \n",
      " 15  No plan                     int64  \n",
      " 16  No Volume                   object \n",
      " 17  1er lot                     object \n",
      " 18  Surface Carrez du 1er lot   object \n",
      " 19  2eme lot                    object \n",
      " 20  Surface Carrez du 2eme lot  object \n",
      " 21  3eme lot                    object \n",
      " 22  Surface Carrez du 3eme lot  object \n",
      " 23  4eme lot                    float64\n",
      " 24  Surface Carrez du 4eme lot  object \n",
      " 25  5eme lot                    object \n",
      " 26  Surface Carrez du 5eme lot  object \n",
      " 27  Nombre de lots              int64  \n",
      " 28  Code type local             float64\n",
      " 29  Type local                  object \n",
      " 30  Surface reelle bati         float64\n",
      " 31  Nombre pieces principales   float64\n",
      " 32  Nature culture              object \n",
      " 33  Nature culture speciale     object \n",
      " 34  Surface terrain             float64\n",
      "dtypes: float64(8), int64(4), object(23)\n",
      "memory usage: 995.2+ MB\n",
      "None\n"
     ]
    }
   ],
   "source": [
    "print(df.info())"
   ]
  },
  {
   "cell_type": "markdown",
   "metadata": {},
   "source": [
    "### Changement Types"
   ]
  },
  {
   "cell_type": "code",
   "execution_count": 450,
   "metadata": {},
   "outputs": [
    {
     "ename": "IntCastingNaNError",
     "evalue": "Cannot convert non-finite values (NA or inf) to integer: Error while type casting for column 'Code voie'",
     "output_type": "error",
     "traceback": [
      "\u001b[1;31m---------------------------------------------------------------------------\u001b[0m",
      "\u001b[1;31mIntCastingNaNError\u001b[0m                        Traceback (most recent call last)",
      "Cell \u001b[1;32mIn[450], line 7\u001b[0m\n\u001b[0;32m      4\u001b[0m         df[column] \u001b[38;5;241m=\u001b[39m pd\u001b[38;5;241m.\u001b[39mto_numeric(df[column],errors\u001b[38;5;241m=\u001b[39m\u001b[38;5;124m'\u001b[39m\u001b[38;5;124mcoerce\u001b[39m\u001b[38;5;124m'\u001b[39m)\n\u001b[0;32m      6\u001b[0m \u001b[38;5;66;03m#Changement Type en int des codes N°\u001b[39;00m\n\u001b[1;32m----> 7\u001b[0m df \u001b[38;5;241m=\u001b[39m \u001b[43mdf\u001b[49m\u001b[38;5;241;43m.\u001b[39;49m\u001b[43mastype\u001b[49m\u001b[43m(\u001b[49m\u001b[43m{\u001b[49m\n\u001b[0;32m      8\u001b[0m \u001b[43m    \u001b[49m\u001b[38;5;124;43m'\u001b[39;49m\u001b[38;5;124;43mCode voie\u001b[39;49m\u001b[38;5;124;43m'\u001b[39;49m\u001b[43m:\u001b[49m\u001b[43m \u001b[49m\u001b[38;5;124;43m'\u001b[39;49m\u001b[38;5;124;43mint64\u001b[39;49m\u001b[38;5;124;43m'\u001b[39;49m\u001b[43m,\u001b[49m\n\u001b[0;32m      9\u001b[0m \u001b[43m    \u001b[49m\u001b[38;5;124;43m'\u001b[39;49m\u001b[38;5;124;43mCode postal\u001b[39;49m\u001b[38;5;124;43m'\u001b[39;49m\u001b[43m \u001b[49m\u001b[43m:\u001b[49m\u001b[43m \u001b[49m\u001b[38;5;124;43m'\u001b[39;49m\u001b[38;5;124;43mint64\u001b[39;49m\u001b[38;5;124;43m'\u001b[39;49m\u001b[43m,\u001b[49m\n\u001b[0;32m     10\u001b[0m \u001b[43m    \u001b[49m\u001b[38;5;124;43m'\u001b[39;49m\u001b[38;5;124;43mCode departement\u001b[39;49m\u001b[38;5;124;43m'\u001b[39;49m\u001b[43m \u001b[49m\u001b[43m:\u001b[49m\u001b[43m \u001b[49m\u001b[38;5;124;43m'\u001b[39;49m\u001b[38;5;124;43mint64\u001b[39;49m\u001b[38;5;124;43m'\u001b[39;49m\u001b[43m,\u001b[49m\n\u001b[0;32m     11\u001b[0m \u001b[43m    \u001b[49m\u001b[38;5;124;43m'\u001b[39;49m\u001b[38;5;124;43mNombre pieces principales\u001b[39;49m\u001b[38;5;124;43m'\u001b[39;49m\u001b[43m \u001b[49m\u001b[43m:\u001b[49m\u001b[38;5;124;43m'\u001b[39;49m\u001b[38;5;124;43mint64\u001b[39;49m\u001b[38;5;124;43m'\u001b[39;49m\u001b[43m,\u001b[49m\n\u001b[0;32m     12\u001b[0m \u001b[43m}\u001b[49m\u001b[43m)\u001b[49m\n\u001b[0;32m     14\u001b[0m \u001b[38;5;66;03m# Changement Type Valeur foncière\u001b[39;00m\n\u001b[0;32m     15\u001b[0m df[\u001b[38;5;124m\"\u001b[39m\u001b[38;5;124mValeur fonciere\u001b[39m\u001b[38;5;124m\"\u001b[39m] \u001b[38;5;241m=\u001b[39m pd\u001b[38;5;241m.\u001b[39mto_numeric(df[\u001b[38;5;124m'\u001b[39m\u001b[38;5;124mValeur fonciere\u001b[39m\u001b[38;5;124m'\u001b[39m]\u001b[38;5;241m.\u001b[39mstr\u001b[38;5;241m.\u001b[39mreplace(\u001b[38;5;124m'\u001b[39m\u001b[38;5;124m,\u001b[39m\u001b[38;5;124m'\u001b[39m, \u001b[38;5;124m'\u001b[39m\u001b[38;5;124m'\u001b[39m))\n",
      "File \u001b[1;32mc:\\Users\\Julie Mahot\\AppData\\Local\\Programs\\Python\\Python312\\Lib\\site-packages\\pandas\\core\\generic.py:6620\u001b[0m, in \u001b[0;36mNDFrame.astype\u001b[1;34m(self, dtype, copy, errors)\u001b[0m\n\u001b[0;32m   6618\u001b[0m \u001b[38;5;28;01melse\u001b[39;00m:\n\u001b[0;32m   6619\u001b[0m     \u001b[38;5;28;01mtry\u001b[39;00m:\n\u001b[1;32m-> 6620\u001b[0m         res_col \u001b[38;5;241m=\u001b[39m \u001b[43mcol\u001b[49m\u001b[38;5;241;43m.\u001b[39;49m\u001b[43mastype\u001b[49m\u001b[43m(\u001b[49m\u001b[43mdtype\u001b[49m\u001b[38;5;241;43m=\u001b[39;49m\u001b[43mcdt\u001b[49m\u001b[43m,\u001b[49m\u001b[43m \u001b[49m\u001b[43mcopy\u001b[49m\u001b[38;5;241;43m=\u001b[39;49m\u001b[43mcopy\u001b[49m\u001b[43m,\u001b[49m\u001b[43m \u001b[49m\u001b[43merrors\u001b[49m\u001b[38;5;241;43m=\u001b[39;49m\u001b[43merrors\u001b[49m\u001b[43m)\u001b[49m\n\u001b[0;32m   6621\u001b[0m     \u001b[38;5;28;01mexcept\u001b[39;00m \u001b[38;5;167;01mValueError\u001b[39;00m \u001b[38;5;28;01mas\u001b[39;00m ex:\n\u001b[0;32m   6622\u001b[0m         ex\u001b[38;5;241m.\u001b[39margs \u001b[38;5;241m=\u001b[39m (\n\u001b[0;32m   6623\u001b[0m             \u001b[38;5;124mf\u001b[39m\u001b[38;5;124m\"\u001b[39m\u001b[38;5;132;01m{\u001b[39;00mex\u001b[38;5;132;01m}\u001b[39;00m\u001b[38;5;124m: Error while type casting for column \u001b[39m\u001b[38;5;124m'\u001b[39m\u001b[38;5;132;01m{\u001b[39;00mcol_name\u001b[38;5;132;01m}\u001b[39;00m\u001b[38;5;124m'\u001b[39m\u001b[38;5;124m\"\u001b[39m,\n\u001b[0;32m   6624\u001b[0m         )\n",
      "File \u001b[1;32mc:\\Users\\Julie Mahot\\AppData\\Local\\Programs\\Python\\Python312\\Lib\\site-packages\\pandas\\core\\generic.py:6643\u001b[0m, in \u001b[0;36mNDFrame.astype\u001b[1;34m(self, dtype, copy, errors)\u001b[0m\n\u001b[0;32m   6637\u001b[0m     results \u001b[38;5;241m=\u001b[39m [\n\u001b[0;32m   6638\u001b[0m         ser\u001b[38;5;241m.\u001b[39mastype(dtype, copy\u001b[38;5;241m=\u001b[39mcopy, errors\u001b[38;5;241m=\u001b[39merrors) \u001b[38;5;28;01mfor\u001b[39;00m _, ser \u001b[38;5;129;01min\u001b[39;00m \u001b[38;5;28mself\u001b[39m\u001b[38;5;241m.\u001b[39mitems()\n\u001b[0;32m   6639\u001b[0m     ]\n\u001b[0;32m   6641\u001b[0m \u001b[38;5;28;01melse\u001b[39;00m:\n\u001b[0;32m   6642\u001b[0m     \u001b[38;5;66;03m# else, only a single dtype is given\u001b[39;00m\n\u001b[1;32m-> 6643\u001b[0m     new_data \u001b[38;5;241m=\u001b[39m \u001b[38;5;28;43mself\u001b[39;49m\u001b[38;5;241;43m.\u001b[39;49m\u001b[43m_mgr\u001b[49m\u001b[38;5;241;43m.\u001b[39;49m\u001b[43mastype\u001b[49m\u001b[43m(\u001b[49m\u001b[43mdtype\u001b[49m\u001b[38;5;241;43m=\u001b[39;49m\u001b[43mdtype\u001b[49m\u001b[43m,\u001b[49m\u001b[43m \u001b[49m\u001b[43mcopy\u001b[49m\u001b[38;5;241;43m=\u001b[39;49m\u001b[43mcopy\u001b[49m\u001b[43m,\u001b[49m\u001b[43m \u001b[49m\u001b[43merrors\u001b[49m\u001b[38;5;241;43m=\u001b[39;49m\u001b[43merrors\u001b[49m\u001b[43m)\u001b[49m\n\u001b[0;32m   6644\u001b[0m     res \u001b[38;5;241m=\u001b[39m \u001b[38;5;28mself\u001b[39m\u001b[38;5;241m.\u001b[39m_constructor_from_mgr(new_data, axes\u001b[38;5;241m=\u001b[39mnew_data\u001b[38;5;241m.\u001b[39maxes)\n\u001b[0;32m   6645\u001b[0m     \u001b[38;5;28;01mreturn\u001b[39;00m res\u001b[38;5;241m.\u001b[39m__finalize__(\u001b[38;5;28mself\u001b[39m, method\u001b[38;5;241m=\u001b[39m\u001b[38;5;124m\"\u001b[39m\u001b[38;5;124mastype\u001b[39m\u001b[38;5;124m\"\u001b[39m)\n",
      "File \u001b[1;32mc:\\Users\\Julie Mahot\\AppData\\Local\\Programs\\Python\\Python312\\Lib\\site-packages\\pandas\\core\\internals\\managers.py:430\u001b[0m, in \u001b[0;36mBaseBlockManager.astype\u001b[1;34m(self, dtype, copy, errors)\u001b[0m\n\u001b[0;32m    427\u001b[0m \u001b[38;5;28;01melif\u001b[39;00m using_copy_on_write():\n\u001b[0;32m    428\u001b[0m     copy \u001b[38;5;241m=\u001b[39m \u001b[38;5;28;01mFalse\u001b[39;00m\n\u001b[1;32m--> 430\u001b[0m \u001b[38;5;28;01mreturn\u001b[39;00m \u001b[38;5;28;43mself\u001b[39;49m\u001b[38;5;241;43m.\u001b[39;49m\u001b[43mapply\u001b[49m\u001b[43m(\u001b[49m\n\u001b[0;32m    431\u001b[0m \u001b[43m    \u001b[49m\u001b[38;5;124;43m\"\u001b[39;49m\u001b[38;5;124;43mastype\u001b[39;49m\u001b[38;5;124;43m\"\u001b[39;49m\u001b[43m,\u001b[49m\n\u001b[0;32m    432\u001b[0m \u001b[43m    \u001b[49m\u001b[43mdtype\u001b[49m\u001b[38;5;241;43m=\u001b[39;49m\u001b[43mdtype\u001b[49m\u001b[43m,\u001b[49m\n\u001b[0;32m    433\u001b[0m \u001b[43m    \u001b[49m\u001b[43mcopy\u001b[49m\u001b[38;5;241;43m=\u001b[39;49m\u001b[43mcopy\u001b[49m\u001b[43m,\u001b[49m\n\u001b[0;32m    434\u001b[0m \u001b[43m    \u001b[49m\u001b[43merrors\u001b[49m\u001b[38;5;241;43m=\u001b[39;49m\u001b[43merrors\u001b[49m\u001b[43m,\u001b[49m\n\u001b[0;32m    435\u001b[0m \u001b[43m    \u001b[49m\u001b[43musing_cow\u001b[49m\u001b[38;5;241;43m=\u001b[39;49m\u001b[43musing_copy_on_write\u001b[49m\u001b[43m(\u001b[49m\u001b[43m)\u001b[49m\u001b[43m,\u001b[49m\n\u001b[0;32m    436\u001b[0m \u001b[43m\u001b[49m\u001b[43m)\u001b[49m\n",
      "File \u001b[1;32mc:\\Users\\Julie Mahot\\AppData\\Local\\Programs\\Python\\Python312\\Lib\\site-packages\\pandas\\core\\internals\\managers.py:363\u001b[0m, in \u001b[0;36mBaseBlockManager.apply\u001b[1;34m(self, f, align_keys, **kwargs)\u001b[0m\n\u001b[0;32m    361\u001b[0m         applied \u001b[38;5;241m=\u001b[39m b\u001b[38;5;241m.\u001b[39mapply(f, \u001b[38;5;241m*\u001b[39m\u001b[38;5;241m*\u001b[39mkwargs)\n\u001b[0;32m    362\u001b[0m     \u001b[38;5;28;01melse\u001b[39;00m:\n\u001b[1;32m--> 363\u001b[0m         applied \u001b[38;5;241m=\u001b[39m \u001b[38;5;28;43mgetattr\u001b[39;49m\u001b[43m(\u001b[49m\u001b[43mb\u001b[49m\u001b[43m,\u001b[49m\u001b[43m \u001b[49m\u001b[43mf\u001b[49m\u001b[43m)\u001b[49m\u001b[43m(\u001b[49m\u001b[38;5;241;43m*\u001b[39;49m\u001b[38;5;241;43m*\u001b[39;49m\u001b[43mkwargs\u001b[49m\u001b[43m)\u001b[49m\n\u001b[0;32m    364\u001b[0m     result_blocks \u001b[38;5;241m=\u001b[39m extend_blocks(applied, result_blocks)\n\u001b[0;32m    366\u001b[0m out \u001b[38;5;241m=\u001b[39m \u001b[38;5;28mtype\u001b[39m(\u001b[38;5;28mself\u001b[39m)\u001b[38;5;241m.\u001b[39mfrom_blocks(result_blocks, \u001b[38;5;28mself\u001b[39m\u001b[38;5;241m.\u001b[39maxes)\n",
      "File \u001b[1;32mc:\\Users\\Julie Mahot\\AppData\\Local\\Programs\\Python\\Python312\\Lib\\site-packages\\pandas\\core\\internals\\blocks.py:758\u001b[0m, in \u001b[0;36mBlock.astype\u001b[1;34m(self, dtype, copy, errors, using_cow, squeeze)\u001b[0m\n\u001b[0;32m    755\u001b[0m         \u001b[38;5;28;01mraise\u001b[39;00m \u001b[38;5;167;01mValueError\u001b[39;00m(\u001b[38;5;124m\"\u001b[39m\u001b[38;5;124mCan not squeeze with more than one column.\u001b[39m\u001b[38;5;124m\"\u001b[39m)\n\u001b[0;32m    756\u001b[0m     values \u001b[38;5;241m=\u001b[39m values[\u001b[38;5;241m0\u001b[39m, :]  \u001b[38;5;66;03m# type: ignore[call-overload]\u001b[39;00m\n\u001b[1;32m--> 758\u001b[0m new_values \u001b[38;5;241m=\u001b[39m \u001b[43mastype_array_safe\u001b[49m\u001b[43m(\u001b[49m\u001b[43mvalues\u001b[49m\u001b[43m,\u001b[49m\u001b[43m \u001b[49m\u001b[43mdtype\u001b[49m\u001b[43m,\u001b[49m\u001b[43m \u001b[49m\u001b[43mcopy\u001b[49m\u001b[38;5;241;43m=\u001b[39;49m\u001b[43mcopy\u001b[49m\u001b[43m,\u001b[49m\u001b[43m \u001b[49m\u001b[43merrors\u001b[49m\u001b[38;5;241;43m=\u001b[39;49m\u001b[43merrors\u001b[49m\u001b[43m)\u001b[49m\n\u001b[0;32m    760\u001b[0m new_values \u001b[38;5;241m=\u001b[39m maybe_coerce_values(new_values)\n\u001b[0;32m    762\u001b[0m refs \u001b[38;5;241m=\u001b[39m \u001b[38;5;28;01mNone\u001b[39;00m\n",
      "File \u001b[1;32mc:\\Users\\Julie Mahot\\AppData\\Local\\Programs\\Python\\Python312\\Lib\\site-packages\\pandas\\core\\dtypes\\astype.py:237\u001b[0m, in \u001b[0;36mastype_array_safe\u001b[1;34m(values, dtype, copy, errors)\u001b[0m\n\u001b[0;32m    234\u001b[0m     dtype \u001b[38;5;241m=\u001b[39m dtype\u001b[38;5;241m.\u001b[39mnumpy_dtype\n\u001b[0;32m    236\u001b[0m \u001b[38;5;28;01mtry\u001b[39;00m:\n\u001b[1;32m--> 237\u001b[0m     new_values \u001b[38;5;241m=\u001b[39m \u001b[43mastype_array\u001b[49m\u001b[43m(\u001b[49m\u001b[43mvalues\u001b[49m\u001b[43m,\u001b[49m\u001b[43m \u001b[49m\u001b[43mdtype\u001b[49m\u001b[43m,\u001b[49m\u001b[43m \u001b[49m\u001b[43mcopy\u001b[49m\u001b[38;5;241;43m=\u001b[39;49m\u001b[43mcopy\u001b[49m\u001b[43m)\u001b[49m\n\u001b[0;32m    238\u001b[0m \u001b[38;5;28;01mexcept\u001b[39;00m (\u001b[38;5;167;01mValueError\u001b[39;00m, \u001b[38;5;167;01mTypeError\u001b[39;00m):\n\u001b[0;32m    239\u001b[0m     \u001b[38;5;66;03m# e.g. _astype_nansafe can fail on object-dtype of strings\u001b[39;00m\n\u001b[0;32m    240\u001b[0m     \u001b[38;5;66;03m#  trying to convert to float\u001b[39;00m\n\u001b[0;32m    241\u001b[0m     \u001b[38;5;28;01mif\u001b[39;00m errors \u001b[38;5;241m==\u001b[39m \u001b[38;5;124m\"\u001b[39m\u001b[38;5;124mignore\u001b[39m\u001b[38;5;124m\"\u001b[39m:\n",
      "File \u001b[1;32mc:\\Users\\Julie Mahot\\AppData\\Local\\Programs\\Python\\Python312\\Lib\\site-packages\\pandas\\core\\dtypes\\astype.py:182\u001b[0m, in \u001b[0;36mastype_array\u001b[1;34m(values, dtype, copy)\u001b[0m\n\u001b[0;32m    179\u001b[0m     values \u001b[38;5;241m=\u001b[39m values\u001b[38;5;241m.\u001b[39mastype(dtype, copy\u001b[38;5;241m=\u001b[39mcopy)\n\u001b[0;32m    181\u001b[0m \u001b[38;5;28;01melse\u001b[39;00m:\n\u001b[1;32m--> 182\u001b[0m     values \u001b[38;5;241m=\u001b[39m \u001b[43m_astype_nansafe\u001b[49m\u001b[43m(\u001b[49m\u001b[43mvalues\u001b[49m\u001b[43m,\u001b[49m\u001b[43m \u001b[49m\u001b[43mdtype\u001b[49m\u001b[43m,\u001b[49m\u001b[43m \u001b[49m\u001b[43mcopy\u001b[49m\u001b[38;5;241;43m=\u001b[39;49m\u001b[43mcopy\u001b[49m\u001b[43m)\u001b[49m\n\u001b[0;32m    184\u001b[0m \u001b[38;5;66;03m# in pandas we don't store numpy str dtypes, so convert to object\u001b[39;00m\n\u001b[0;32m    185\u001b[0m \u001b[38;5;28;01mif\u001b[39;00m \u001b[38;5;28misinstance\u001b[39m(dtype, np\u001b[38;5;241m.\u001b[39mdtype) \u001b[38;5;129;01mand\u001b[39;00m \u001b[38;5;28missubclass\u001b[39m(values\u001b[38;5;241m.\u001b[39mdtype\u001b[38;5;241m.\u001b[39mtype, \u001b[38;5;28mstr\u001b[39m):\n",
      "File \u001b[1;32mc:\\Users\\Julie Mahot\\AppData\\Local\\Programs\\Python\\Python312\\Lib\\site-packages\\pandas\\core\\dtypes\\astype.py:101\u001b[0m, in \u001b[0;36m_astype_nansafe\u001b[1;34m(arr, dtype, copy, skipna)\u001b[0m\n\u001b[0;32m     96\u001b[0m     \u001b[38;5;28;01mreturn\u001b[39;00m lib\u001b[38;5;241m.\u001b[39mensure_string_array(\n\u001b[0;32m     97\u001b[0m         arr, skipna\u001b[38;5;241m=\u001b[39mskipna, convert_na_value\u001b[38;5;241m=\u001b[39m\u001b[38;5;28;01mFalse\u001b[39;00m\n\u001b[0;32m     98\u001b[0m     )\u001b[38;5;241m.\u001b[39mreshape(shape)\n\u001b[0;32m    100\u001b[0m \u001b[38;5;28;01melif\u001b[39;00m np\u001b[38;5;241m.\u001b[39missubdtype(arr\u001b[38;5;241m.\u001b[39mdtype, np\u001b[38;5;241m.\u001b[39mfloating) \u001b[38;5;129;01mand\u001b[39;00m dtype\u001b[38;5;241m.\u001b[39mkind \u001b[38;5;129;01min\u001b[39;00m \u001b[38;5;124m\"\u001b[39m\u001b[38;5;124miu\u001b[39m\u001b[38;5;124m\"\u001b[39m:\n\u001b[1;32m--> 101\u001b[0m     \u001b[38;5;28;01mreturn\u001b[39;00m \u001b[43m_astype_float_to_int_nansafe\u001b[49m\u001b[43m(\u001b[49m\u001b[43marr\u001b[49m\u001b[43m,\u001b[49m\u001b[43m \u001b[49m\u001b[43mdtype\u001b[49m\u001b[43m,\u001b[49m\u001b[43m \u001b[49m\u001b[43mcopy\u001b[49m\u001b[43m)\u001b[49m\n\u001b[0;32m    103\u001b[0m \u001b[38;5;28;01melif\u001b[39;00m arr\u001b[38;5;241m.\u001b[39mdtype \u001b[38;5;241m==\u001b[39m \u001b[38;5;28mobject\u001b[39m:\n\u001b[0;32m    104\u001b[0m     \u001b[38;5;66;03m# if we have a datetime/timedelta array of objects\u001b[39;00m\n\u001b[0;32m    105\u001b[0m     \u001b[38;5;66;03m# then coerce to datetime64[ns] and use DatetimeArray.astype\u001b[39;00m\n\u001b[0;32m    107\u001b[0m     \u001b[38;5;28;01mif\u001b[39;00m lib\u001b[38;5;241m.\u001b[39mis_np_dtype(dtype, \u001b[38;5;124m\"\u001b[39m\u001b[38;5;124mM\u001b[39m\u001b[38;5;124m\"\u001b[39m):\n",
      "File \u001b[1;32mc:\\Users\\Julie Mahot\\AppData\\Local\\Programs\\Python\\Python312\\Lib\\site-packages\\pandas\\core\\dtypes\\astype.py:145\u001b[0m, in \u001b[0;36m_astype_float_to_int_nansafe\u001b[1;34m(values, dtype, copy)\u001b[0m\n\u001b[0;32m    141\u001b[0m \u001b[38;5;250m\u001b[39m\u001b[38;5;124;03m\"\"\"\u001b[39;00m\n\u001b[0;32m    142\u001b[0m \u001b[38;5;124;03mastype with a check preventing converting NaN to an meaningless integer value.\u001b[39;00m\n\u001b[0;32m    143\u001b[0m \u001b[38;5;124;03m\"\"\"\u001b[39;00m\n\u001b[0;32m    144\u001b[0m \u001b[38;5;28;01mif\u001b[39;00m \u001b[38;5;129;01mnot\u001b[39;00m np\u001b[38;5;241m.\u001b[39misfinite(values)\u001b[38;5;241m.\u001b[39mall():\n\u001b[1;32m--> 145\u001b[0m     \u001b[38;5;28;01mraise\u001b[39;00m IntCastingNaNError(\n\u001b[0;32m    146\u001b[0m         \u001b[38;5;124m\"\u001b[39m\u001b[38;5;124mCannot convert non-finite values (NA or inf) to integer\u001b[39m\u001b[38;5;124m\"\u001b[39m\n\u001b[0;32m    147\u001b[0m     )\n\u001b[0;32m    148\u001b[0m \u001b[38;5;28;01mif\u001b[39;00m dtype\u001b[38;5;241m.\u001b[39mkind \u001b[38;5;241m==\u001b[39m \u001b[38;5;124m\"\u001b[39m\u001b[38;5;124mu\u001b[39m\u001b[38;5;124m\"\u001b[39m:\n\u001b[0;32m    149\u001b[0m     \u001b[38;5;66;03m# GH#45151\u001b[39;00m\n\u001b[0;32m    150\u001b[0m     \u001b[38;5;28;01mif\u001b[39;00m \u001b[38;5;129;01mnot\u001b[39;00m (values \u001b[38;5;241m>\u001b[39m\u001b[38;5;241m=\u001b[39m \u001b[38;5;241m0\u001b[39m)\u001b[38;5;241m.\u001b[39mall():\n",
      "\u001b[1;31mIntCastingNaNError\u001b[0m: Cannot convert non-finite values (NA or inf) to integer: Error while type casting for column 'Code voie'"
     ]
    }
   ],
   "source": [
    "colonnes_to_convert = ['No voie', 'Code voie', 'Code postal', 'Code departement', 'Nombre pieces principales']\n",
    "\n",
    "for column in colonnes_to_convert:\n",
    "        df[column] = pd.to_numeric(df[column],errors='coerce')\n",
    "\n",
    "#Changement Type en int des codes N°\n",
    "df = df.astype({\n",
    "    'Code voie': 'int64',\n",
    "    'Code postal' : 'int64',\n",
    "    'Code departement' : 'int64',\n",
    "    'Nombre pieces principales' :'int64',\n",
    "})\n",
    "\n",
    "# Changement Type Valeur foncière\n",
    "df[\"Valeur fonciere\"] = pd.to_numeric(df['Valeur fonciere'].str.replace(',', ''))"
   ]
  },
  {
   "cell_type": "code",
   "execution_count": null,
   "metadata": {},
   "outputs": [],
   "source": [
    "# Changement Type surfaces carrez des lots\n",
    "colonnes_surfacecarrez = [\n",
    "    'Surface Carrez du 1er lot', 'Surface Carrez du 2eme lot', \n",
    "    'Surface Carrez du 3eme lot', 'Surface Carrez du 4eme lot', \n",
    "    'Surface Carrez du 5eme lot'\n",
    "]\n",
    "\n",
    "for col in colonnes_surfacecarrez:\n",
    "    df[col] = pd.to_numeric(df[col], errors='coerce')"
   ]
  },
  {
   "cell_type": "code",
   "execution_count": null,
   "metadata": {},
   "outputs": [
    {
     "name": "stdout",
     "output_type": "stream",
     "text": [
      "<class 'pandas.core.frame.DataFrame'>\n",
      "RangeIndex: 3727005 entries, 0 to 3727004\n",
      "Data columns (total 35 columns):\n",
      " #   Column                      Dtype         \n",
      "---  ------                      -----         \n",
      " 0   No disposition              int64         \n",
      " 1   Date mutation               datetime64[ns]\n",
      " 2   Nature mutation             object        \n",
      " 3   Valeur fonciere             float64       \n",
      " 4   No voie                     float64       \n",
      " 5   B/T/Q                       object        \n",
      " 6   Type de voie                object        \n",
      " 7   Code voie                   Int64         \n",
      " 8   Voie                        object        \n",
      " 9   Code postal                 Int64         \n",
      " 10  Commune                     object        \n",
      " 11  Code departement            Int64         \n",
      " 12  Code commune                int64         \n",
      " 13  Prefixe de section          float64       \n",
      " 14  Section                     object        \n",
      " 15  No plan                     int64         \n",
      " 16  No Volume                   object        \n",
      " 17  1er lot                     object        \n",
      " 18  Surface Carrez du 1er lot   float64       \n",
      " 19  2eme lot                    object        \n",
      " 20  Surface Carrez du 2eme lot  float64       \n",
      " 21  3eme lot                    object        \n",
      " 22  Surface Carrez du 3eme lot  float64       \n",
      " 23  4eme lot                    float64       \n",
      " 24  Surface Carrez du 4eme lot  float64       \n",
      " 25  5eme lot                    object        \n",
      " 26  Surface Carrez du 5eme lot  float64       \n",
      " 27  Nombre de lots              int64         \n",
      " 28  Code type local             float64       \n",
      " 29  Type local                  object        \n",
      " 30  Surface reelle bati         float64       \n",
      " 31  Nombre pieces principales   Int64         \n",
      " 32  Nature culture              object        \n",
      " 33  Nature culture speciale     object        \n",
      " 34  Surface terrain             float64       \n",
      "dtypes: Int64(4), datetime64[ns](1), float64(12), int64(4), object(14)\n",
      "memory usage: 1009.4+ MB\n",
      "None\n",
      "         No disposition Date mutation Nature mutation  Valeur fonciere  \\\n",
      "0                     1    2023-01-05           Vente      107000000.0   \n",
      "1                     1    2023-01-05           Vente      107000000.0   \n",
      "2                     1    2023-01-05           Vente      107000000.0   \n",
      "3                     1    2023-01-03           Vente       15220000.0   \n",
      "4                     1    2023-01-05           Vente       26900000.0   \n",
      "...                 ...           ...             ...              ...   \n",
      "3727000               1    2023-10-05    Adjudication      393100000.0   \n",
      "3727001               1    2023-10-05    Adjudication      393100000.0   \n",
      "3727002               1    2023-10-05    Adjudication      393100000.0   \n",
      "3727003               1    2023-12-28           Vente        9825000.0   \n",
      "3727004               1    2023-12-28           Vente        9825000.0   \n",
      "\n",
      "         No voie B/T/Q Type de voie  Code voie               Voie  \\\n",
      "0          184.0   NaN          ALL        124         DES HETRES   \n",
      "1          159.0   NaN          ALL        124         DES HETRES   \n",
      "2          159.0   NaN          ALL        124         DES HETRES   \n",
      "3         2914.0   NaN          RTE        107          DE PONCIN   \n",
      "4          427.0     T          CHE         40       DE L'AUBEPIN   \n",
      "...          ...   ...          ...        ...                ...   \n",
      "3727000     39.0   NaN           AV       1832    CHARLES FLOQUET   \n",
      "3727001     39.0   NaN           AV       1832    CHARLES FLOQUET   \n",
      "3727002     39.0   NaN           AV       1832    CHARLES FLOQUET   \n",
      "3727003     66.0     B          RUE       8892  SEBASTIEN MERCIER   \n",
      "3727004     66.0     B          RUE       8892  SEBASTIEN MERCIER   \n",
      "\n",
      "         Code postal  ... 5eme lot  Surface Carrez du 5eme lot  \\\n",
      "0               1630  ...      NaN                         NaN   \n",
      "1               1630  ...      NaN                         NaN   \n",
      "2               1630  ...      NaN                         NaN   \n",
      "3               1450  ...      NaN                         NaN   \n",
      "4               1800  ...      NaN                         NaN   \n",
      "...              ...  ...      ...                         ...   \n",
      "3727000        75007  ...      NaN                         NaN   \n",
      "3727001        75007  ...      NaN                         NaN   \n",
      "3727002        75007  ...      NaN                         NaN   \n",
      "3727003        75015  ...      NaN                         NaN   \n",
      "3727004        75015  ...      NaN                         NaN   \n",
      "\n",
      "         Nombre de lots  Code type local   Type local  Surface reelle bati  \\\n",
      "0                     1              3.0   Dépendance                  0.0   \n",
      "1                     1              3.0   Dépendance                  0.0   \n",
      "2                     1              2.0  Appartement                233.0   \n",
      "3                     0              1.0       Maison                 64.0   \n",
      "4                     0              1.0       Maison                 73.0   \n",
      "...                 ...              ...          ...                  ...   \n",
      "3727000               1              3.0   Dépendance                  0.0   \n",
      "3727001               1              3.0   Dépendance                  0.0   \n",
      "3727002               1              3.0   Dépendance                  0.0   \n",
      "3727003               1              3.0   Dépendance                  0.0   \n",
      "3727004               1              2.0  Appartement                 18.0   \n",
      "\n",
      "        Nombre pieces principales Nature culture  Nature culture speciale  \\\n",
      "0                               0            NaN                      NaN   \n",
      "1                               0            NaN                      NaN   \n",
      "2                               8            NaN                      NaN   \n",
      "3                               3              S                      NaN   \n",
      "4                               3              S                      NaN   \n",
      "...                           ...            ...                      ...   \n",
      "3727000                         0            NaN                      NaN   \n",
      "3727001                         0            NaN                      NaN   \n",
      "3727002                         0            NaN                      NaN   \n",
      "3727003                         0            NaN                      NaN   \n",
      "3727004                         1            NaN                      NaN   \n",
      "\n",
      "        Surface terrain  \n",
      "0                   NaN  \n",
      "1                   NaN  \n",
      "2                   NaN  \n",
      "3                 988.0  \n",
      "4                 835.0  \n",
      "...                 ...  \n",
      "3727000             NaN  \n",
      "3727001             NaN  \n",
      "3727002             NaN  \n",
      "3727003             NaN  \n",
      "3727004             NaN  \n",
      "\n",
      "[3727005 rows x 35 columns]\n"
     ]
    }
   ],
   "source": [
    "# Dates\n",
    "df[\"Date mutation\"]=pd.to_datetime(df[\"Date mutation\"], format=\"%d/%m/%Y\")\n",
    "print(df.info())\n",
    "print(df)"
   ]
  },
  {
   "cell_type": "code",
   "execution_count": null,
   "metadata": {},
   "outputs": [
    {
     "name": "stdout",
     "output_type": "stream",
     "text": [
      "<class 'pandas.core.frame.DataFrame'>\n",
      "RangeIndex: 3727005 entries, 0 to 3727004\n",
      "Data columns (total 35 columns):\n",
      " #   Column                      Dtype         \n",
      "---  ------                      -----         \n",
      " 0   No disposition              int64         \n",
      " 1   Date mutation               datetime64[ns]\n",
      " 2   Nature mutation             object        \n",
      " 3   Valeur fonciere             float64       \n",
      " 4   No voie                     float64       \n",
      " 5   B/T/Q                       object        \n",
      " 6   Type de voie                object        \n",
      " 7   Code voie                   Int64         \n",
      " 8   Voie                        object        \n",
      " 9   Code postal                 Int64         \n",
      " 10  Commune                     object        \n",
      " 11  Code departement            Int64         \n",
      " 12  Code commune                int64         \n",
      " 13  Prefixe de section          float64       \n",
      " 14  Section                     object        \n",
      " 15  No plan                     int64         \n",
      " 16  No Volume                   object        \n",
      " 17  1er lot                     object        \n",
      " 18  Surface Carrez du 1er lot   float64       \n",
      " 19  2eme lot                    object        \n",
      " 20  Surface Carrez du 2eme lot  float64       \n",
      " 21  3eme lot                    object        \n",
      " 22  Surface Carrez du 3eme lot  float64       \n",
      " 23  4eme lot                    float64       \n",
      " 24  Surface Carrez du 4eme lot  float64       \n",
      " 25  5eme lot                    object        \n",
      " 26  Surface Carrez du 5eme lot  float64       \n",
      " 27  Nombre de lots              int64         \n",
      " 28  Code type local             float64       \n",
      " 29  Type local                  object        \n",
      " 30  Surface reelle bati         float64       \n",
      " 31  Nombre pieces principales   Int64         \n",
      " 32  Nature culture              object        \n",
      " 33  Nature culture speciale     object        \n",
      " 34  Surface terrain             float64       \n",
      "dtypes: Int64(4), datetime64[ns](1), float64(12), int64(4), object(14)\n",
      "memory usage: 1009.4+ MB\n",
      "None\n"
     ]
    }
   ],
   "source": [
    "print(df.info())"
   ]
  },
  {
   "cell_type": "markdown",
   "metadata": {},
   "source": [
    "### Drop Colonnes"
   ]
  },
  {
   "cell_type": "code",
   "execution_count": null,
   "metadata": {},
   "outputs": [
    {
     "data": {
      "text/plain": [
       "Index(['No disposition', 'Date mutation', 'Nature mutation', 'Valeur fonciere',\n",
       "       'No voie', 'B/T/Q', 'Type de voie', 'Code voie', 'Voie', 'Code postal',\n",
       "       'Commune', 'Code departement', 'Code commune', 'Prefixe de section',\n",
       "       'Section', 'No plan', 'No Volume', '1er lot',\n",
       "       'Surface Carrez du 1er lot', '2eme lot', 'Surface Carrez du 2eme lot',\n",
       "       '3eme lot', 'Surface Carrez du 3eme lot', '4eme lot',\n",
       "       'Surface Carrez du 4eme lot', '5eme lot', 'Surface Carrez du 5eme lot',\n",
       "       'Nombre de lots', 'Code type local', 'Type local',\n",
       "       'Surface reelle bati', 'Nombre pieces principales', 'Nature culture',\n",
       "       'Nature culture speciale', 'Surface terrain'],\n",
       "      dtype='object')"
      ]
     },
     "execution_count": 420,
     "metadata": {},
     "output_type": "execute_result"
    }
   ],
   "source": [
    "df.columns"
   ]
  },
  {
   "cell_type": "code",
   "execution_count": null,
   "metadata": {},
   "outputs": [],
   "source": [
    "colonnes_to_drop = ['No disposition','No voie', 'Prefixe de section', 'Section', 'No plan', 'No Volume', '1er lot', '2eme lot', '3eme lot',  '4eme lot', '5eme lot', 'Code type local', 'Nature culture', 'Nature culture speciale']\n",
    "df = df.drop(columns=colonnes_to_drop)"
   ]
  },
  {
   "cell_type": "code",
   "execution_count": null,
   "metadata": {},
   "outputs": [
    {
     "name": "stdout",
     "output_type": "stream",
     "text": [
      "Index(['Date mutation', 'Nature mutation', 'Valeur fonciere', 'B/T/Q',\n",
      "       'Type de voie', 'Code voie', 'Voie', 'Code postal', 'Commune',\n",
      "       'Code departement', 'Code commune', 'Surface Carrez du 1er lot',\n",
      "       'Surface Carrez du 2eme lot', 'Surface Carrez du 3eme lot',\n",
      "       'Surface Carrez du 4eme lot', 'Surface Carrez du 5eme lot',\n",
      "       'Nombre de lots', 'Type local', 'Surface reelle bati',\n",
      "       'Nombre pieces principales', 'Surface terrain'],\n",
      "      dtype='object')\n"
     ]
    }
   ],
   "source": [
    "print(df.columns)"
   ]
  },
  {
   "cell_type": "markdown",
   "metadata": {},
   "source": [
    "### Remplacer valeurs manquantes (pour les surfaces carrez)"
   ]
  },
  {
   "cell_type": "code",
   "execution_count": null,
   "metadata": {},
   "outputs": [
    {
     "name": "stdout",
     "output_type": "stream",
     "text": [
      "[nan]\n"
     ]
    }
   ],
   "source": [
    "# Avant\n",
    "SurfCarrez1 = df['Surface Carrez du 1er lot'].unique()\n",
    "print(SurfCarrez1) # on voit qu'il y a des valeurs manquantes\n",
    "# pareil pour 'Surface Carrez du 2eme lot', 'Surface Carrez du 3eme lot', 'Surface Carrez du 4eme lot', 'Surface Carrez du 5eme lot'"
   ]
  },
  {
   "cell_type": "code",
   "execution_count": null,
   "metadata": {},
   "outputs": [
    {
     "name": "stdout",
     "output_type": "stream",
     "text": [
      "[0.]\n"
     ]
    }
   ],
   "source": [
    "# Après\n",
    "df[['Surface Carrez du 1er lot', 'Surface Carrez du 2eme lot', 'Surface Carrez du 3eme lot', 'Surface Carrez du 4eme lot', 'Surface Carrez du 5eme lot']] = df[['Surface Carrez du 1er lot', 'Surface Carrez du 2eme lot', 'Surface Carrez du 3eme lot', 'Surface Carrez du 4eme lot', 'Surface Carrez du 5eme lot']].fillna(0)\n",
    "SurfCarrez1_sansNaN = df['Surface Carrez du 1er lot'].unique()\n",
    "print(SurfCarrez1_sansNaN)"
   ]
  },
  {
   "cell_type": "markdown",
   "metadata": {},
   "source": [
    "### Somme Surface Carrez"
   ]
  },
  {
   "cell_type": "code",
   "execution_count": null,
   "metadata": {},
   "outputs": [
    {
     "name": "stdout",
     "output_type": "stream",
     "text": [
      "<class 'pandas.core.frame.DataFrame'>\n",
      "RangeIndex: 3727005 entries, 0 to 3727004\n",
      "Data columns (total 5 columns):\n",
      " #   Column                      Dtype  \n",
      "---  ------                      -----  \n",
      " 0   Surface Carrez du 1er lot   float64\n",
      " 1   Surface Carrez du 2eme lot  float64\n",
      " 2   Surface Carrez du 3eme lot  float64\n",
      " 3   Surface Carrez du 4eme lot  float64\n",
      " 4   Surface Carrez du 5eme lot  float64\n",
      "dtypes: float64(5)\n",
      "memory usage: 142.2 MB\n",
      "None\n",
      "    Surface Carrez total\n",
      "0                    0.0\n",
      "1                    0.0\n",
      "2                    0.0\n",
      "3                    0.0\n",
      "4                    0.0\n",
      "5                    0.0\n",
      "6                    0.0\n",
      "7                    0.0\n",
      "8                    0.0\n",
      "9                    0.0\n",
      "10                   0.0\n",
      "11                   0.0\n",
      "12                   0.0\n",
      "13                   0.0\n",
      "14                   0.0\n",
      "15                   0.0\n",
      "16                   0.0\n",
      "17                   0.0\n",
      "18                   0.0\n",
      "19                   0.0\n"
     ]
    }
   ],
   "source": [
    "print(df[['Surface Carrez du 1er lot', 'Surface Carrez du 2eme lot', 'Surface Carrez du 3eme lot', 'Surface Carrez du 4eme lot', 'Surface Carrez du 5eme lot']].info())\n",
    "\n",
    "df['Surface Carrez total'] = df[colonnes_surfacecarrez].sum(axis=1)\n",
    "\n",
    "print(df[['Surface Carrez total']].head(20))"
   ]
  },
  {
   "cell_type": "markdown",
   "metadata": {},
   "source": [
    "### Drop colonnes surface carrez des lots"
   ]
  },
  {
   "cell_type": "code",
   "execution_count": null,
   "metadata": {},
   "outputs": [],
   "source": [
    "df=df.drop(columns=colonnes_surfacecarrez)"
   ]
  },
  {
   "cell_type": "code",
   "execution_count": null,
   "metadata": {},
   "outputs": [
    {
     "name": "stdout",
     "output_type": "stream",
     "text": [
      "Index(['Date mutation', 'Nature mutation', 'Valeur fonciere', 'B/T/Q',\n",
      "       'Type de voie', 'Code voie', 'Voie', 'Code postal', 'Commune',\n",
      "       'Code departement', 'Code commune', 'Nombre de lots', 'Type local',\n",
      "       'Surface reelle bati', 'Nombre pieces principales', 'Surface terrain',\n",
      "       'Surface Carrez total'],\n",
      "      dtype='object')\n"
     ]
    }
   ],
   "source": [
    "print(df.columns)"
   ]
  },
  {
   "cell_type": "code",
   "execution_count": null,
   "metadata": {},
   "outputs": [
    {
     "name": "stdout",
     "output_type": "stream",
     "text": [
      "(3727005, 17)\n"
     ]
    }
   ],
   "source": [
    "print(df.shape)"
   ]
  },
  {
   "cell_type": "code",
   "execution_count": null,
   "metadata": {},
   "outputs": [],
   "source": [
    "df_cleancol=df"
   ]
  },
  {
   "cell_type": "markdown",
   "metadata": {},
   "source": [
    "### Fusion Adresse"
   ]
  },
  {
   "cell_type": "markdown",
   "metadata": {},
   "source": [
    "Valeurs manquantes"
   ]
  },
  {
   "cell_type": "code",
   "execution_count": 432,
   "metadata": {},
   "outputs": [],
   "source": [
    "df[['Code voie', 'B/T/Q','Type de voie','Voie', 'Code postal', 'Commune']] = df[['Code voie', 'B/T/Q','Type de voie','Voie', 'Code postal', 'Commune']].astype(str).fillna('')\n",
    "df[['Code voie', 'B/T/Q','Type de voie','Voie', 'Code postal', 'Commune']] = df[['Code voie', 'B/T/Q','Type de voie','Voie', 'Code postal', 'Commune']].replace('nan', '')\n",
    "df['Code voie'] = df['Code voie'].replace('NA', '')"
   ]
  },
  {
   "cell_type": "code",
   "execution_count": 451,
   "metadata": {},
   "outputs": [
    {
     "name": "stdout",
     "output_type": "stream",
     "text": [
      "<class 'pandas.core.frame.DataFrame'>\n",
      "RangeIndex: 3727005 entries, 0 to 3727004\n",
      "Data columns (total 35 columns):\n",
      " #   Column                      Dtype  \n",
      "---  ------                      -----  \n",
      " 0   No disposition              int64  \n",
      " 1   Date mutation               object \n",
      " 2   Nature mutation             object \n",
      " 3   Valeur fonciere             object \n",
      " 4   No voie                     float64\n",
      " 5   B/T/Q                       object \n",
      " 6   Type de voie                object \n",
      " 7   Code voie                   float64\n",
      " 8   Voie                        object \n",
      " 9   Code postal                 float64\n",
      " 10  Commune                     object \n",
      " 11  Code departement            float64\n",
      " 12  Code commune                int64  \n",
      " 13  Prefixe de section          float64\n",
      " 14  Section                     object \n",
      " 15  No plan                     int64  \n",
      " 16  No Volume                   object \n",
      " 17  1er lot                     object \n",
      " 18  Surface Carrez du 1er lot   object \n",
      " 19  2eme lot                    object \n",
      " 20  Surface Carrez du 2eme lot  object \n",
      " 21  3eme lot                    object \n",
      " 22  Surface Carrez du 3eme lot  object \n",
      " 23  4eme lot                    float64\n",
      " 24  Surface Carrez du 4eme lot  object \n",
      " 25  5eme lot                    object \n",
      " 26  Surface Carrez du 5eme lot  object \n",
      " 27  Nombre de lots              int64  \n",
      " 28  Code type local             float64\n",
      " 29  Type local                  object \n",
      " 30  Surface reelle bati         float64\n",
      " 31  Nombre pieces principales   float64\n",
      " 32  Nature culture              object \n",
      " 33  Nature culture speciale     object \n",
      " 34  Surface terrain             float64\n",
      "dtypes: float64(10), int64(4), object(21)\n",
      "memory usage: 995.2+ MB\n"
     ]
    }
   ],
   "source": [
    "df.info()"
   ]
  },
  {
   "cell_type": "code",
   "execution_count": 438,
   "metadata": {},
   "outputs": [
    {
     "name": "stdout",
     "output_type": "stream",
     "text": [
      "['' 'T' 'A' 'B' '2' 'D' 'G' 'C' 'F' 'Z' 'Q' 'E' 'H' 'J' 'I' 'N' 'L' 'P'\n",
      " 'O' 'R' 'W' 'Y' '1' 'M' 'X' 'K' 'U' 'V' '7' '3' 'S' '5' '9' '4' '0' '8'\n",
      " '6' '*' '-' '.']\n",
      "['124' '107' '40' ... '9397' '9762' '9466']\n",
      "['ALL' 'RTE' 'CHE' 'RUE' '' 'AV' 'IMP' 'BD' 'CHEM' 'QUAI' 'VC' 'GR' 'PL'\n",
      " 'LOT' 'MTE' 'CRS' 'FG' 'CLOS' 'D' 'PAS' 'VOIE' 'RLE' 'RUET' 'PTR' 'PARC'\n",
      " 'PROM' 'RES' 'MAIL' 'COUR' 'COTE' 'PCH' 'CITE' 'PLA' 'HAM' 'PRT' 'ZA'\n",
      " 'VCHE' 'GPL' 'ZI' 'SQ' 'SEN' 'CHS' 'CR' 'QUA' 'REM' 'FRM' 'N' 'RPT' 'VLA'\n",
      " 'RPE' 'ZAC' 'PTE' 'ECL' 'ESPA' 'VGE' 'TRA' 'PASS' 'CD' 'DOM' 'DIG' 'ESC'\n",
      " 'VTE' 'DRA' 'COR' 'ESP' 'ART' 'GAL' 'HLM' 'VALL' 'ACH' 'ILOT' 'CAMI'\n",
      " 'CAE' 'BRTL' 'PLE' 'PTTE' 'PAE' 'DSC' 'CALL' 'TSSE' 'VAL' 'RTD' 'CAR'\n",
      " 'RIVE' 'VEN' 'ZONE' 'CHT' 'AUT' 'ENC' 'AGL' 'CTRE' 'CPG' 'PORT' 'MAIS'\n",
      " 'PLAN' 'TOUR' 'PLAG' 'MAR' 'CC' 'HAB' 'EMBR' 'PONT' 'ROC' 'CAN' 'CHV'\n",
      " 'CRX' 'BSN' 'ZAD' 'VIL' 'LEVE' 'PRV' 'PLCI' 'PKG' 'VIA' 'CF' 'PIST' 'CTR'\n",
      " 'TRT' 'RAC' 'BER' 'PLT' 'BRG' 'CORO' 'VOIR' 'CASR' 'BRE' 'NTE' 'CHL'\n",
      " 'CLR' 'COL' 'VOY' 'LICE' 'HLG' 'JARD' 'BORD' 'MRN']\n",
      "['1630' '1450' '1800' ... '75012' '75007' '75005']\n",
      "['ST-GENIS-POUILLY' 'SERRIERES-SUR-AIN' 'SAINT-JEAN-DE-NIOST' ...\n",
      " 'PARIS 07' 'PARIS 16' 'PARIS 05']\n",
      "0\n"
     ]
    }
   ],
   "source": [
    "# verif qu'il n'y a plus de NA ou 'nan'\n",
    "print(df['B/T/Q'].unique())\n",
    "print(df['Code voie'].unique())\n",
    "print(df['Type de voie'].unique())\n",
    "print(df['Code postal'].unique())\n",
    "print(df['Commune'].unique())\n",
    "print(df['Commune'].isnull().sum())"
   ]
  },
  {
   "cell_type": "markdown",
   "metadata": {},
   "source": [
    "Fusion adresse "
   ]
  },
  {
   "cell_type": "code",
   "execution_count": 439,
   "metadata": {},
   "outputs": [
    {
     "name": "stdout",
     "output_type": "stream",
     "text": [
      "<class 'pandas.core.frame.DataFrame'>\n",
      "RangeIndex: 3727005 entries, 0 to 3727004\n",
      "Data columns (total 6 columns):\n",
      " #   Column        Dtype \n",
      "---  ------        ----- \n",
      " 0   Code voie     object\n",
      " 1   B/T/Q         object\n",
      " 2   Type de voie  object\n",
      " 3   Voie          object\n",
      " 4   Code postal   object\n",
      " 5   Commune       object\n",
      "dtypes: object(6)\n",
      "memory usage: 170.6+ MB\n"
     ]
    }
   ],
   "source": [
    "df[['Code voie', 'B/T/Q','Type de voie','Voie', 'Code postal', 'Commune']].info()"
   ]
  },
  {
   "cell_type": "code",
   "execution_count": 440,
   "metadata": {},
   "outputs": [
    {
     "name": "stdout",
     "output_type": "stream",
     "text": [
      "0               124  ALL DES HETRES 1630 ST-GENIS-POUILLY\n",
      "1               124  ALL DES HETRES 1630 ST-GENIS-POUILLY\n",
      "2               124  ALL DES HETRES 1630 ST-GENIS-POUILLY\n",
      "3               107  RTE DE PONCIN 1450 SERRIERES-SUR-AIN\n",
      "4          40 T CHE DE L'AUBEPIN 1800 SAINT-JEAN-DE-NIOST\n",
      "                                ...                      \n",
      "3727000           1832  AV CHARLES FLOQUET 75007 PARIS 07\n",
      "3727001           1832  AV CHARLES FLOQUET 75007 PARIS 07\n",
      "3727002           1832  AV CHARLES FLOQUET 75007 PARIS 07\n",
      "3727003       8892 B RUE SEBASTIEN MERCIER 75015 PARIS 15\n",
      "3727004       8892 B RUE SEBASTIEN MERCIER 75015 PARIS 15\n",
      "Name: Adresse, Length: 3727005, dtype: object\n"
     ]
    }
   ],
   "source": [
    "df['Adresse'] = df['Code voie'] + ' ' + df['B/T/Q'] + ' '  + df['Type de voie'] + ' ' + df['Voie'] + ' ' + df['Code postal'] + ' ' + df['Commune']\n",
    "print(df['Adresse'])"
   ]
  },
  {
   "cell_type": "markdown",
   "metadata": {},
   "source": [
    "Supp Elements d'adresse"
   ]
  },
  {
   "cell_type": "code",
   "execution_count": 441,
   "metadata": {},
   "outputs": [
    {
     "name": "stdout",
     "output_type": "stream",
     "text": [
      "        Date mutation Nature mutation  Valeur fonciere  Code departement  \\\n",
      "0          2023-01-05           Vente      107000000.0                 1   \n",
      "1          2023-01-05           Vente      107000000.0                 1   \n",
      "2          2023-01-05           Vente      107000000.0                 1   \n",
      "3          2023-01-03           Vente       15220000.0                 1   \n",
      "4          2023-01-05           Vente       26900000.0                 1   \n",
      "...               ...             ...              ...               ...   \n",
      "3727000    2023-10-05    Adjudication      393100000.0                75   \n",
      "3727001    2023-10-05    Adjudication      393100000.0                75   \n",
      "3727002    2023-10-05    Adjudication      393100000.0                75   \n",
      "3727003    2023-12-28           Vente        9825000.0                75   \n",
      "3727004    2023-12-28           Vente        9825000.0                75   \n",
      "\n",
      "         Code commune  Nombre de lots   Type local  Surface reelle bati  \\\n",
      "0                 354               1   Dépendance                  0.0   \n",
      "1                 354               1   Dépendance                  0.0   \n",
      "2                 354               1  Appartement                233.0   \n",
      "3                 404               0       Maison                 64.0   \n",
      "4                 361               0       Maison                 73.0   \n",
      "...               ...             ...          ...                  ...   \n",
      "3727000           107               1   Dépendance                  0.0   \n",
      "3727001           107               1   Dépendance                  0.0   \n",
      "3727002           107               1   Dépendance                  0.0   \n",
      "3727003           115               1   Dépendance                  0.0   \n",
      "3727004           115               1  Appartement                 18.0   \n",
      "\n",
      "         Nombre pieces principales  Surface terrain  Surface Carrez total  \\\n",
      "0                                0              NaN                   0.0   \n",
      "1                                0              NaN                   0.0   \n",
      "2                                8              NaN                   0.0   \n",
      "3                                3            988.0                   0.0   \n",
      "4                                3            835.0                   0.0   \n",
      "...                            ...              ...                   ...   \n",
      "3727000                          0              NaN                   0.0   \n",
      "3727001                          0              NaN                   0.0   \n",
      "3727002                          0              NaN                   0.0   \n",
      "3727003                          0              NaN                   0.0   \n",
      "3727004                          1              NaN                   0.0   \n",
      "\n",
      "                                                Adresse  \n",
      "0             124  ALL DES HETRES 1630 ST-GENIS-POUILLY  \n",
      "1             124  ALL DES HETRES 1630 ST-GENIS-POUILLY  \n",
      "2             124  ALL DES HETRES 1630 ST-GENIS-POUILLY  \n",
      "3             107  RTE DE PONCIN 1450 SERRIERES-SUR-AIN  \n",
      "4        40 T CHE DE L'AUBEPIN 1800 SAINT-JEAN-DE-NIOST  \n",
      "...                                                 ...  \n",
      "3727000         1832  AV CHARLES FLOQUET 75007 PARIS 07  \n",
      "3727001         1832  AV CHARLES FLOQUET 75007 PARIS 07  \n",
      "3727002         1832  AV CHARLES FLOQUET 75007 PARIS 07  \n",
      "3727003     8892 B RUE SEBASTIEN MERCIER 75015 PARIS 15  \n",
      "3727004     8892 B RUE SEBASTIEN MERCIER 75015 PARIS 15  \n",
      "\n",
      "[3727005 rows x 12 columns]\n"
     ]
    }
   ],
   "source": [
    "#Suppr Elements d'adresse inutiles\n",
    "df=df.drop(columns=['Code voie', 'B/T/Q','Type de voie','Voie', 'Code postal', 'Commune'])\n",
    "print(df)"
   ]
  },
  {
   "cell_type": "markdown",
   "metadata": {},
   "source": [
    "### GroupBy"
   ]
  },
  {
   "cell_type": "markdown",
   "metadata": {},
   "source": [
    "Supprimer les duplications"
   ]
  },
  {
   "cell_type": "code",
   "execution_count": 442,
   "metadata": {},
   "outputs": [],
   "source": [
    "df_noduppl=df.drop_duplicates()"
   ]
  },
  {
   "cell_type": "markdown",
   "metadata": {},
   "source": [
    "groupby Data et Adresse :"
   ]
  },
  {
   "cell_type": "code",
   "execution_count": 443,
   "metadata": {},
   "outputs": [],
   "source": [
    "group_df = df_noduppl.groupby(['Date mutation', 'Adresse']).agg({\n",
    "    'Valeur fonciere': 'first',\n",
    "    'Code departement': 'first',\n",
    "    'Code commune': 'first',\n",
    "    'Nombre de lots': 'sum',\n",
    "    'Type local': lambda x: ', '.join(x.dropna().unique()),\n",
    "    'Surface Carrez total': 'sum',\n",
    "    'Surface reelle bati': 'sum',\n",
    "    'Nombre pieces principales': 'sum', \n",
    "    'Surface terrain': 'sum'\n",
    "}).reset_index()"
   ]
  },
  {
   "cell_type": "code",
   "execution_count": 452,
   "metadata": {},
   "outputs": [
    {
     "name": "stdout",
     "output_type": "stream",
     "text": [
      "        Date mutation                               Adresse  Valeur fonciere  \\\n",
      "0          2023-01-01      <NA>   CHAMP PEJUS 53410 BOURGON        6000000.0   \n",
      "1          2023-01-01   <NA>   LA FRILLONIERE 53410 BOURGON        6000000.0   \n",
      "2          2023-01-01    <NA>   LE CHATELLIER 53410 BOURGON        6000000.0   \n",
      "3          2023-01-01     <NA>   LE CHAUFFAUD 53410 BOURGON        6000000.0   \n",
      "4          2023-01-01   <NA>   PRE DES LANDES 53410 BOURGON        6000000.0   \n",
      "...               ...                                   ...              ...   \n",
      "1614604    2023-12-31        <NA>   LES LAURONS 26110 NYONS      149000000.0   \n",
      "1614605    2023-12-31       <NA>   PRE AU MOINE 44260 BOUEE        1033527.0   \n",
      "1614606    2023-12-31  <NA>   PRES DES CHATEAUX 44260 BOUEE        1033527.0   \n",
      "1614607    2023-12-31     <NA>   ROCHE TORIN 50220 COURTILS          10000.0   \n",
      "1614608    2023-12-31  <NA> A RES LES CRISTAUX 11560 FLEURY        8500000.0   \n",
      "\n",
      "         Code departement  Code commune  Nombre de lots  \\\n",
      "0                      53            40               0   \n",
      "1                      53            40               0   \n",
      "2                      53            40               0   \n",
      "3                      53            40               0   \n",
      "4                      53            40               0   \n",
      "...                   ...           ...             ...   \n",
      "1614604                26           220               0   \n",
      "1614605                44            19               0   \n",
      "1614606                44            19               0   \n",
      "1614607                50           146               0   \n",
      "1614608                11           145               2   \n",
      "\n",
      "                      Type local  Surface Carrez total  Surface reelle bati  \\\n",
      "0                                                  0.0                  0.0   \n",
      "1                                                  0.0                  0.0   \n",
      "2                                                  0.0                  0.0   \n",
      "3                                                  0.0                  0.0   \n",
      "4                                                  0.0                  0.0   \n",
      "...                          ...                   ...                  ...   \n",
      "1614604                                            0.0                  0.0   \n",
      "1614605                                            0.0                  0.0   \n",
      "1614606                                            0.0                  0.0   \n",
      "1614607                                            0.0                  0.0   \n",
      "1614608  Dépendance, Appartement                   0.0                 24.0   \n",
      "\n",
      "         Nombre pieces principales  Surface terrain  \n",
      "0                                0          66150.0  \n",
      "1                                0          20363.0  \n",
      "2                                0          18461.0  \n",
      "3                                0           3722.0  \n",
      "4                                0          33659.0  \n",
      "...                            ...              ...  \n",
      "1614604                          0            700.0  \n",
      "1614605                          0           6533.0  \n",
      "1614606                          0          63340.0  \n",
      "1614607                          0            960.0  \n",
      "1614608                          1              0.0  \n",
      "\n",
      "[1614609 rows x 11 columns]\n"
     ]
    }
   ],
   "source": [
    "print(group_df)"
   ]
  },
  {
   "cell_type": "code",
   "execution_count": null,
   "metadata": {},
   "outputs": [
    {
     "name": "stdout",
     "output_type": "stream",
     "text": [
      "Adresse                                             Date mutation\n",
      "1  CHE DE LA LEVEE 1340 JAYAT                       2023-12-08       18000000.0\n",
      "1  CHEM DES AUBEPINES 1240 CERTINES                 2023-07-21       20600000.0\n",
      "                                                    2023-10-06       22400000.0\n",
      "1  RTE D ATTIGNAT 1310 POLLIAT                      2023-02-02       14700000.0\n",
      "                                                    2023-04-13       28390000.0\n",
      "                                                                        ...    \n",
      "<NA> B LOT LES ORMEAUX 1500 CHATEAU-GAILLARD        2023-07-31       28600000.0\n",
      "<NA> C  PENTE A GACHY 1250 CORVEISSIAT              2023-02-27       13900000.0\n",
      "<NA> C CLOS JOSEPH GEOFFRAY 1800 RIGNIEUX-LE-FRANC  2023-04-14       19188431.0\n",
      "<NA> D  PENTE A GACHY 1250 CORVEISSIAT              2023-11-16       11100000.0\n",
      "<NA> T  ORGENT 1270 COLIGNY                         2023-07-24       34300000.0\n",
      "Name: Valeur fonciere, Length: 18100, dtype: float64\n"
     ]
    }
   ],
   "source": [
    "\"\"\"df_grouped=group_df.groupby(['Adresse', 'Date mutation'])['Valeur fonciere'].mean().round(1)\n",
    "# arrondi pour enlever la notation scientifique\n",
    "print(df_grouped)\"\"\""
   ]
  },
  {
   "cell_type": "markdown",
   "metadata": {},
   "source": [
    "### Région IDF :\n",
    "\n",
    "https://www.delftstack.com/fr/howto/python-pandas/how-to-filter-dataframe-rows-based-on-column-values-in-pandas/"
   ]
  },
  {
   "cell_type": "code",
   "execution_count": null,
   "metadata": {},
   "outputs": [],
   "source": [
    "regionidf={1}\n",
    "region_1={75,77,78,91,92,93,94,95}\n",
    "df_regionidf= group_df[group_df[\"Code departement\"].isin(regionidf)]"
   ]
  },
  {
   "cell_type": "code",
   "execution_count": null,
   "metadata": {},
   "outputs": [
    {
     "name": "stdout",
     "output_type": "stream",
     "text": [
      "   Date mutation Nature mutation  Valeur fonciere  Code departement  \\\n",
      "0     2023-01-05           Vente      107000000.0                 1   \n",
      "3     2023-01-03           Vente       15220000.0                 1   \n",
      "4     2023-01-05           Vente       26900000.0                 1   \n",
      "7     2023-01-03           Vente       77000000.0                 1   \n",
      "8     2023-01-06           Vente         682000.0                 1   \n",
      "9     2023-01-06         Echange        1004000.0                 1   \n",
      "13    2023-01-06           Vente        8552000.0                 1   \n",
      "14    2023-01-06           Vente        8552000.0                 1   \n",
      "16    2023-01-04           Vente       33500000.0                 1   \n",
      "18    2023-01-04           Vente         850000.0                 1   \n",
      "\n",
      "    Code commune  Nombre de lots  Type local  Surface reelle bati  \\\n",
      "0            354               1  Dépendance                  0.0   \n",
      "3            404               0      Maison                 64.0   \n",
      "4            361               0      Maison                 73.0   \n",
      "7            281               0      Maison                136.0   \n",
      "8            446               0         NaN                  NaN   \n",
      "9              4               0         NaN                  NaN   \n",
      "13            24               0         NaN                  NaN   \n",
      "14            24               0      Maison                160.0   \n",
      "16           152               0      Maison                106.0   \n",
      "18           408               0         NaN                  NaN   \n",
      "\n",
      "    Nombre pieces principales  Surface terrain  Surface Carrez total lots  \\\n",
      "0                           0              NaN                        0.0   \n",
      "3                           3            988.0                        0.0   \n",
      "4                           3            835.0                        0.0   \n",
      "7                           7            921.0                        0.0   \n",
      "8                        <NA>          17050.0                        0.0   \n",
      "9                        <NA>            124.0                        0.0   \n",
      "13                       <NA>             63.0                        0.0   \n",
      "14                          5              NaN                        0.0   \n",
      "16                          6           1500.0                        0.0   \n",
      "18                       <NA>            159.0                        0.0   \n",
      "\n",
      "                                            Adresse  \n",
      "0         124  ALL DES HETRES 1630 ST-GENIS-POUILLY  \n",
      "3         107  RTE DE PONCIN 1450 SERRIERES-SUR-AIN  \n",
      "4    40 T CHE DE L'AUBEPIN 1800 SAINT-JEAN-DE-NIOST  \n",
      "7           151 A RUE DU PARC DE VILLARD 1210 ORNEX  \n",
      "8              <NA>   ETANG DU BOIS 1480 VILLENEUVE  \n",
      "9        <NA>   CARRE ROCHER 1500 AMBERIEU-EN-BUGEY  \n",
      "13                   <NA>   VACAGNOLE 1340 ATTIGNAT  \n",
      "14  380  CHE DE LA CROIX DE VACAGNOLE 1340 ATTIGNAT  \n",
      "16                 100  RUE DU VERGER 1130 ECHALLON  \n",
      "18    <NA>   PETIT SIMANDRE 1250 SIMANDRE-SUR-SURAN  \n"
     ]
    }
   ],
   "source": [
    "print(df_regionidf.head(10))"
   ]
  },
  {
   "cell_type": "code",
   "execution_count": null,
   "metadata": {},
   "outputs": [
    {
     "name": "stdout",
     "output_type": "stream",
     "text": [
      "<class 'pandas.core.frame.DataFrame'>\n",
      "Index: 18100 entries, 0 to 40969\n",
      "Data columns (total 12 columns):\n",
      " #   Column                     Non-Null Count  Dtype         \n",
      "---  ------                     --------------  -----         \n",
      " 0   Date mutation              18100 non-null  datetime64[ns]\n",
      " 1   Nature mutation            18100 non-null  object        \n",
      " 2   Valeur fonciere            18034 non-null  float64       \n",
      " 3   Code departement           18100 non-null  Int64         \n",
      " 4   Code commune               18100 non-null  int64         \n",
      " 5   Nombre de lots             18100 non-null  int64         \n",
      " 6   Type local                 8463 non-null   object        \n",
      " 7   Surface reelle bati        8437 non-null   float64       \n",
      " 8   Nombre pieces principales  8437 non-null   Int64         \n",
      " 9   Surface terrain            13875 non-null  float64       \n",
      " 10  Surface Carrez total lots  18100 non-null  float64       \n",
      " 11  Adresse                    18100 non-null  object        \n",
      "dtypes: Int64(2), datetime64[ns](1), float64(4), int64(2), object(3)\n",
      "memory usage: 1.8+ MB\n",
      "None\n"
     ]
    }
   ],
   "source": [
    "print(df_regionidf.info())"
   ]
  },
  {
   "cell_type": "code",
   "execution_count": null,
   "metadata": {},
   "outputs": [
    {
     "data": {
      "text/plain": [
       "Index(['Date mutation', 'Nature mutation', 'Valeur fonciere',\n",
       "       'Code departement', 'Code commune', 'Nombre de lots', 'Type local',\n",
       "       'Surface reelle bati', 'Nombre pieces principales', 'Surface terrain',\n",
       "       'Surface Carrez total lots', 'Adresse'],\n",
       "      dtype='object')"
      ]
     },
     "execution_count": 377,
     "metadata": {},
     "output_type": "execute_result"
    }
   ],
   "source": [
    "df_regionidf.columns"
   ]
  },
  {
   "cell_type": "code",
   "execution_count": null,
   "metadata": {},
   "outputs": [
    {
     "name": "stdout",
     "output_type": "stream",
     "text": [
      "      Date mutation Nature mutation  Valeur fonciere  Code departement  \\\n",
      "0        2023-01-05           Vente      107000000.0                 1   \n",
      "3        2023-01-03           Vente       15220000.0                 1   \n",
      "4        2023-01-05           Vente       26900000.0                 1   \n",
      "7        2023-01-03           Vente       77000000.0                 1   \n",
      "8        2023-01-06           Vente         682000.0                 1   \n",
      "...             ...             ...              ...               ...   \n",
      "40928    2023-03-21    Adjudication       11060000.0                 1   \n",
      "40929    2023-09-05    Adjudication        4500000.0                 1   \n",
      "40931    2023-11-21    Adjudication       23210000.0                 1   \n",
      "40934    2023-10-17    Adjudication      200000000.0                 1   \n",
      "40969    2023-10-17    Adjudication        6100000.0                 1   \n",
      "\n",
      "       Code commune  Nombre de lots                                Type local  \\\n",
      "0               354               1                                Dépendance   \n",
      "3               404               0                                    Maison   \n",
      "4               361               0                                    Maison   \n",
      "7               281               0                                    Maison   \n",
      "8               446               0                                       NaN   \n",
      "...             ...             ...                                       ...   \n",
      "40928           457               0                                    Maison   \n",
      "40929            53               1  Local industriel. commercial ou assimilé   \n",
      "40931           173               3                                Dépendance   \n",
      "40934           160               1  Local industriel. commercial ou assimilé   \n",
      "40969           354               2  Local industriel. commercial ou assimilé   \n",
      "\n",
      "       Surface reelle bati  Nombre pieces principales  Surface terrain  \\\n",
      "0                      0.0                          0              NaN   \n",
      "3                     64.0                          3            988.0   \n",
      "4                     73.0                          3            835.0   \n",
      "7                    136.0                          7            921.0   \n",
      "8                      NaN                       <NA>          17050.0   \n",
      "...                    ...                        ...              ...   \n",
      "40928                 92.0                          3           1020.0   \n",
      "40929                 37.0                          0              NaN   \n",
      "40931                  0.0                          0              NaN   \n",
      "40934                 23.0                          0              NaN   \n",
      "40969                 53.0                          0              NaN   \n",
      "\n",
      "       Surface Carrez total lots  \\\n",
      "0                            0.0   \n",
      "3                            0.0   \n",
      "4                            0.0   \n",
      "7                            0.0   \n",
      "8                            0.0   \n",
      "...                          ...   \n",
      "40928                        0.0   \n",
      "40929                        0.0   \n",
      "40931                        0.0   \n",
      "40934                        0.0   \n",
      "40969                        0.0   \n",
      "\n",
      "                                              Adresse  \n",
      "0           124  ALL DES HETRES 1630 ST-GENIS-POUILLY  \n",
      "3           107  RTE DE PONCIN 1450 SERRIERES-SUR-AIN  \n",
      "4      40 T CHE DE L'AUBEPIN 1800 SAINT-JEAN-DE-NIOST  \n",
      "7             151 A RUE DU PARC DE VILLARD 1210 ORNEX  \n",
      "8                <NA>   ETANG DU BOIS 1480 VILLENEUVE  \n",
      "...                                               ...  \n",
      "40928                 38  CHE DU DERONTAY 1540 VONNAS  \n",
      "40929     2425  BD DU 8 MAI 1945 1000 BOURG-EN-BRESSE  \n",
      "40931                 1060  IMP DU BAILLIAGE 1170 GEX  \n",
      "40934   122  AV DES SABLONNIERES 1210 FERNEY-VOLTAIRE  \n",
      "40969    188  RUE BLAISE PASCAL 1630 ST-GENIS-POUILLY  \n",
      "\n",
      "[18100 rows x 12 columns]\n"
     ]
    }
   ],
   "source": [
    "print(df_regionidf)"
   ]
  },
  {
   "cell_type": "code",
   "execution_count": null,
   "metadata": {},
   "outputs": [],
   "source": []
  }
 ],
 "metadata": {
  "kernelspec": {
   "display_name": "Python 3",
   "language": "python",
   "name": "python3"
  },
  "language_info": {
   "codemirror_mode": {
    "name": "ipython",
    "version": 3
   },
   "file_extension": ".py",
   "mimetype": "text/x-python",
   "name": "python",
   "nbconvert_exporter": "python",
   "pygments_lexer": "ipython3",
   "version": "3.12.3"
  }
 },
 "nbformat": 4,
 "nbformat_minor": 2
}
