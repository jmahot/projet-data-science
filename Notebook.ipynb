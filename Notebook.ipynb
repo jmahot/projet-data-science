{
 "cells": [
  {
   "cell_type": "markdown",
   "metadata": {},
   "source": [
    "Import Source"
   ]
  },
  {
   "cell_type": "code",
   "execution_count": 13,
   "metadata": {},
   "outputs": [
    {
     "name": "stderr",
     "output_type": "stream",
     "text": [
      "C:\\Users\\Julie Mahot\\AppData\\Local\\Temp\\ipykernel_16016\\1671847934.py:4: DtypeWarning: Columns (14,18,23,24,26,28,29,31,32,33,41) have mixed types. Specify dtype option on import or set low_memory=False.\n",
      "  df=pd.read_csv(\"valeursfoncieres-2023.txt\",sep=\"|\")\n"
     ]
    }
   ],
   "source": [
    "import pandas as pd\n",
    "import numpy as np\n",
    "\n",
    "df=pd.read_csv(\"valeursfoncieres-2023.txt\",sep=\"|\")\n",
    "\n",
    "#df_bool=df.notnull()\n",
    "#df1=df[\"B/T/Q\"].unique()\n",
    "#df_btq=df[df[\"B/T/Q\"]]\n",
    "#print(df[\"B/T/Q\"].where(df[\"B/T/Q\"]==\"T\"))\n"
   ]
  },
  {
   "cell_type": "markdown",
   "metadata": {},
   "source": [
    "Supprimer colonnes NaN"
   ]
  },
  {
   "cell_type": "code",
   "execution_count": 14,
   "metadata": {},
   "outputs": [],
   "source": [
    "df = df.dropna(axis = 1, how = 'all')"
   ]
  },
  {
   "cell_type": "markdown",
   "metadata": {},
   "source": [
    "Noms des colonnes"
   ]
  },
  {
   "cell_type": "code",
   "execution_count": 15,
   "metadata": {},
   "outputs": [
    {
     "data": {
      "text/plain": [
       "Index(['No disposition', 'Date mutation', 'Nature mutation', 'Valeur fonciere',\n",
       "       'No voie', 'B/T/Q', 'Type de voie', 'Code voie', 'Voie', 'Code postal',\n",
       "       'Commune', 'Code departement', 'Code commune', 'Prefixe de section',\n",
       "       'Section', 'No plan', 'No Volume', '1er lot',\n",
       "       'Surface Carrez du 1er lot', '2eme lot', 'Surface Carrez du 2eme lot',\n",
       "       '3eme lot', 'Surface Carrez du 3eme lot', '4eme lot',\n",
       "       'Surface Carrez du 4eme lot', '5eme lot', 'Surface Carrez du 5eme lot',\n",
       "       'Nombre de lots', 'Code type local', 'Type local',\n",
       "       'Surface reelle bati', 'Nombre pieces principales', 'Nature culture',\n",
       "       'Nature culture speciale', 'Surface terrain'],\n",
       "      dtype='object')"
      ]
     },
     "execution_count": 15,
     "metadata": {},
     "output_type": "execute_result"
    }
   ],
   "source": [
    "df.columns"
   ]
  },
  {
   "cell_type": "markdown",
   "metadata": {},
   "source": [
    "Région IDF :\n",
    "\n",
    "https://www.delftstack.com/fr/howto/python-pandas/how-to-filter-dataframe-rows-based-on-column-values-in-pandas/"
   ]
  },
  {
   "cell_type": "code",
   "execution_count": 49,
   "metadata": {},
   "outputs": [],
   "source": [
    "regionidf={75,77,78,91,92,93,94,95}\n",
    "df_regionidf= df[df[\"Code departement\"].isin(regionidf)]"
   ]
  },
  {
   "cell_type": "code",
   "execution_count": 50,
   "metadata": {},
   "outputs": [
    {
     "name": "stdout",
     "output_type": "stream",
     "text": [
      "         No disposition Date mutation Nature mutation Valeur fonciere  \\\n",
      "2836277               1    03/01/2023           Vente       346450,00   \n",
      "2836278               1    04/01/2023           Vente       160000,00   \n",
      "2836279               1    04/01/2023           Vente       160000,00   \n",
      "2836280               1    04/01/2023           Vente       370000,00   \n",
      "2836281               1    04/01/2023           Vente       370000,00   \n",
      "2836282               1    04/01/2023           Vente       370000,00   \n",
      "2836283               1    04/01/2023           Vente       370000,00   \n",
      "2836284               1    02/01/2023           Vente       131200,00   \n",
      "2836285               1    02/01/2023           Vente       131200,00   \n",
      "2836286               1    02/01/2023           Vente       139900,00   \n",
      "\n",
      "         No voie B/T/Q Type de voie Code voie                   Voie  \\\n",
      "2836277      7.0   NaN          RUE      0091         DE COULOMMIERS   \n",
      "2836278     41.0   NaN          RUE      0760            GUE PUCELLE   \n",
      "2836279     41.0   NaN          RUE      0760            GUE PUCELLE   \n",
      "2836280     28.0   NaN          RUE      0515  DU HAUT DE LA COUTURE   \n",
      "2836281      NaN   NaN          NaN      B039  LE HAUT DE LA COUTURE   \n",
      "2836282      NaN   NaN          NaN      B039  LE HAUT DE LA COUTURE   \n",
      "2836283      NaN   NaN          RUE      0070   DU BAS DE LA COUTURE   \n",
      "2836284     23.0   NaN          RUE      1570           SAINT LIESNE   \n",
      "2836285     25.0   NaN          RUE      1570           SAINT LIESNE   \n",
      "2836286     12.0   NaN          RUE      0060            DU DOC ROUX   \n",
      "\n",
      "         Code postal  ... 5eme lot Surface Carrez du 5eme lot  Nombre de lots  \\\n",
      "2836277      77176.0  ...      NaN                        NaN               0   \n",
      "2836278      77130.0  ...      NaN                        NaN               0   \n",
      "2836279      77130.0  ...      NaN                        NaN               0   \n",
      "2836280      77380.0  ...      NaN                        NaN               0   \n",
      "2836281      77380.0  ...      NaN                        NaN               0   \n",
      "2836282      77380.0  ...      NaN                        NaN               0   \n",
      "2836283      77380.0  ...      NaN                        NaN               0   \n",
      "2836284      77000.0  ...      NaN                        NaN               1   \n",
      "2836285      77000.0  ...      NaN                        NaN               1   \n",
      "2836286      77390.0  ...      NaN                        NaN               0   \n",
      "\n",
      "         Code type local   Type local  Surface reelle bati  \\\n",
      "2836277              1.0       Maison                 90.0   \n",
      "2836278              3.0   Dépendance                  0.0   \n",
      "2836279              1.0       Maison                 60.0   \n",
      "2836280              1.0       Maison                 74.0   \n",
      "2836281              NaN          NaN                  NaN   \n",
      "2836282              NaN          NaN                  NaN   \n",
      "2836283              NaN          NaN                  NaN   \n",
      "2836284              3.0   Dépendance                  0.0   \n",
      "2836285              2.0  Appartement                 54.0   \n",
      "2836286              1.0       Maison                 76.0   \n",
      "\n",
      "        Nombre pieces principales Nature culture Nature culture speciale  \\\n",
      "2836277                       5.0              S                     NaN   \n",
      "2836278                       0.0              S                     NaN   \n",
      "2836279                       3.0              S                     NaN   \n",
      "2836280                       4.0              S                     NaN   \n",
      "2836281                       NaN              J                   POTAG   \n",
      "2836282                       NaN              J                   POTAG   \n",
      "2836283                       NaN             AG                     NaN   \n",
      "2836284                       0.0            NaN                     NaN   \n",
      "2836285                       2.0            NaN                     NaN   \n",
      "2836286                       4.0              S                     NaN   \n",
      "\n",
      "        Surface terrain  \n",
      "2836277           372.0  \n",
      "2836278           454.0  \n",
      "2836279           454.0  \n",
      "2836280           660.0  \n",
      "2836281           100.0  \n",
      "2836282           401.0  \n",
      "2836283           104.0  \n",
      "2836284             NaN  \n",
      "2836285             NaN  \n",
      "2836286           120.0  \n",
      "\n",
      "[10 rows x 35 columns]\n"
     ]
    }
   ],
   "source": [
    "print(df_regionidf.head(10))"
   ]
  },
  {
   "cell_type": "markdown",
   "metadata": {},
   "source": [
    "Changement Type Valeur foncière"
   ]
  },
  {
   "cell_type": "code",
   "execution_count": 52,
   "metadata": {},
   "outputs": [
    {
     "name": "stdout",
     "output_type": "stream",
     "text": [
      "<class 'pandas.core.series.Series'>\n",
      "Index: 446417 entries, 2836277 to 3727004\n",
      "Series name: Valeur fonciere\n",
      "Non-Null Count   Dtype \n",
      "--------------   ----- \n",
      "439865 non-null  object\n",
      "dtypes: object(1)\n",
      "memory usage: 6.8+ MB\n",
      "None\n"
     ]
    }
   ],
   "source": [
    "print(df_regionidf[\"Valeur fonciere\"].info())\n"
   ]
  },
  {
   "cell_type": "code",
   "execution_count": 53,
   "metadata": {},
   "outputs": [
    {
     "name": "stderr",
     "output_type": "stream",
     "text": [
      "C:\\Users\\Julie Mahot\\AppData\\Local\\Temp\\ipykernel_16016\\366305503.py:1: SettingWithCopyWarning: \n",
      "A value is trying to be set on a copy of a slice from a DataFrame.\n",
      "Try using .loc[row_indexer,col_indexer] = value instead\n",
      "\n",
      "See the caveats in the documentation: https://pandas.pydata.org/pandas-docs/stable/user_guide/indexing.html#returning-a-view-versus-a-copy\n",
      "  df_regionidf[\"Valeur fonciere\"] = df_regionidf[\"Valeur fonciere\"].astype(str).str.replace(',', '.').astype(float)\n"
     ]
    },
    {
     "name": "stdout",
     "output_type": "stream",
     "text": [
      "         No disposition Date mutation Nature mutation  Valeur fonciere  \\\n",
      "2836277               1    03/01/2023           Vente         346450.0   \n",
      "2836278               1    04/01/2023           Vente         160000.0   \n",
      "2836279               1    04/01/2023           Vente         160000.0   \n",
      "2836280               1    04/01/2023           Vente         370000.0   \n",
      "2836281               1    04/01/2023           Vente         370000.0   \n",
      "...                 ...           ...             ...              ...   \n",
      "3727000               1    05/10/2023    Adjudication        3931000.0   \n",
      "3727001               1    05/10/2023    Adjudication        3931000.0   \n",
      "3727002               1    05/10/2023    Adjudication        3931000.0   \n",
      "3727003               1    28/12/2023           Vente          98250.0   \n",
      "3727004               1    28/12/2023           Vente          98250.0   \n",
      "\n",
      "         No voie B/T/Q Type de voie Code voie                   Voie  \\\n",
      "2836277      7.0   NaN          RUE      0091         DE COULOMMIERS   \n",
      "2836278     41.0   NaN          RUE      0760            GUE PUCELLE   \n",
      "2836279     41.0   NaN          RUE      0760            GUE PUCELLE   \n",
      "2836280     28.0   NaN          RUE      0515  DU HAUT DE LA COUTURE   \n",
      "2836281      NaN   NaN          NaN      B039  LE HAUT DE LA COUTURE   \n",
      "...          ...   ...          ...       ...                    ...   \n",
      "3727000     39.0   NaN           AV    1832.0        CHARLES FLOQUET   \n",
      "3727001     39.0   NaN           AV    1832.0        CHARLES FLOQUET   \n",
      "3727002     39.0   NaN           AV    1832.0        CHARLES FLOQUET   \n",
      "3727003     66.0     B          RUE    8892.0      SEBASTIEN MERCIER   \n",
      "3727004     66.0     B          RUE    8892.0      SEBASTIEN MERCIER   \n",
      "\n",
      "         Code postal  ... 5eme lot Surface Carrez du 5eme lot  Nombre de lots  \\\n",
      "2836277      77176.0  ...      NaN                        NaN               0   \n",
      "2836278      77130.0  ...      NaN                        NaN               0   \n",
      "2836279      77130.0  ...      NaN                        NaN               0   \n",
      "2836280      77380.0  ...      NaN                        NaN               0   \n",
      "2836281      77380.0  ...      NaN                        NaN               0   \n",
      "...              ...  ...      ...                        ...             ...   \n",
      "3727000      75007.0  ...      NaN                        NaN               1   \n",
      "3727001      75007.0  ...      NaN                        NaN               1   \n",
      "3727002      75007.0  ...      NaN                        NaN               1   \n",
      "3727003      75015.0  ...      NaN                        NaN               1   \n",
      "3727004      75015.0  ...      NaN                        NaN               1   \n",
      "\n",
      "         Code type local   Type local  Surface reelle bati  \\\n",
      "2836277              1.0       Maison                 90.0   \n",
      "2836278              3.0   Dépendance                  0.0   \n",
      "2836279              1.0       Maison                 60.0   \n",
      "2836280              1.0       Maison                 74.0   \n",
      "2836281              NaN          NaN                  NaN   \n",
      "...                  ...          ...                  ...   \n",
      "3727000              3.0   Dépendance                  0.0   \n",
      "3727001              3.0   Dépendance                  0.0   \n",
      "3727002              3.0   Dépendance                  0.0   \n",
      "3727003              3.0   Dépendance                  0.0   \n",
      "3727004              2.0  Appartement                 18.0   \n",
      "\n",
      "        Nombre pieces principales Nature culture Nature culture speciale  \\\n",
      "2836277                       5.0              S                     NaN   \n",
      "2836278                       0.0              S                     NaN   \n",
      "2836279                       3.0              S                     NaN   \n",
      "2836280                       4.0              S                     NaN   \n",
      "2836281                       NaN              J                   POTAG   \n",
      "...                           ...            ...                     ...   \n",
      "3727000                       0.0            NaN                     NaN   \n",
      "3727001                       0.0            NaN                     NaN   \n",
      "3727002                       0.0            NaN                     NaN   \n",
      "3727003                       0.0            NaN                     NaN   \n",
      "3727004                       1.0            NaN                     NaN   \n",
      "\n",
      "        Surface terrain  \n",
      "2836277           372.0  \n",
      "2836278           454.0  \n",
      "2836279           454.0  \n",
      "2836280           660.0  \n",
      "2836281           100.0  \n",
      "...                 ...  \n",
      "3727000             NaN  \n",
      "3727001             NaN  \n",
      "3727002             NaN  \n",
      "3727003             NaN  \n",
      "3727004             NaN  \n",
      "\n",
      "[446417 rows x 35 columns]\n"
     ]
    }
   ],
   "source": [
    "df_regionidf[\"Valeur fonciere\"] = df_regionidf[\"Valeur fonciere\"].astype(str).str.replace(',', '.').astype(float)\n",
    "print(df_regionidf)"
   ]
  },
  {
   "cell_type": "markdown",
   "metadata": {},
   "source": [
    "Colonne BTQ"
   ]
  },
  {
   "cell_type": "code",
   "execution_count": 25,
   "metadata": {},
   "outputs": [
    {
     "name": "stdout",
     "output_type": "stream",
     "text": [
      "[nan 'B' 'E' 'A' 'T' 'G' 'C' 'S' 'Q' 'D' 'I' '4' 'P' 'L' 'Z' 'F' '1' 'H'\n",
      " 'O' 'K' 'V' 'N' 'J' 'X' '2' '6' 'M' 'U' 'R' '5']\n"
     ]
    }
   ],
   "source": [
    "BTQ=df_regionidf[\"B/T/Q\"].unique()\n",
    "print(BTQ)"
   ]
  },
  {
   "cell_type": "code",
   "execution_count": null,
   "metadata": {},
   "outputs": [],
   "source": []
  },
  {
   "cell_type": "code",
   "execution_count": 9,
   "metadata": {},
   "outputs": [
    {
     "ename": "KeyError",
     "evalue": "\"[''] not found in axis\"",
     "output_type": "error",
     "traceback": [
      "\u001b[1;31m---------------------------------------------------------------------------\u001b[0m",
      "\u001b[1;31mKeyError\u001b[0m                                  Traceback (most recent call last)",
      "Cell \u001b[1;32mIn[9], line 1\u001b[0m\n\u001b[1;32m----> 1\u001b[0m \u001b[43mdf\u001b[49m\u001b[38;5;241;43m.\u001b[39;49m\u001b[43mdrop\u001b[49m\u001b[43m(\u001b[49m\u001b[43m[\u001b[49m\u001b[38;5;124;43m\"\u001b[39;49m\u001b[38;5;124;43m\"\u001b[39;49m\u001b[43m]\u001b[49m\u001b[43m)\u001b[49m\n",
      "File \u001b[1;32mc:\\Users\\Julie Mahot\\AppData\\Local\\Programs\\Python\\Python312\\Lib\\site-packages\\pandas\\core\\frame.py:5581\u001b[0m, in \u001b[0;36mDataFrame.drop\u001b[1;34m(self, labels, axis, index, columns, level, inplace, errors)\u001b[0m\n\u001b[0;32m   5433\u001b[0m \u001b[38;5;28;01mdef\u001b[39;00m \u001b[38;5;21mdrop\u001b[39m(\n\u001b[0;32m   5434\u001b[0m     \u001b[38;5;28mself\u001b[39m,\n\u001b[0;32m   5435\u001b[0m     labels: IndexLabel \u001b[38;5;241m|\u001b[39m \u001b[38;5;28;01mNone\u001b[39;00m \u001b[38;5;241m=\u001b[39m \u001b[38;5;28;01mNone\u001b[39;00m,\n\u001b[1;32m   (...)\u001b[0m\n\u001b[0;32m   5442\u001b[0m     errors: IgnoreRaise \u001b[38;5;241m=\u001b[39m \u001b[38;5;124m\"\u001b[39m\u001b[38;5;124mraise\u001b[39m\u001b[38;5;124m\"\u001b[39m,\n\u001b[0;32m   5443\u001b[0m ) \u001b[38;5;241m-\u001b[39m\u001b[38;5;241m>\u001b[39m DataFrame \u001b[38;5;241m|\u001b[39m \u001b[38;5;28;01mNone\u001b[39;00m:\n\u001b[0;32m   5444\u001b[0m \u001b[38;5;250m    \u001b[39m\u001b[38;5;124;03m\"\"\"\u001b[39;00m\n\u001b[0;32m   5445\u001b[0m \u001b[38;5;124;03m    Drop specified labels from rows or columns.\u001b[39;00m\n\u001b[0;32m   5446\u001b[0m \n\u001b[1;32m   (...)\u001b[0m\n\u001b[0;32m   5579\u001b[0m \u001b[38;5;124;03m            weight  1.0     0.8\u001b[39;00m\n\u001b[0;32m   5580\u001b[0m \u001b[38;5;124;03m    \"\"\"\u001b[39;00m\n\u001b[1;32m-> 5581\u001b[0m     \u001b[38;5;28;01mreturn\u001b[39;00m \u001b[38;5;28;43msuper\u001b[39;49m\u001b[43m(\u001b[49m\u001b[43m)\u001b[49m\u001b[38;5;241;43m.\u001b[39;49m\u001b[43mdrop\u001b[49m\u001b[43m(\u001b[49m\n\u001b[0;32m   5582\u001b[0m \u001b[43m        \u001b[49m\u001b[43mlabels\u001b[49m\u001b[38;5;241;43m=\u001b[39;49m\u001b[43mlabels\u001b[49m\u001b[43m,\u001b[49m\n\u001b[0;32m   5583\u001b[0m \u001b[43m        \u001b[49m\u001b[43maxis\u001b[49m\u001b[38;5;241;43m=\u001b[39;49m\u001b[43maxis\u001b[49m\u001b[43m,\u001b[49m\n\u001b[0;32m   5584\u001b[0m \u001b[43m        \u001b[49m\u001b[43mindex\u001b[49m\u001b[38;5;241;43m=\u001b[39;49m\u001b[43mindex\u001b[49m\u001b[43m,\u001b[49m\n\u001b[0;32m   5585\u001b[0m \u001b[43m        \u001b[49m\u001b[43mcolumns\u001b[49m\u001b[38;5;241;43m=\u001b[39;49m\u001b[43mcolumns\u001b[49m\u001b[43m,\u001b[49m\n\u001b[0;32m   5586\u001b[0m \u001b[43m        \u001b[49m\u001b[43mlevel\u001b[49m\u001b[38;5;241;43m=\u001b[39;49m\u001b[43mlevel\u001b[49m\u001b[43m,\u001b[49m\n\u001b[0;32m   5587\u001b[0m \u001b[43m        \u001b[49m\u001b[43minplace\u001b[49m\u001b[38;5;241;43m=\u001b[39;49m\u001b[43minplace\u001b[49m\u001b[43m,\u001b[49m\n\u001b[0;32m   5588\u001b[0m \u001b[43m        \u001b[49m\u001b[43merrors\u001b[49m\u001b[38;5;241;43m=\u001b[39;49m\u001b[43merrors\u001b[49m\u001b[43m,\u001b[49m\n\u001b[0;32m   5589\u001b[0m \u001b[43m    \u001b[49m\u001b[43m)\u001b[49m\n",
      "File \u001b[1;32mc:\\Users\\Julie Mahot\\AppData\\Local\\Programs\\Python\\Python312\\Lib\\site-packages\\pandas\\core\\generic.py:4788\u001b[0m, in \u001b[0;36mNDFrame.drop\u001b[1;34m(self, labels, axis, index, columns, level, inplace, errors)\u001b[0m\n\u001b[0;32m   4786\u001b[0m \u001b[38;5;28;01mfor\u001b[39;00m axis, labels \u001b[38;5;129;01min\u001b[39;00m axes\u001b[38;5;241m.\u001b[39mitems():\n\u001b[0;32m   4787\u001b[0m     \u001b[38;5;28;01mif\u001b[39;00m labels \u001b[38;5;129;01mis\u001b[39;00m \u001b[38;5;129;01mnot\u001b[39;00m \u001b[38;5;28;01mNone\u001b[39;00m:\n\u001b[1;32m-> 4788\u001b[0m         obj \u001b[38;5;241m=\u001b[39m \u001b[43mobj\u001b[49m\u001b[38;5;241;43m.\u001b[39;49m\u001b[43m_drop_axis\u001b[49m\u001b[43m(\u001b[49m\u001b[43mlabels\u001b[49m\u001b[43m,\u001b[49m\u001b[43m \u001b[49m\u001b[43maxis\u001b[49m\u001b[43m,\u001b[49m\u001b[43m \u001b[49m\u001b[43mlevel\u001b[49m\u001b[38;5;241;43m=\u001b[39;49m\u001b[43mlevel\u001b[49m\u001b[43m,\u001b[49m\u001b[43m \u001b[49m\u001b[43merrors\u001b[49m\u001b[38;5;241;43m=\u001b[39;49m\u001b[43merrors\u001b[49m\u001b[43m)\u001b[49m\n\u001b[0;32m   4790\u001b[0m \u001b[38;5;28;01mif\u001b[39;00m inplace:\n\u001b[0;32m   4791\u001b[0m     \u001b[38;5;28mself\u001b[39m\u001b[38;5;241m.\u001b[39m_update_inplace(obj)\n",
      "File \u001b[1;32mc:\\Users\\Julie Mahot\\AppData\\Local\\Programs\\Python\\Python312\\Lib\\site-packages\\pandas\\core\\generic.py:4830\u001b[0m, in \u001b[0;36mNDFrame._drop_axis\u001b[1;34m(self, labels, axis, level, errors, only_slice)\u001b[0m\n\u001b[0;32m   4828\u001b[0m         new_axis \u001b[38;5;241m=\u001b[39m axis\u001b[38;5;241m.\u001b[39mdrop(labels, level\u001b[38;5;241m=\u001b[39mlevel, errors\u001b[38;5;241m=\u001b[39merrors)\n\u001b[0;32m   4829\u001b[0m     \u001b[38;5;28;01melse\u001b[39;00m:\n\u001b[1;32m-> 4830\u001b[0m         new_axis \u001b[38;5;241m=\u001b[39m \u001b[43maxis\u001b[49m\u001b[38;5;241;43m.\u001b[39;49m\u001b[43mdrop\u001b[49m\u001b[43m(\u001b[49m\u001b[43mlabels\u001b[49m\u001b[43m,\u001b[49m\u001b[43m \u001b[49m\u001b[43merrors\u001b[49m\u001b[38;5;241;43m=\u001b[39;49m\u001b[43merrors\u001b[49m\u001b[43m)\u001b[49m\n\u001b[0;32m   4831\u001b[0m     indexer \u001b[38;5;241m=\u001b[39m axis\u001b[38;5;241m.\u001b[39mget_indexer(new_axis)\n\u001b[0;32m   4833\u001b[0m \u001b[38;5;66;03m# Case for non-unique axis\u001b[39;00m\n\u001b[0;32m   4834\u001b[0m \u001b[38;5;28;01melse\u001b[39;00m:\n",
      "File \u001b[1;32mc:\\Users\\Julie Mahot\\AppData\\Local\\Programs\\Python\\Python312\\Lib\\site-packages\\pandas\\core\\indexes\\base.py:7070\u001b[0m, in \u001b[0;36mIndex.drop\u001b[1;34m(self, labels, errors)\u001b[0m\n\u001b[0;32m   7068\u001b[0m \u001b[38;5;28;01mif\u001b[39;00m mask\u001b[38;5;241m.\u001b[39many():\n\u001b[0;32m   7069\u001b[0m     \u001b[38;5;28;01mif\u001b[39;00m errors \u001b[38;5;241m!=\u001b[39m \u001b[38;5;124m\"\u001b[39m\u001b[38;5;124mignore\u001b[39m\u001b[38;5;124m\"\u001b[39m:\n\u001b[1;32m-> 7070\u001b[0m         \u001b[38;5;28;01mraise\u001b[39;00m \u001b[38;5;167;01mKeyError\u001b[39;00m(\u001b[38;5;124mf\u001b[39m\u001b[38;5;124m\"\u001b[39m\u001b[38;5;132;01m{\u001b[39;00mlabels[mask]\u001b[38;5;241m.\u001b[39mtolist()\u001b[38;5;132;01m}\u001b[39;00m\u001b[38;5;124m not found in axis\u001b[39m\u001b[38;5;124m\"\u001b[39m)\n\u001b[0;32m   7071\u001b[0m     indexer \u001b[38;5;241m=\u001b[39m indexer[\u001b[38;5;241m~\u001b[39mmask]\n\u001b[0;32m   7072\u001b[0m \u001b[38;5;28;01mreturn\u001b[39;00m \u001b[38;5;28mself\u001b[39m\u001b[38;5;241m.\u001b[39mdelete(indexer)\n",
      "\u001b[1;31mKeyError\u001b[0m: \"[''] not found in axis\""
     ]
    }
   ],
   "source": [
    "df.drop(columns=[\"No disposition\", \"No voie\", \"B/T/Q\", \"Type de voie\", \"Code voie\", \"Voie\", \"Code postal\", \"Commune\", \"Code departement\", \"Code commune\", \"Prefixe de section\", \"Section\", \"No plan\", \"Code type local\", \"Identifiant local\", \"1er lot\", \"2eme lot\", \"3eme lot\", \"4eme lot\", \"5eme lot\"])"
   ]
  },
  {
   "cell_type": "code",
   "execution_count": 20,
   "metadata": {},
   "outputs": [
    {
     "name": "stdout",
     "output_type": "stream",
     "text": [
      "   No disposition Date mutation Nature mutation Valeur fonciere  No voie  \\\n",
      "0               1    05/01/2023           Vente      1070000,00    184.0   \n",
      "1               1    05/01/2023           Vente      1070000,00    159.0   \n",
      "2               1    05/01/2023           Vente      1070000,00    159.0   \n",
      "3               1    03/01/2023           Vente       152200,00   2914.0   \n",
      "4               1    05/01/2023           Vente       269000,00    427.0   \n",
      "5               1    05/01/2023           Vente       269000,00    427.0   \n",
      "6               1    05/01/2023           Vente       269000,00    427.0   \n",
      "7               1    03/01/2023           Vente       770000,00    159.0   \n",
      "8               1    06/01/2023           Vente         6820,00      NaN   \n",
      "9               2    06/01/2023         Echange        10040,00      NaN   \n",
      "\n",
      "  B/T/Q Type de voie Code voie                Voie  Code postal  ... 5eme lot  \\\n",
      "0   NaN          ALL      0124          DES HETRES       1630.0  ...      NaN   \n",
      "1   NaN          ALL      0124          DES HETRES       1630.0  ...      NaN   \n",
      "2   NaN          ALL      0124          DES HETRES       1630.0  ...      NaN   \n",
      "3   NaN          RTE      0107           DE PONCIN       1450.0  ...      NaN   \n",
      "4     T          CHE      0040        DE L'AUBEPIN       1800.0  ...      NaN   \n",
      "5     T          CHE      0040        DE L'AUBEPIN       1800.0  ...      NaN   \n",
      "6     T          CHE      0040        DE L'AUBEPIN       1800.0  ...      NaN   \n",
      "7     A          RUE      0151  DU PARC DE VILLARD       1210.0  ...      NaN   \n",
      "8   NaN          NaN      B062       ETANG DU BOIS       1480.0  ...      NaN   \n",
      "9   NaN          NaN      B044        CARRE ROCHER       1500.0  ...      NaN   \n",
      "\n",
      "  Surface Carrez du 5eme lot  Nombre de lots  Code type local   Type local  \\\n",
      "0                        NaN               1              3.0   Dépendance   \n",
      "1                        NaN               1              3.0   Dépendance   \n",
      "2                        NaN               1              2.0  Appartement   \n",
      "3                        NaN               0              1.0       Maison   \n",
      "4                        NaN               0              1.0       Maison   \n",
      "5                        NaN               0              3.0   Dépendance   \n",
      "6                        NaN               0              3.0   Dépendance   \n",
      "7                        NaN               0              1.0       Maison   \n",
      "8                        NaN               0              NaN          NaN   \n",
      "9                        NaN               0              NaN          NaN   \n",
      "\n",
      "   Surface reelle bati Nombre pieces principales Nature culture  \\\n",
      "0                  0.0                       0.0            NaN   \n",
      "1                  0.0                       0.0            NaN   \n",
      "2                233.0                       8.0            NaN   \n",
      "3                 64.0                       3.0              S   \n",
      "4                 73.0                       3.0              S   \n",
      "5                  0.0                       0.0              S   \n",
      "6                  0.0                       0.0              S   \n",
      "7                136.0                       7.0              S   \n",
      "8                  NaN                       NaN              T   \n",
      "9                  NaN                       NaN             BT   \n",
      "\n",
      "  Nature culture speciale Surface terrain  \n",
      "0                     NaN             NaN  \n",
      "1                     NaN             NaN  \n",
      "2                     NaN             NaN  \n",
      "3                     NaN           988.0  \n",
      "4                     NaN           835.0  \n",
      "5                     NaN           835.0  \n",
      "6                     NaN           835.0  \n",
      "7                     NaN           921.0  \n",
      "8                     NaN         17050.0  \n",
      "9                     NaN           124.0  \n",
      "\n",
      "[10 rows x 35 columns]\n"
     ]
    }
   ],
   "source": [
    "print(df.head(10))"
   ]
  }
 ],
 "metadata": {
  "kernelspec": {
   "display_name": "Python 3",
   "language": "python",
   "name": "python3"
  },
  "language_info": {
   "codemirror_mode": {
    "name": "ipython",
    "version": 3
   },
   "file_extension": ".py",
   "mimetype": "text/x-python",
   "name": "python",
   "nbconvert_exporter": "python",
   "pygments_lexer": "ipython3",
   "version": "3.12.3"
  }
 },
 "nbformat": 4,
 "nbformat_minor": 2
}
