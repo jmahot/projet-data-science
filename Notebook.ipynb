{
 "cells": [
  {
   "cell_type": "markdown",
   "metadata": {},
   "source": [
    "### Import Source"
   ]
  },
  {
   "cell_type": "code",
   "execution_count": 103,
   "metadata": {},
   "outputs": [
    {
     "name": "stderr",
     "output_type": "stream",
     "text": [
      "C:\\Users\\Julie Mahot\\AppData\\Local\\Temp\\ipykernel_9968\\1671847934.py:4: DtypeWarning: Columns (14,18,23,24,26,28,29,31,32,33,41) have mixed types. Specify dtype option on import or set low_memory=False.\n",
      "  df=pd.read_csv(\"valeursfoncieres-2023.txt\",sep=\"|\")\n"
     ]
    }
   ],
   "source": [
    "import pandas as pd\n",
    "import numpy as np\n",
    "\n",
    "df=pd.read_csv(\"valeursfoncieres-2023.txt\",sep=\"|\")\n",
    "\n",
    "#df_bool=df.notnull()\n",
    "#df1=df[\"B/T/Q\"].unique()\n",
    "#df_btq=df[df[\"B/T/Q\"]]\n",
    "#print(df[\"B/T/Q\"].where(df[\"B/T/Q\"]==\"T\"))\n"
   ]
  },
  {
   "cell_type": "markdown",
   "metadata": {},
   "source": [
    "### Supprimer colonnes NaN"
   ]
  },
  {
   "cell_type": "code",
   "execution_count": 104,
   "metadata": {},
   "outputs": [],
   "source": [
    "df = df.dropna(axis = 1, how = 'all')"
   ]
  },
  {
   "cell_type": "markdown",
   "metadata": {},
   "source": [
    "### Affichage"
   ]
  },
  {
   "cell_type": "code",
   "execution_count": 105,
   "metadata": {},
   "outputs": [
    {
     "data": {
      "text/plain": [
       "Index(['No disposition', 'Date mutation', 'Nature mutation', 'Valeur fonciere',\n",
       "       'No voie', 'B/T/Q', 'Type de voie', 'Code voie', 'Voie', 'Code postal',\n",
       "       'Commune', 'Code departement', 'Code commune', 'Prefixe de section',\n",
       "       'Section', 'No plan', 'No Volume', '1er lot',\n",
       "       'Surface Carrez du 1er lot', '2eme lot', 'Surface Carrez du 2eme lot',\n",
       "       '3eme lot', 'Surface Carrez du 3eme lot', '4eme lot',\n",
       "       'Surface Carrez du 4eme lot', '5eme lot', 'Surface Carrez du 5eme lot',\n",
       "       'Nombre de lots', 'Code type local', 'Type local',\n",
       "       'Surface reelle bati', 'Nombre pieces principales', 'Nature culture',\n",
       "       'Nature culture speciale', 'Surface terrain'],\n",
       "      dtype='object')"
      ]
     },
     "execution_count": 105,
     "metadata": {},
     "output_type": "execute_result"
    }
   ],
   "source": [
    "df.columns"
   ]
  },
  {
   "cell_type": "code",
   "execution_count": 106,
   "metadata": {},
   "outputs": [
    {
     "name": "stdout",
     "output_type": "stream",
     "text": [
      "   No disposition Date mutation Nature mutation Valeur fonciere  No voie  \\\n",
      "0               1    05/01/2023           Vente      1070000,00    184.0   \n",
      "1               1    05/01/2023           Vente      1070000,00    159.0   \n",
      "2               1    05/01/2023           Vente      1070000,00    159.0   \n",
      "3               1    03/01/2023           Vente       152200,00   2914.0   \n",
      "4               1    05/01/2023           Vente       269000,00    427.0   \n",
      "5               1    05/01/2023           Vente       269000,00    427.0   \n",
      "6               1    05/01/2023           Vente       269000,00    427.0   \n",
      "7               1    03/01/2023           Vente       770000,00    159.0   \n",
      "8               1    06/01/2023           Vente         6820,00      NaN   \n",
      "9               2    06/01/2023         Echange        10040,00      NaN   \n",
      "\n",
      "  B/T/Q Type de voie Code voie                Voie  Code postal  ... 5eme lot  \\\n",
      "0   NaN          ALL      0124          DES HETRES       1630.0  ...      NaN   \n",
      "1   NaN          ALL      0124          DES HETRES       1630.0  ...      NaN   \n",
      "2   NaN          ALL      0124          DES HETRES       1630.0  ...      NaN   \n",
      "3   NaN          RTE      0107           DE PONCIN       1450.0  ...      NaN   \n",
      "4     T          CHE      0040        DE L'AUBEPIN       1800.0  ...      NaN   \n",
      "5     T          CHE      0040        DE L'AUBEPIN       1800.0  ...      NaN   \n",
      "6     T          CHE      0040        DE L'AUBEPIN       1800.0  ...      NaN   \n",
      "7     A          RUE      0151  DU PARC DE VILLARD       1210.0  ...      NaN   \n",
      "8   NaN          NaN      B062       ETANG DU BOIS       1480.0  ...      NaN   \n",
      "9   NaN          NaN      B044        CARRE ROCHER       1500.0  ...      NaN   \n",
      "\n",
      "  Surface Carrez du 5eme lot  Nombre de lots  Code type local   Type local  \\\n",
      "0                        NaN               1              3.0   Dépendance   \n",
      "1                        NaN               1              3.0   Dépendance   \n",
      "2                        NaN               1              2.0  Appartement   \n",
      "3                        NaN               0              1.0       Maison   \n",
      "4                        NaN               0              1.0       Maison   \n",
      "5                        NaN               0              3.0   Dépendance   \n",
      "6                        NaN               0              3.0   Dépendance   \n",
      "7                        NaN               0              1.0       Maison   \n",
      "8                        NaN               0              NaN          NaN   \n",
      "9                        NaN               0              NaN          NaN   \n",
      "\n",
      "   Surface reelle bati Nombre pieces principales Nature culture  \\\n",
      "0                  0.0                       0.0            NaN   \n",
      "1                  0.0                       0.0            NaN   \n",
      "2                233.0                       8.0            NaN   \n",
      "3                 64.0                       3.0              S   \n",
      "4                 73.0                       3.0              S   \n",
      "5                  0.0                       0.0              S   \n",
      "6                  0.0                       0.0              S   \n",
      "7                136.0                       7.0              S   \n",
      "8                  NaN                       NaN              T   \n",
      "9                  NaN                       NaN             BT   \n",
      "\n",
      "  Nature culture speciale Surface terrain  \n",
      "0                     NaN             NaN  \n",
      "1                     NaN             NaN  \n",
      "2                     NaN             NaN  \n",
      "3                     NaN           988.0  \n",
      "4                     NaN           835.0  \n",
      "5                     NaN           835.0  \n",
      "6                     NaN           835.0  \n",
      "7                     NaN           921.0  \n",
      "8                     NaN         17050.0  \n",
      "9                     NaN           124.0  \n",
      "\n",
      "[10 rows x 35 columns]\n"
     ]
    }
   ],
   "source": [
    "print(df.head(10))"
   ]
  },
  {
   "cell_type": "code",
   "execution_count": 107,
   "metadata": {},
   "outputs": [
    {
     "name": "stdout",
     "output_type": "stream",
     "text": [
      "<class 'pandas.core.frame.DataFrame'>\n",
      "RangeIndex: 3727005 entries, 0 to 3727004\n",
      "Data columns (total 35 columns):\n",
      " #   Column                      Dtype  \n",
      "---  ------                      -----  \n",
      " 0   No disposition              int64  \n",
      " 1   Date mutation               object \n",
      " 2   Nature mutation             object \n",
      " 3   Valeur fonciere             object \n",
      " 4   No voie                     float64\n",
      " 5   B/T/Q                       object \n",
      " 6   Type de voie                object \n",
      " 7   Code voie                   object \n",
      " 8   Voie                        object \n",
      " 9   Code postal                 float64\n",
      " 10  Commune                     object \n",
      " 11  Code departement            object \n",
      " 12  Code commune                int64  \n",
      " 13  Prefixe de section          float64\n",
      " 14  Section                     object \n",
      " 15  No plan                     int64  \n",
      " 16  No Volume                   object \n",
      " 17  1er lot                     object \n",
      " 18  Surface Carrez du 1er lot   object \n",
      " 19  2eme lot                    object \n",
      " 20  Surface Carrez du 2eme lot  object \n",
      " 21  3eme lot                    object \n",
      " 22  Surface Carrez du 3eme lot  object \n",
      " 23  4eme lot                    float64\n",
      " 24  Surface Carrez du 4eme lot  object \n",
      " 25  5eme lot                    object \n",
      " 26  Surface Carrez du 5eme lot  object \n",
      " 27  Nombre de lots              int64  \n",
      " 28  Code type local             float64\n",
      " 29  Type local                  object \n",
      " 30  Surface reelle bati         float64\n",
      " 31  Nombre pieces principales   float64\n",
      " 32  Nature culture              object \n",
      " 33  Nature culture speciale     object \n",
      " 34  Surface terrain             float64\n",
      "dtypes: float64(8), int64(4), object(23)\n",
      "memory usage: 995.2+ MB\n",
      "None\n"
     ]
    }
   ],
   "source": [
    "print(df.info())"
   ]
  },
  {
   "cell_type": "markdown",
   "metadata": {},
   "source": [
    "### Changement Types"
   ]
  },
  {
   "cell_type": "code",
   "execution_count": 108,
   "metadata": {},
   "outputs": [],
   "source": [
    "colonnes_to_convert = ['No voie', 'Code voie', 'Code postal', 'Code departement', 'Nombre pieces principales']\n",
    "\n",
    "for column in colonnes_to_convert:\n",
    "        df[column] = pd.to_numeric(df[column],errors='coerce')\n",
    "\n",
    "#Changement Type en int des codes N°\n",
    "df = df.astype({\n",
    "    'Code voie': 'Int64',\n",
    "    'Code postal' : 'Int64',\n",
    "    'Code departement' : 'Int64',\n",
    "    'Nombre pieces principales' :'Int64',\n",
    "})\n",
    "\n",
    "# Changement Type Valeur foncière\n",
    "df[\"Valeur fonciere\"] = pd.to_numeric(df['Valeur fonciere'].str.replace(',', ''))"
   ]
  },
  {
   "cell_type": "code",
   "execution_count": 109,
   "metadata": {},
   "outputs": [],
   "source": [
    "# Changement Type surfaces carrez des lots\n",
    "colonnes_surfacecarrez = [\n",
    "    'Surface Carrez du 1er lot', 'Surface Carrez du 2eme lot', \n",
    "    'Surface Carrez du 3eme lot', 'Surface Carrez du 4eme lot', \n",
    "    'Surface Carrez du 5eme lot'\n",
    "]\n",
    "\n",
    "for col in colonnes_surfacecarrez:\n",
    "    df[col] = pd.to_numeric(df[col], errors='coerce')"
   ]
  },
  {
   "cell_type": "code",
   "execution_count": 110,
   "metadata": {},
   "outputs": [
    {
     "name": "stdout",
     "output_type": "stream",
     "text": [
      "<class 'pandas.core.frame.DataFrame'>\n",
      "RangeIndex: 3727005 entries, 0 to 3727004\n",
      "Data columns (total 35 columns):\n",
      " #   Column                      Dtype  \n",
      "---  ------                      -----  \n",
      " 0   No disposition              int64  \n",
      " 1   Date mutation               object \n",
      " 2   Nature mutation             object \n",
      " 3   Valeur fonciere             float64\n",
      " 4   No voie                     float64\n",
      " 5   B/T/Q                       object \n",
      " 6   Type de voie                object \n",
      " 7   Code voie                   Int64  \n",
      " 8   Voie                        object \n",
      " 9   Code postal                 Int64  \n",
      " 10  Commune                     object \n",
      " 11  Code departement            Int64  \n",
      " 12  Code commune                int64  \n",
      " 13  Prefixe de section          float64\n",
      " 14  Section                     object \n",
      " 15  No plan                     int64  \n",
      " 16  No Volume                   object \n",
      " 17  1er lot                     object \n",
      " 18  Surface Carrez du 1er lot   float64\n",
      " 19  2eme lot                    object \n",
      " 20  Surface Carrez du 2eme lot  float64\n",
      " 21  3eme lot                    object \n",
      " 22  Surface Carrez du 3eme lot  float64\n",
      " 23  4eme lot                    float64\n",
      " 24  Surface Carrez du 4eme lot  float64\n",
      " 25  5eme lot                    object \n",
      " 26  Surface Carrez du 5eme lot  float64\n",
      " 27  Nombre de lots              int64  \n",
      " 28  Code type local             float64\n",
      " 29  Type local                  object \n",
      " 30  Surface reelle bati         float64\n",
      " 31  Nombre pieces principales   Int64  \n",
      " 32  Nature culture              object \n",
      " 33  Nature culture speciale     object \n",
      " 34  Surface terrain             float64\n",
      "dtypes: Int64(4), float64(12), int64(4), object(15)\n",
      "memory usage: 1009.4+ MB\n",
      "None\n"
     ]
    }
   ],
   "source": [
    "print(df.info())"
   ]
  },
  {
   "cell_type": "markdown",
   "metadata": {},
   "source": [
    "### Drop Colonnes"
   ]
  },
  {
   "cell_type": "code",
   "execution_count": 111,
   "metadata": {},
   "outputs": [
    {
     "data": {
      "text/plain": [
       "Index(['No disposition', 'Date mutation', 'Nature mutation', 'Valeur fonciere',\n",
       "       'No voie', 'B/T/Q', 'Type de voie', 'Code voie', 'Voie', 'Code postal',\n",
       "       'Commune', 'Code departement', 'Code commune', 'Prefixe de section',\n",
       "       'Section', 'No plan', 'No Volume', '1er lot',\n",
       "       'Surface Carrez du 1er lot', '2eme lot', 'Surface Carrez du 2eme lot',\n",
       "       '3eme lot', 'Surface Carrez du 3eme lot', '4eme lot',\n",
       "       'Surface Carrez du 4eme lot', '5eme lot', 'Surface Carrez du 5eme lot',\n",
       "       'Nombre de lots', 'Code type local', 'Type local',\n",
       "       'Surface reelle bati', 'Nombre pieces principales', 'Nature culture',\n",
       "       'Nature culture speciale', 'Surface terrain'],\n",
       "      dtype='object')"
      ]
     },
     "execution_count": 111,
     "metadata": {},
     "output_type": "execute_result"
    }
   ],
   "source": [
    "df.columns"
   ]
  },
  {
   "cell_type": "code",
   "execution_count": 112,
   "metadata": {},
   "outputs": [
    {
     "name": "stdout",
     "output_type": "stream",
     "text": [
      "         No disposition Date mutation Nature mutation  Valeur fonciere  \\\n",
      "0                     1    05/01/2023           Vente      107000000.0   \n",
      "1                     1    05/01/2023           Vente      107000000.0   \n",
      "2                     1    05/01/2023           Vente      107000000.0   \n",
      "3                     1    03/01/2023           Vente       15220000.0   \n",
      "4                     1    05/01/2023           Vente       26900000.0   \n",
      "...                 ...           ...             ...              ...   \n",
      "3727000               1    05/10/2023    Adjudication      393100000.0   \n",
      "3727001               1    05/10/2023    Adjudication      393100000.0   \n",
      "3727002               1    05/10/2023    Adjudication      393100000.0   \n",
      "3727003               1    28/12/2023           Vente        9825000.0   \n",
      "3727004               1    28/12/2023           Vente        9825000.0   \n",
      "\n",
      "         No voie B/T/Q Type de voie  Code voie               Voie  \\\n",
      "0          184.0   NaN          ALL        124         DES HETRES   \n",
      "1          159.0   NaN          ALL        124         DES HETRES   \n",
      "2          159.0   NaN          ALL        124         DES HETRES   \n",
      "3         2914.0   NaN          RTE        107          DE PONCIN   \n",
      "4          427.0     T          CHE         40       DE L'AUBEPIN   \n",
      "...          ...   ...          ...        ...                ...   \n",
      "3727000     39.0   NaN           AV       1832    CHARLES FLOQUET   \n",
      "3727001     39.0   NaN           AV       1832    CHARLES FLOQUET   \n",
      "3727002     39.0   NaN           AV       1832    CHARLES FLOQUET   \n",
      "3727003     66.0     B          RUE       8892  SEBASTIEN MERCIER   \n",
      "3727004     66.0     B          RUE       8892  SEBASTIEN MERCIER   \n",
      "\n",
      "         Code postal  ... 5eme lot  Surface Carrez du 5eme lot  \\\n",
      "0               1630  ...      NaN                         NaN   \n",
      "1               1630  ...      NaN                         NaN   \n",
      "2               1630  ...      NaN                         NaN   \n",
      "3               1450  ...      NaN                         NaN   \n",
      "4               1800  ...      NaN                         NaN   \n",
      "...              ...  ...      ...                         ...   \n",
      "3727000        75007  ...      NaN                         NaN   \n",
      "3727001        75007  ...      NaN                         NaN   \n",
      "3727002        75007  ...      NaN                         NaN   \n",
      "3727003        75015  ...      NaN                         NaN   \n",
      "3727004        75015  ...      NaN                         NaN   \n",
      "\n",
      "         Nombre de lots  Code type local   Type local  Surface reelle bati  \\\n",
      "0                     1              3.0   Dépendance                  0.0   \n",
      "1                     1              3.0   Dépendance                  0.0   \n",
      "2                     1              2.0  Appartement                233.0   \n",
      "3                     0              1.0       Maison                 64.0   \n",
      "4                     0              1.0       Maison                 73.0   \n",
      "...                 ...              ...          ...                  ...   \n",
      "3727000               1              3.0   Dépendance                  0.0   \n",
      "3727001               1              3.0   Dépendance                  0.0   \n",
      "3727002               1              3.0   Dépendance                  0.0   \n",
      "3727003               1              3.0   Dépendance                  0.0   \n",
      "3727004               1              2.0  Appartement                 18.0   \n",
      "\n",
      "        Nombre pieces principales Nature culture  Nature culture speciale  \\\n",
      "0                               0            NaN                      NaN   \n",
      "1                               0            NaN                      NaN   \n",
      "2                               8            NaN                      NaN   \n",
      "3                               3              S                      NaN   \n",
      "4                               3              S                      NaN   \n",
      "...                           ...            ...                      ...   \n",
      "3727000                         0            NaN                      NaN   \n",
      "3727001                         0            NaN                      NaN   \n",
      "3727002                         0            NaN                      NaN   \n",
      "3727003                         0            NaN                      NaN   \n",
      "3727004                         1            NaN                      NaN   \n",
      "\n",
      "        Surface terrain  \n",
      "0                   NaN  \n",
      "1                   NaN  \n",
      "2                   NaN  \n",
      "3                 988.0  \n",
      "4                 835.0  \n",
      "...                 ...  \n",
      "3727000             NaN  \n",
      "3727001             NaN  \n",
      "3727002             NaN  \n",
      "3727003             NaN  \n",
      "3727004             NaN  \n",
      "\n",
      "[3727005 rows x 35 columns]\n"
     ]
    }
   ],
   "source": [
    "print(df)"
   ]
  },
  {
   "cell_type": "code",
   "execution_count": 113,
   "metadata": {},
   "outputs": [
    {
     "name": "stdout",
     "output_type": "stream",
     "text": [
      "        Date mutation Nature mutation  Valeur fonciere B/T/Q Type de voie  \\\n",
      "0          05/01/2023           Vente      107000000.0   NaN          ALL   \n",
      "1          05/01/2023           Vente      107000000.0   NaN          ALL   \n",
      "2          05/01/2023           Vente      107000000.0   NaN          ALL   \n",
      "3          03/01/2023           Vente       15220000.0   NaN          RTE   \n",
      "4          05/01/2023           Vente       26900000.0     T          CHE   \n",
      "...               ...             ...              ...   ...          ...   \n",
      "3727000    05/10/2023    Adjudication      393100000.0   NaN           AV   \n",
      "3727001    05/10/2023    Adjudication      393100000.0   NaN           AV   \n",
      "3727002    05/10/2023    Adjudication      393100000.0   NaN           AV   \n",
      "3727003    28/12/2023           Vente        9825000.0     B          RUE   \n",
      "3727004    28/12/2023           Vente        9825000.0     B          RUE   \n",
      "\n",
      "         Code voie               Voie  Code postal              Commune  \\\n",
      "0              124         DES HETRES         1630     ST-GENIS-POUILLY   \n",
      "1              124         DES HETRES         1630     ST-GENIS-POUILLY   \n",
      "2              124         DES HETRES         1630     ST-GENIS-POUILLY   \n",
      "3              107          DE PONCIN         1450    SERRIERES-SUR-AIN   \n",
      "4               40       DE L'AUBEPIN         1800  SAINT-JEAN-DE-NIOST   \n",
      "...            ...                ...          ...                  ...   \n",
      "3727000       1832    CHARLES FLOQUET        75007             PARIS 07   \n",
      "3727001       1832    CHARLES FLOQUET        75007             PARIS 07   \n",
      "3727002       1832    CHARLES FLOQUET        75007             PARIS 07   \n",
      "3727003       8892  SEBASTIEN MERCIER        75015             PARIS 15   \n",
      "3727004       8892  SEBASTIEN MERCIER        75015             PARIS 15   \n",
      "\n",
      "         Code departement  ...  Surface Carrez du 1er lot  \\\n",
      "0                       1  ...                        NaN   \n",
      "1                       1  ...                        NaN   \n",
      "2                       1  ...                        NaN   \n",
      "3                       1  ...                        NaN   \n",
      "4                       1  ...                        NaN   \n",
      "...                   ...  ...                        ...   \n",
      "3727000                75  ...                        NaN   \n",
      "3727001                75  ...                        NaN   \n",
      "3727002                75  ...                        NaN   \n",
      "3727003                75  ...                        NaN   \n",
      "3727004                75  ...                        NaN   \n",
      "\n",
      "        Surface Carrez du 2eme lot  Surface Carrez du 3eme lot  \\\n",
      "0                              NaN                         NaN   \n",
      "1                              NaN                         NaN   \n",
      "2                              NaN                         NaN   \n",
      "3                              NaN                         NaN   \n",
      "4                              NaN                         NaN   \n",
      "...                            ...                         ...   \n",
      "3727000                        NaN                         NaN   \n",
      "3727001                        NaN                         NaN   \n",
      "3727002                        NaN                         NaN   \n",
      "3727003                        NaN                         NaN   \n",
      "3727004                        NaN                         NaN   \n",
      "\n",
      "         Surface Carrez du 4eme lot  Surface Carrez du 5eme lot  \\\n",
      "0                               NaN                         NaN   \n",
      "1                               NaN                         NaN   \n",
      "2                               NaN                         NaN   \n",
      "3                               NaN                         NaN   \n",
      "4                               NaN                         NaN   \n",
      "...                             ...                         ...   \n",
      "3727000                         NaN                         NaN   \n",
      "3727001                         NaN                         NaN   \n",
      "3727002                         NaN                         NaN   \n",
      "3727003                         NaN                         NaN   \n",
      "3727004                         NaN                         NaN   \n",
      "\n",
      "         Nombre de lots   Type local  Surface reelle bati  \\\n",
      "0                     1   Dépendance                  0.0   \n",
      "1                     1   Dépendance                  0.0   \n",
      "2                     1  Appartement                233.0   \n",
      "3                     0       Maison                 64.0   \n",
      "4                     0       Maison                 73.0   \n",
      "...                 ...          ...                  ...   \n",
      "3727000               1   Dépendance                  0.0   \n",
      "3727001               1   Dépendance                  0.0   \n",
      "3727002               1   Dépendance                  0.0   \n",
      "3727003               1   Dépendance                  0.0   \n",
      "3727004               1  Appartement                 18.0   \n",
      "\n",
      "        Nombre pieces principales  Surface terrain  \n",
      "0                               0              NaN  \n",
      "1                               0              NaN  \n",
      "2                               8              NaN  \n",
      "3                               3            988.0  \n",
      "4                               3            835.0  \n",
      "...                           ...              ...  \n",
      "3727000                         0              NaN  \n",
      "3727001                         0              NaN  \n",
      "3727002                         0              NaN  \n",
      "3727003                         0              NaN  \n",
      "3727004                         1              NaN  \n",
      "\n",
      "[3727005 rows x 22 columns]\n"
     ]
    }
   ],
   "source": [
    "colonnes_to_drop = ['No disposition','No voie', 'Prefixe de section', 'Section', 'No plan', '1er lot', '2eme lot', '3eme lot',  '4eme lot', '5eme lot', 'Code type local', 'Nature culture', 'Nature culture speciale']\n",
    "df = df.drop(columns=colonnes_to_drop)\n",
    "\n",
    "print(df)"
   ]
  },
  {
   "cell_type": "markdown",
   "metadata": {},
   "source": [
    "### Remplacer valeurs manquantes (pour les surfaces carrez)"
   ]
  },
  {
   "cell_type": "code",
   "execution_count": 114,
   "metadata": {},
   "outputs": [
    {
     "name": "stdout",
     "output_type": "stream",
     "text": [
      "[nan]\n"
     ]
    }
   ],
   "source": [
    "# Avant\n",
    "SurfCarrez1 = df['Surface Carrez du 1er lot'].unique()\n",
    "print(SurfCarrez1) # on voit qu'il y a des valeurs manquantes\n",
    "# pareil pour 'Surface Carrez du 2eme lot', 'Surface Carrez du 3eme lot', 'Surface Carrez du 4eme lot', 'Surface Carrez du 5eme lot'"
   ]
  },
  {
   "cell_type": "code",
   "execution_count": 115,
   "metadata": {},
   "outputs": [
    {
     "name": "stdout",
     "output_type": "stream",
     "text": [
      "[0.]\n"
     ]
    }
   ],
   "source": [
    "# Après\n",
    "df[['Surface Carrez du 1er lot', 'Surface Carrez du 2eme lot', 'Surface Carrez du 3eme lot', 'Surface Carrez du 4eme lot', 'Surface Carrez du 5eme lot']] = df[['Surface Carrez du 1er lot', 'Surface Carrez du 2eme lot', 'Surface Carrez du 3eme lot', 'Surface Carrez du 4eme lot', 'Surface Carrez du 5eme lot']].fillna(0)\n",
    "SurfCarrez1_sansNaN = df['Surface Carrez du 1er lot'].unique()\n",
    "print(SurfCarrez1_sansNaN)"
   ]
  },
  {
   "cell_type": "markdown",
   "metadata": {},
   "source": [
    "### Somme Surface Carrez"
   ]
  },
  {
   "cell_type": "code",
   "execution_count": 116,
   "metadata": {},
   "outputs": [
    {
     "name": "stdout",
     "output_type": "stream",
     "text": [
      "<class 'pandas.core.frame.DataFrame'>\n",
      "RangeIndex: 3727005 entries, 0 to 3727004\n",
      "Data columns (total 5 columns):\n",
      " #   Column                      Dtype  \n",
      "---  ------                      -----  \n",
      " 0   Surface Carrez du 1er lot   float64\n",
      " 1   Surface Carrez du 2eme lot  float64\n",
      " 2   Surface Carrez du 3eme lot  float64\n",
      " 3   Surface Carrez du 4eme lot  float64\n",
      " 4   Surface Carrez du 5eme lot  float64\n",
      "dtypes: float64(5)\n",
      "memory usage: 142.2 MB\n",
      "None\n",
      "    Surface Carrez total lots\n",
      "0                         0.0\n",
      "1                         0.0\n",
      "2                         0.0\n",
      "3                         0.0\n",
      "4                         0.0\n",
      "5                         0.0\n",
      "6                         0.0\n",
      "7                         0.0\n",
      "8                         0.0\n",
      "9                         0.0\n",
      "10                        0.0\n",
      "11                        0.0\n",
      "12                        0.0\n",
      "13                        0.0\n",
      "14                        0.0\n",
      "15                        0.0\n",
      "16                        0.0\n",
      "17                        0.0\n",
      "18                        0.0\n",
      "19                        0.0\n"
     ]
    }
   ],
   "source": [
    "print(df[['Surface Carrez du 1er lot', 'Surface Carrez du 2eme lot', 'Surface Carrez du 3eme lot', 'Surface Carrez du 4eme lot', 'Surface Carrez du 5eme lot']].info())\n",
    "\n",
    "df['Surface Carrez total lots'] = df[colonnes_surfacecarrez].sum(axis=1)\n",
    "\n",
    "print(df[['Surface Carrez total lots']].head(20))"
   ]
  },
  {
   "cell_type": "markdown",
   "metadata": {},
   "source": [
    "### Drop colonnes surface carrez des lots"
   ]
  },
  {
   "cell_type": "code",
   "execution_count": 117,
   "metadata": {},
   "outputs": [],
   "source": [
    "df=df.drop(columns=colonnes_surfacecarrez)"
   ]
  },
  {
   "cell_type": "code",
   "execution_count": 118,
   "metadata": {},
   "outputs": [
    {
     "name": "stdout",
     "output_type": "stream",
     "text": [
      "Index(['Date mutation', 'Nature mutation', 'Valeur fonciere', 'B/T/Q',\n",
      "       'Type de voie', 'Code voie', 'Voie', 'Code postal', 'Commune',\n",
      "       'Code departement', 'Code commune', 'No Volume', 'Nombre de lots',\n",
      "       'Type local', 'Surface reelle bati', 'Nombre pieces principales',\n",
      "       'Surface terrain', 'Surface Carrez total lots'],\n",
      "      dtype='object')\n"
     ]
    }
   ],
   "source": [
    "print(df.columns)"
   ]
  },
  {
   "cell_type": "code",
   "execution_count": 119,
   "metadata": {},
   "outputs": [
    {
     "name": "stdout",
     "output_type": "stream",
     "text": [
      "(3727005, 18)\n"
     ]
    }
   ],
   "source": [
    "print(df.shape)"
   ]
  },
  {
   "cell_type": "markdown",
   "metadata": {},
   "source": [
    "### Fusion Adresse"
   ]
  },
  {
   "cell_type": "markdown",
   "metadata": {},
   "source": [
    "Valeurs manquantes"
   ]
  },
  {
   "cell_type": "code",
   "execution_count": 125,
   "metadata": {},
   "outputs": [],
   "source": [
    "df[['Code voie', 'B/T/Q','Type de voie','Voie', 'Code postal', 'Commune']] = df[['Code voie', 'B/T/Q','Type de voie','Voie', 'Code postal', 'Commune']].astype(str).fillna('')\n",
    "df[['Code voie', 'B/T/Q','Type de voie','Voie', 'Code postal', 'Commune']] = df[['Code voie', 'B/T/Q','Type de voie','Voie', 'Code postal', 'Commune']].replace('nan', '')"
   ]
  },
  {
   "cell_type": "code",
   "execution_count": 126,
   "metadata": {},
   "outputs": [
    {
     "name": "stdout",
     "output_type": "stream",
     "text": [
      "['' 'T' 'A' 'B' '2' 'D' 'G' 'C' 'F' 'Z' 'Q' 'E' 'H' 'J' 'I' 'N' 'L' 'P'\n",
      " 'O' 'R' 'W' 'Y' '1' 'M' 'X' 'K' 'U' 'V' '7' '3' 'S' '5' '9' '4' '0' '8'\n",
      " '6' '*' '-' '.']\n",
      "['124' '107' '40' ... '9397' '9762' '9466']\n",
      "['ALL' 'RTE' 'CHE' 'RUE' '' 'AV' 'IMP' 'BD' 'CHEM' 'QUAI' 'VC' 'GR' 'PL'\n",
      " 'LOT' 'MTE' 'CRS' 'FG' 'CLOS' 'D' 'PAS' 'VOIE' 'RLE' 'RUET' 'PTR' 'PARC'\n",
      " 'PROM' 'RES' 'MAIL' 'COUR' 'COTE' 'PCH' 'CITE' 'PLA' 'HAM' 'PRT' 'ZA'\n",
      " 'VCHE' 'GPL' 'ZI' 'SQ' 'SEN' 'CHS' 'CR' 'QUA' 'REM' 'FRM' 'N' 'RPT' 'VLA'\n",
      " 'RPE' 'ZAC' 'PTE' 'ECL' 'ESPA' 'VGE' 'TRA' 'PASS' 'CD' 'DOM' 'DIG' 'ESC'\n",
      " 'VTE' 'DRA' 'COR' 'ESP' 'ART' 'GAL' 'HLM' 'VALL' 'ACH' 'ILOT' 'CAMI'\n",
      " 'CAE' 'BRTL' 'PLE' 'PTTE' 'PAE' 'DSC' 'CALL' 'TSSE' 'VAL' 'RTD' 'CAR'\n",
      " 'RIVE' 'VEN' 'ZONE' 'CHT' 'AUT' 'ENC' 'AGL' 'CTRE' 'CPG' 'PORT' 'MAIS'\n",
      " 'PLAN' 'TOUR' 'PLAG' 'MAR' 'CC' 'HAB' 'EMBR' 'PONT' 'ROC' 'CAN' 'CHV'\n",
      " 'CRX' 'BSN' 'ZAD' 'VIL' 'LEVE' 'PRV' 'PLCI' 'PKG' 'VIA' 'CF' 'PIST' 'CTR'\n",
      " 'TRT' 'RAC' 'BER' 'PLT' 'BRG' 'CORO' 'VOIR' 'CASR' 'BRE' 'NTE' 'CHL'\n",
      " 'CLR' 'COL' 'VOY' 'LICE' 'HLG' 'JARD' 'BORD' 'MRN']\n",
      "['1630' '1450' '1800' ... '75012' '75007' '75005']\n",
      "['ST-GENIS-POUILLY' 'SERRIERES-SUR-AIN' 'SAINT-JEAN-DE-NIOST' ...\n",
      " 'PARIS 07' 'PARIS 16' 'PARIS 05']\n"
     ]
    }
   ],
   "source": [
    "# verif qu'il n'y a plus de NA ou 'nan'\n",
    "print(df['B/T/Q'].unique())\n",
    "print(df['Code voie'].unique())\n",
    "print(df['Type de voie'].unique())\n",
    "print(df['Code postal'].unique())\n",
    "print(df['Commune'].unique())\n"
   ]
  },
  {
   "cell_type": "markdown",
   "metadata": {},
   "source": [
    "Fusion adresse "
   ]
  },
  {
   "cell_type": "code",
   "execution_count": 127,
   "metadata": {},
   "outputs": [
    {
     "name": "stdout",
     "output_type": "stream",
     "text": [
      "<class 'pandas.core.frame.DataFrame'>\n",
      "RangeIndex: 3727005 entries, 0 to 3727004\n",
      "Data columns (total 6 columns):\n",
      " #   Column        Dtype \n",
      "---  ------        ----- \n",
      " 0   Code voie     object\n",
      " 1   B/T/Q         object\n",
      " 2   Type de voie  object\n",
      " 3   Voie          object\n",
      " 4   Code postal   object\n",
      " 5   Commune       object\n",
      "dtypes: object(6)\n",
      "memory usage: 170.6+ MB\n"
     ]
    }
   ],
   "source": [
    "\n",
    "#df['adresse']=\n",
    "df[['Code voie', 'B/T/Q','Type de voie','Voie', 'Code postal', 'Commune']].info()"
   ]
  },
  {
   "cell_type": "code",
   "execution_count": 128,
   "metadata": {},
   "outputs": [
    {
     "name": "stdout",
     "output_type": "stream",
     "text": [
      "0               124  ALL DES HETRES 1630 ST-GENIS-POUILLY\n",
      "1               124  ALL DES HETRES 1630 ST-GENIS-POUILLY\n",
      "2               124  ALL DES HETRES 1630 ST-GENIS-POUILLY\n",
      "3               107  RTE DE PONCIN 1450 SERRIERES-SUR-AIN\n",
      "4          40 T CHE DE L'AUBEPIN 1800 SAINT-JEAN-DE-NIOST\n",
      "                                ...                      \n",
      "3727000           1832  AV CHARLES FLOQUET 75007 PARIS 07\n",
      "3727001           1832  AV CHARLES FLOQUET 75007 PARIS 07\n",
      "3727002           1832  AV CHARLES FLOQUET 75007 PARIS 07\n",
      "3727003       8892 B RUE SEBASTIEN MERCIER 75015 PARIS 15\n",
      "3727004       8892 B RUE SEBASTIEN MERCIER 75015 PARIS 15\n",
      "Name: Adresse, Length: 3727005, dtype: object\n"
     ]
    }
   ],
   "source": [
    "df['Adresse'] = df['Code voie'] + ' ' + df['B/T/Q'] + ' '  + df['Type de voie'] + ' ' + df['Voie'] + ' ' + df['Code postal'] + ' ' + df['Commune']\n",
    "print(df['Adresse'])"
   ]
  },
  {
   "cell_type": "markdown",
   "metadata": {},
   "source": [
    "Supp Elements d'adresse"
   ]
  },
  {
   "cell_type": "code",
   "execution_count": 98,
   "metadata": {},
   "outputs": [
    {
     "name": "stdout",
     "output_type": "stream",
     "text": [
      "        Date mutation Nature mutation  Valeur fonciere  Code departement  \\\n",
      "0          05/01/2023           Vente      107000000.0                 1   \n",
      "1          05/01/2023           Vente      107000000.0                 1   \n",
      "2          05/01/2023           Vente      107000000.0                 1   \n",
      "3          03/01/2023           Vente       15220000.0                 1   \n",
      "4          05/01/2023           Vente       26900000.0                 1   \n",
      "...               ...             ...              ...               ...   \n",
      "3727000    05/10/2023    Adjudication      393100000.0                75   \n",
      "3727001    05/10/2023    Adjudication      393100000.0                75   \n",
      "3727002    05/10/2023    Adjudication      393100000.0                75   \n",
      "3727003    28/12/2023           Vente        9825000.0                75   \n",
      "3727004    28/12/2023           Vente        9825000.0                75   \n",
      "\n",
      "        No Volume  Nombre de lots   Type local  Surface reelle bati  \\\n",
      "0             NaN               1   Dépendance                  0.0   \n",
      "1             NaN               1   Dépendance                  0.0   \n",
      "2             NaN               1  Appartement                233.0   \n",
      "3             NaN               0       Maison                 64.0   \n",
      "4             NaN               0       Maison                 73.0   \n",
      "...           ...             ...          ...                  ...   \n",
      "3727000       NaN               1   Dépendance                  0.0   \n",
      "3727001       NaN               1   Dépendance                  0.0   \n",
      "3727002       NaN               1   Dépendance                  0.0   \n",
      "3727003       NaN               1   Dépendance                  0.0   \n",
      "3727004       NaN               1  Appartement                 18.0   \n",
      "\n",
      "         Nombre pieces principales  Surface terrain  \\\n",
      "0                                0              NaN   \n",
      "1                                0              NaN   \n",
      "2                                8              NaN   \n",
      "3                                3            988.0   \n",
      "4                                3            835.0   \n",
      "...                            ...              ...   \n",
      "3727000                          0              NaN   \n",
      "3727001                          0              NaN   \n",
      "3727002                          0              NaN   \n",
      "3727003                          0              NaN   \n",
      "3727004                          1              NaN   \n",
      "\n",
      "         Surface Carrez total lots  \\\n",
      "0                              0.0   \n",
      "1                              0.0   \n",
      "2                              0.0   \n",
      "3                              0.0   \n",
      "4                              0.0   \n",
      "...                            ...   \n",
      "3727000                        0.0   \n",
      "3727001                        0.0   \n",
      "3727002                        0.0   \n",
      "3727003                        0.0   \n",
      "3727004                        0.0   \n",
      "\n",
      "                                                Adresse  \n",
      "0                                                   NaN  \n",
      "1                                                   NaN  \n",
      "2                                                   NaN  \n",
      "3                                                   NaN  \n",
      "4        40 T CHE DE L'AUBEPIN 1800 SAINT-JEAN-DE-NIOST  \n",
      "...                                                 ...  \n",
      "3727000                                             NaN  \n",
      "3727001                                             NaN  \n",
      "3727002                                             NaN  \n",
      "3727003     8892 B RUE SEBASTIEN MERCIER 75015 PARIS 15  \n",
      "3727004     8892 B RUE SEBASTIEN MERCIER 75015 PARIS 15  \n",
      "\n",
      "[3727005 rows x 12 columns]\n"
     ]
    }
   ],
   "source": [
    "#Suppr Elements d'adresse\n",
    "df=df.drop(columns=['Code voie', 'B/T/Q','Type de voie','Voie', 'Code postal', 'Commune','Code commune'])\n",
    "print(df)"
   ]
  },
  {
   "cell_type": "code",
   "execution_count": 101,
   "metadata": {},
   "outputs": [
    {
     "name": "stdout",
     "output_type": "stream",
     "text": [
      "                                                                  Valeur fonciere\n",
      "Adresse                                            Date mutation                 \n",
      "1 A CHE DE L ABREUVOIR 6270 VILLENEUVE-LOUBET      26/01/2023          22500000.0\n",
      "                                                   26/05/2023           1120000.0\n",
      "1 A CHE DE L'ECOLE 47290 LOUGRATTE                 28/03/2023          18500000.0\n",
      "1 A CHE DES ABAYERS 84400 APT                      31/07/2023         840000000.0\n",
      "1 A IMP DES ACACIAS 26140 ANNEYRON                 03/11/2023         364320000.0\n",
      "...                                                                           ...\n",
      "<NA> Z nan LES GARAGES 11370 LEUCATE               18/07/2023           3300000.0\n",
      "                                                   27/10/2023          11400000.0\n",
      "<NA> Z nan LES TERRES ROSES 10150 LAVAU            05/09/2023          31000000.0\n",
      "<NA> Z nan RES COUDARELS FRANQUI OUES 11370 LEU... 08/08/2023          14900000.0\n",
      "<NA> Z nan TRAOU AR VOAS 22420 PLOUARET            28/06/2023             38400.0\n",
      "\n",
      "[82228 rows x 1 columns]\n"
     ]
    }
   ],
   "source": [
    "df_grouped= df.groupby(['Adresse', 'Date mutation']).agg({\n",
    "    'Valeur fonciere': 'sum',\n",
    "    })\n",
    "print(df_grouped)"
   ]
  },
  {
   "cell_type": "markdown",
   "metadata": {},
   "source": [
    "### Région IDF :\n",
    "\n",
    "https://www.delftstack.com/fr/howto/python-pandas/how-to-filter-dataframe-rows-based-on-column-values-in-pandas/"
   ]
  },
  {
   "cell_type": "code",
   "execution_count": null,
   "metadata": {},
   "outputs": [],
   "source": [
    "regionidf={1}\n",
    "region_1={75,77,78,91,92,93,94,95}\n",
    "df_regionidf= df[df[\"Code departement\"].isin(regionidf)]"
   ]
  },
  {
   "cell_type": "code",
   "execution_count": null,
   "metadata": {},
   "outputs": [
    {
     "name": "stdout",
     "output_type": "stream",
     "text": [
      "  Date mutation Nature mutation  Valeur fonciere B/T/Q Type de voie  \\\n",
      "0    05/01/2023           Vente      107000000.0   NaN          ALL   \n",
      "1    05/01/2023           Vente      107000000.0   NaN          ALL   \n",
      "2    05/01/2023           Vente      107000000.0   NaN          ALL   \n",
      "3    03/01/2023           Vente       15220000.0   NaN          RTE   \n",
      "4    05/01/2023           Vente       26900000.0     T          CHE   \n",
      "5    05/01/2023           Vente       26900000.0     T          CHE   \n",
      "6    05/01/2023           Vente       26900000.0     T          CHE   \n",
      "7    03/01/2023           Vente       77000000.0     A          RUE   \n",
      "8    06/01/2023           Vente         682000.0   NaN          NaN   \n",
      "9    06/01/2023         Echange        1004000.0   NaN          NaN   \n",
      "\n",
      "   Code voie                Voie  Code postal              Commune  \\\n",
      "0        124          DES HETRES         1630     ST-GENIS-POUILLY   \n",
      "1        124          DES HETRES         1630     ST-GENIS-POUILLY   \n",
      "2        124          DES HETRES         1630     ST-GENIS-POUILLY   \n",
      "3        107           DE PONCIN         1450    SERRIERES-SUR-AIN   \n",
      "4         40        DE L'AUBEPIN         1800  SAINT-JEAN-DE-NIOST   \n",
      "5         40        DE L'AUBEPIN         1800  SAINT-JEAN-DE-NIOST   \n",
      "6         40        DE L'AUBEPIN         1800  SAINT-JEAN-DE-NIOST   \n",
      "7        151  DU PARC DE VILLARD         1210                ORNEX   \n",
      "8       <NA>       ETANG DU BOIS         1480           VILLENEUVE   \n",
      "9       <NA>        CARRE ROCHER         1500    AMBERIEU-EN-BUGEY   \n",
      "\n",
      "   Code departement  Code commune No Volume  Nombre de lots  Code type local  \\\n",
      "0                 1           354       NaN               1              3.0   \n",
      "1                 1           354       NaN               1              3.0   \n",
      "2                 1           354       NaN               1              2.0   \n",
      "3                 1           404       NaN               0              1.0   \n",
      "4                 1           361       NaN               0              1.0   \n",
      "5                 1           361       NaN               0              3.0   \n",
      "6                 1           361       NaN               0              3.0   \n",
      "7                 1           281       NaN               0              1.0   \n",
      "8                 1           446       NaN               0              NaN   \n",
      "9                 1             4       NaN               0              NaN   \n",
      "\n",
      "    Type local  Surface reelle bati  Nombre pieces principales  \\\n",
      "0   Dépendance                  0.0                          0   \n",
      "1   Dépendance                  0.0                          0   \n",
      "2  Appartement                233.0                          8   \n",
      "3       Maison                 64.0                          3   \n",
      "4       Maison                 73.0                          3   \n",
      "5   Dépendance                  0.0                          0   \n",
      "6   Dépendance                  0.0                          0   \n",
      "7       Maison                136.0                          7   \n",
      "8          NaN                  NaN                       <NA>   \n",
      "9          NaN                  NaN                       <NA>   \n",
      "\n",
      "   Surface terrain  Surface Carrez total lots  \n",
      "0              NaN                        0.0  \n",
      "1              NaN                        0.0  \n",
      "2              NaN                        0.0  \n",
      "3            988.0                        0.0  \n",
      "4            835.0                        0.0  \n",
      "5            835.0                        0.0  \n",
      "6            835.0                        0.0  \n",
      "7            921.0                        0.0  \n",
      "8          17050.0                        0.0  \n",
      "9            124.0                        0.0  \n"
     ]
    }
   ],
   "source": [
    "print(df_regionidf.head(10))"
   ]
  },
  {
   "cell_type": "code",
   "execution_count": null,
   "metadata": {},
   "outputs": [
    {
     "name": "stdout",
     "output_type": "stream",
     "text": [
      "<class 'pandas.core.frame.DataFrame'>\n",
      "Index: 40970 entries, 0 to 40969\n",
      "Data columns (total 19 columns):\n",
      " #   Column                     Non-Null Count  Dtype  \n",
      "---  ------                     --------------  -----  \n",
      " 0   Date mutation              40970 non-null  object \n",
      " 1   Nature mutation            40970 non-null  object \n",
      " 2   Valeur fonciere            40732 non-null  float64\n",
      " 3   B/T/Q                      1108 non-null   object \n",
      " 4   Type de voie               18829 non-null  object \n",
      " 5   Code voie                  18580 non-null  Int64  \n",
      " 6   Voie                       40513 non-null  object \n",
      " 7   Code postal                40513 non-null  Int64  \n",
      " 8   Commune                    40970 non-null  object \n",
      " 9   Code departement           40970 non-null  Int64  \n",
      " 10  Code commune               40970 non-null  int64  \n",
      " 11  No Volume                  90 non-null     object \n",
      " 12  Nombre de lots             40970 non-null  int64  \n",
      " 13  Code type local            19112 non-null  float64\n",
      " 14  Type local                 19112 non-null  object \n",
      " 15  Surface reelle bati        19058 non-null  float64\n",
      " 16  Nombre pieces principales  19058 non-null  Int64  \n",
      " 17  Surface terrain            30204 non-null  float64\n",
      " 18  Surface Carrez total lots  40970 non-null  float64\n",
      "dtypes: Int64(4), float64(5), int64(2), object(8)\n",
      "memory usage: 6.4+ MB\n",
      "None\n"
     ]
    }
   ],
   "source": [
    "print(df_regionidf.info())"
   ]
  },
  {
   "cell_type": "code",
   "execution_count": null,
   "metadata": {},
   "outputs": [
    {
     "name": "stdout",
     "output_type": "stream",
     "text": [
      "0        1630\n",
      "1        1630\n",
      "2        1630\n",
      "3        1450\n",
      "4        1800\n",
      "         ... \n",
      "40965    1210\n",
      "40966    1210\n",
      "40967    1210\n",
      "40968    1210\n",
      "40969    1630\n",
      "Name: Code postal, Length: 40970, dtype: Int64\n",
      "0             124 ALL DES HETRES 1630\n",
      "1             124 ALL DES HETRES 1630\n",
      "2             124 ALL DES HETRES 1630\n",
      "3              107 RTE DE PONCIN 1450\n",
      "4            40 CHE DE L'AUBEPIN 1800\n",
      "                     ...             \n",
      "40965    122 AV DES SABLONNIERES 1210\n",
      "40966    122 AV DES SABLONNIERES 1210\n",
      "40967    122 AV DES SABLONNIERES 1210\n",
      "40968    122 AV DES SABLONNIERES 1210\n",
      "40969      188 RUE BLAISE PASCAL 1630\n",
      "Name: Adresse, Length: 40970, dtype: object\n"
     ]
    },
    {
     "name": "stderr",
     "output_type": "stream",
     "text": [
      "C:\\Users\\Julie Mahot\\AppData\\Local\\Temp\\ipykernel_9968\\1816410747.py:3: SettingWithCopyWarning: \n",
      "A value is trying to be set on a copy of a slice from a DataFrame.\n",
      "Try using .loc[row_indexer,col_indexer] = value instead\n",
      "\n",
      "See the caveats in the documentation: https://pandas.pydata.org/pandas-docs/stable/user_guide/indexing.html#returning-a-view-versus-a-copy\n",
      "  df_regionidf['Adresse'] = df_regionidf['Code voie'].astype(str) + ' ' + df_regionidf['Type de voie'].astype(str) + ' ' + df_regionidf['Voie'] + ' ' + df_regionidf['Code postal'].astype(str)\n"
     ]
    }
   ],
   "source": [
    "print(df_regionidf['Code postal'])\n",
    "\n",
    "df_regionidf['Adresse'] = df_regionidf['Code voie'].astype(str) + ' ' + df_regionidf['Type de voie'].astype(str) + ' ' + df_regionidf['Voie'] + ' ' + df_regionidf['Code postal'].astype(str)\n",
    "print(df_regionidf['Adresse'])"
   ]
  }
 ],
 "metadata": {
  "kernelspec": {
   "display_name": "Python 3",
   "language": "python",
   "name": "python3"
  },
  "language_info": {
   "codemirror_mode": {
    "name": "ipython",
    "version": 3
   },
   "file_extension": ".py",
   "mimetype": "text/x-python",
   "name": "python",
   "nbconvert_exporter": "python",
   "pygments_lexer": "ipython3",
   "version": "3.12.3"
  }
 },
 "nbformat": 4,
 "nbformat_minor": 2
}
